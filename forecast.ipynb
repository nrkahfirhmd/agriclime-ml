{
 "cells": [
  {
   "cell_type": "code",
   "execution_count": 1,
   "metadata": {},
   "outputs": [],
   "source": [
    "import pandas as pd\n",
    "import numpy as np\n",
    "import matplotlib.pyplot as plt\n",
    "import tensorflow as tf"
   ]
  },
  {
   "cell_type": "code",
   "execution_count": 2,
   "metadata": {},
   "outputs": [],
   "source": [
    "df = pd.read_csv('weather_data.csv')"
   ]
  },
  {
   "cell_type": "code",
   "execution_count": 3,
   "metadata": {},
   "outputs": [],
   "source": [
    "df = pd.DataFrame(df)"
   ]
  },
  {
   "cell_type": "code",
   "execution_count": 4,
   "metadata": {},
   "outputs": [
    {
     "data": {
      "text/html": [
       "<div>\n",
       "<style scoped>\n",
       "    .dataframe tbody tr th:only-of-type {\n",
       "        vertical-align: middle;\n",
       "    }\n",
       "\n",
       "    .dataframe tbody tr th {\n",
       "        vertical-align: top;\n",
       "    }\n",
       "\n",
       "    .dataframe thead th {\n",
       "        text-align: right;\n",
       "    }\n",
       "</style>\n",
       "<table border=\"1\" class=\"dataframe\">\n",
       "  <thead>\n",
       "    <tr style=\"text-align: right;\">\n",
       "      <th></th>\n",
       "      <th>time</th>\n",
       "      <th>temp</th>\n",
       "      <th>wind_speed</th>\n",
       "      <th>wind_degree</th>\n",
       "      <th>pressure</th>\n",
       "      <th>precip</th>\n",
       "      <th>humidity</th>\n",
       "      <th>cloud</th>\n",
       "      <th>uv</th>\n",
       "      <th>weather</th>\n",
       "    </tr>\n",
       "  </thead>\n",
       "  <tbody>\n",
       "    <tr>\n",
       "      <th>0</th>\n",
       "      <td>2024-10-22 00:00</td>\n",
       "      <td>26.1</td>\n",
       "      <td>7.9</td>\n",
       "      <td>179</td>\n",
       "      <td>29.86</td>\n",
       "      <td>0.0</td>\n",
       "      <td>74</td>\n",
       "      <td>35</td>\n",
       "      <td>0.0</td>\n",
       "      <td>1003</td>\n",
       "    </tr>\n",
       "    <tr>\n",
       "      <th>1</th>\n",
       "      <td>2024-10-22 01:00</td>\n",
       "      <td>26.0</td>\n",
       "      <td>7.2</td>\n",
       "      <td>188</td>\n",
       "      <td>29.85</td>\n",
       "      <td>0.0</td>\n",
       "      <td>74</td>\n",
       "      <td>32</td>\n",
       "      <td>0.0</td>\n",
       "      <td>1003</td>\n",
       "    </tr>\n",
       "    <tr>\n",
       "      <th>2</th>\n",
       "      <td>2024-10-22 02:00</td>\n",
       "      <td>25.8</td>\n",
       "      <td>6.1</td>\n",
       "      <td>185</td>\n",
       "      <td>29.84</td>\n",
       "      <td>0.0</td>\n",
       "      <td>73</td>\n",
       "      <td>26</td>\n",
       "      <td>0.0</td>\n",
       "      <td>1003</td>\n",
       "    </tr>\n",
       "    <tr>\n",
       "      <th>3</th>\n",
       "      <td>2024-10-22 03:00</td>\n",
       "      <td>25.5</td>\n",
       "      <td>6.5</td>\n",
       "      <td>168</td>\n",
       "      <td>29.84</td>\n",
       "      <td>0.0</td>\n",
       "      <td>73</td>\n",
       "      <td>34</td>\n",
       "      <td>0.0</td>\n",
       "      <td>1003</td>\n",
       "    </tr>\n",
       "    <tr>\n",
       "      <th>4</th>\n",
       "      <td>2024-10-22 04:00</td>\n",
       "      <td>25.5</td>\n",
       "      <td>6.1</td>\n",
       "      <td>183</td>\n",
       "      <td>29.85</td>\n",
       "      <td>0.0</td>\n",
       "      <td>72</td>\n",
       "      <td>20</td>\n",
       "      <td>0.0</td>\n",
       "      <td>1000</td>\n",
       "    </tr>\n",
       "  </tbody>\n",
       "</table>\n",
       "</div>"
      ],
      "text/plain": [
       "               time  temp  wind_speed  wind_degree  pressure  precip  \\\n",
       "0  2024-10-22 00:00  26.1         7.9          179     29.86     0.0   \n",
       "1  2024-10-22 01:00  26.0         7.2          188     29.85     0.0   \n",
       "2  2024-10-22 02:00  25.8         6.1          185     29.84     0.0   \n",
       "3  2024-10-22 03:00  25.5         6.5          168     29.84     0.0   \n",
       "4  2024-10-22 04:00  25.5         6.1          183     29.85     0.0   \n",
       "\n",
       "   humidity  cloud   uv  weather  \n",
       "0        74     35  0.0     1003  \n",
       "1        74     32  0.0     1003  \n",
       "2        73     26  0.0     1003  \n",
       "3        73     34  0.0     1003  \n",
       "4        72     20  0.0     1000  "
      ]
     },
     "execution_count": 4,
     "metadata": {},
     "output_type": "execute_result"
    }
   ],
   "source": [
    "df.head(5)"
   ]
  },
  {
   "cell_type": "code",
   "execution_count": 5,
   "metadata": {},
   "outputs": [
    {
     "data": {
      "text/plain": [
       "0"
      ]
     },
     "execution_count": 5,
     "metadata": {},
     "output_type": "execute_result"
    }
   ],
   "source": [
    "df.duplicated().sum()"
   ]
  },
  {
   "cell_type": "code",
   "execution_count": 37,
   "metadata": {},
   "outputs": [],
   "source": [
    "training = df.drop(['time', 'weather', 'precip', 'uv'], axis=1)"
   ]
  },
  {
   "cell_type": "code",
   "execution_count": 38,
   "metadata": {},
   "outputs": [
    {
     "data": {
      "text/html": [
       "<div>\n",
       "<style scoped>\n",
       "    .dataframe tbody tr th:only-of-type {\n",
       "        vertical-align: middle;\n",
       "    }\n",
       "\n",
       "    .dataframe tbody tr th {\n",
       "        vertical-align: top;\n",
       "    }\n",
       "\n",
       "    .dataframe thead th {\n",
       "        text-align: right;\n",
       "    }\n",
       "</style>\n",
       "<table border=\"1\" class=\"dataframe\">\n",
       "  <thead>\n",
       "    <tr style=\"text-align: right;\">\n",
       "      <th></th>\n",
       "      <th>temp</th>\n",
       "      <th>wind_speed</th>\n",
       "      <th>wind_degree</th>\n",
       "      <th>pressure</th>\n",
       "      <th>humidity</th>\n",
       "      <th>cloud</th>\n",
       "    </tr>\n",
       "  </thead>\n",
       "  <tbody>\n",
       "    <tr>\n",
       "      <th>0</th>\n",
       "      <td>26.1</td>\n",
       "      <td>7.9</td>\n",
       "      <td>179</td>\n",
       "      <td>29.86</td>\n",
       "      <td>74</td>\n",
       "      <td>35</td>\n",
       "    </tr>\n",
       "    <tr>\n",
       "      <th>1</th>\n",
       "      <td>26.0</td>\n",
       "      <td>7.2</td>\n",
       "      <td>188</td>\n",
       "      <td>29.85</td>\n",
       "      <td>74</td>\n",
       "      <td>32</td>\n",
       "    </tr>\n",
       "    <tr>\n",
       "      <th>2</th>\n",
       "      <td>25.8</td>\n",
       "      <td>6.1</td>\n",
       "      <td>185</td>\n",
       "      <td>29.84</td>\n",
       "      <td>73</td>\n",
       "      <td>26</td>\n",
       "    </tr>\n",
       "    <tr>\n",
       "      <th>3</th>\n",
       "      <td>25.5</td>\n",
       "      <td>6.5</td>\n",
       "      <td>168</td>\n",
       "      <td>29.84</td>\n",
       "      <td>73</td>\n",
       "      <td>34</td>\n",
       "    </tr>\n",
       "    <tr>\n",
       "      <th>4</th>\n",
       "      <td>25.5</td>\n",
       "      <td>6.1</td>\n",
       "      <td>183</td>\n",
       "      <td>29.85</td>\n",
       "      <td>72</td>\n",
       "      <td>20</td>\n",
       "    </tr>\n",
       "  </tbody>\n",
       "</table>\n",
       "</div>"
      ],
      "text/plain": [
       "   temp  wind_speed  wind_degree  pressure  humidity  cloud\n",
       "0  26.1         7.9          179     29.86        74     35\n",
       "1  26.0         7.2          188     29.85        74     32\n",
       "2  25.8         6.1          185     29.84        73     26\n",
       "3  25.5         6.5          168     29.84        73     34\n",
       "4  25.5         6.1          183     29.85        72     20"
      ]
     },
     "execution_count": 38,
     "metadata": {},
     "output_type": "execute_result"
    }
   ],
   "source": [
    "training.head(5)"
   ]
  },
  {
   "cell_type": "code",
   "execution_count": 39,
   "metadata": {},
   "outputs": [],
   "source": [
    "from sklearn.preprocessing import MinMaxScaler\n",
    "\n",
    "scaler = MinMaxScaler()\n",
    "train_scaled = scaler.fit_transform(training)"
   ]
  },
  {
   "cell_type": "code",
   "execution_count": 40,
   "metadata": {},
   "outputs": [],
   "source": [
    "# from sklearn.preprocessing import StandardScaler\n",
    "\n",
    "# scaler = StandardScaler()\n",
    "# train_scaled = scaler.fit_transform(training)"
   ]
  },
  {
   "cell_type": "code",
   "execution_count": 41,
   "metadata": {},
   "outputs": [
    {
     "data": {
      "text/html": [
       "<div>\n",
       "<style scoped>\n",
       "    .dataframe tbody tr th:only-of-type {\n",
       "        vertical-align: middle;\n",
       "    }\n",
       "\n",
       "    .dataframe tbody tr th {\n",
       "        vertical-align: top;\n",
       "    }\n",
       "\n",
       "    .dataframe thead th {\n",
       "        text-align: right;\n",
       "    }\n",
       "</style>\n",
       "<table border=\"1\" class=\"dataframe\">\n",
       "  <thead>\n",
       "    <tr style=\"text-align: right;\">\n",
       "      <th></th>\n",
       "      <th>0</th>\n",
       "      <th>1</th>\n",
       "      <th>2</th>\n",
       "      <th>3</th>\n",
       "      <th>4</th>\n",
       "      <th>5</th>\n",
       "    </tr>\n",
       "  </thead>\n",
       "  <tbody>\n",
       "    <tr>\n",
       "      <th>0</th>\n",
       "      <td>0.272</td>\n",
       "      <td>0.378788</td>\n",
       "      <td>0.500000</td>\n",
       "      <td>0.807692</td>\n",
       "      <td>0.637931</td>\n",
       "      <td>0.35</td>\n",
       "    </tr>\n",
       "    <tr>\n",
       "      <th>1</th>\n",
       "      <td>0.264</td>\n",
       "      <td>0.343434</td>\n",
       "      <td>0.525140</td>\n",
       "      <td>0.769231</td>\n",
       "      <td>0.637931</td>\n",
       "      <td>0.32</td>\n",
       "    </tr>\n",
       "    <tr>\n",
       "      <th>2</th>\n",
       "      <td>0.248</td>\n",
       "      <td>0.287879</td>\n",
       "      <td>0.516760</td>\n",
       "      <td>0.730769</td>\n",
       "      <td>0.620690</td>\n",
       "      <td>0.26</td>\n",
       "    </tr>\n",
       "    <tr>\n",
       "      <th>3</th>\n",
       "      <td>0.224</td>\n",
       "      <td>0.308081</td>\n",
       "      <td>0.469274</td>\n",
       "      <td>0.730769</td>\n",
       "      <td>0.620690</td>\n",
       "      <td>0.34</td>\n",
       "    </tr>\n",
       "    <tr>\n",
       "      <th>4</th>\n",
       "      <td>0.224</td>\n",
       "      <td>0.287879</td>\n",
       "      <td>0.511173</td>\n",
       "      <td>0.769231</td>\n",
       "      <td>0.603448</td>\n",
       "      <td>0.20</td>\n",
       "    </tr>\n",
       "  </tbody>\n",
       "</table>\n",
       "</div>"
      ],
      "text/plain": [
       "       0         1         2         3         4     5\n",
       "0  0.272  0.378788  0.500000  0.807692  0.637931  0.35\n",
       "1  0.264  0.343434  0.525140  0.769231  0.637931  0.32\n",
       "2  0.248  0.287879  0.516760  0.730769  0.620690  0.26\n",
       "3  0.224  0.308081  0.469274  0.730769  0.620690  0.34\n",
       "4  0.224  0.287879  0.511173  0.769231  0.603448  0.20"
      ]
     },
     "execution_count": 41,
     "metadata": {},
     "output_type": "execute_result"
    }
   ],
   "source": [
    "pd.DataFrame(train_scaled).head(5)"
   ]
  },
  {
   "cell_type": "code",
   "execution_count": 42,
   "metadata": {},
   "outputs": [],
   "source": [
    "def create_sequences(data, sequence_length, forecast_horizon):\n",
    "    X, y = [], []\n",
    "    for i in range(len(data) - sequence_length - forecast_horizon):\n",
    "        X.append(data[i:i + sequence_length, :])\n",
    "        y.append(data[i + sequence_length:i + sequence_length + forecast_horizon, :])\n",
    "        \n",
    "    return np.array(X), np.array(y)"
   ]
  },
  {
   "cell_type": "code",
   "execution_count": 43,
   "metadata": {},
   "outputs": [],
   "source": [
    "sequence_length = 5\n",
    "forecast_horizon = 1\n",
    "\n",
    "X, y = create_sequences(train_scaled, sequence_length, forecast_horizon)"
   ]
  },
  {
   "cell_type": "code",
   "execution_count": 44,
   "metadata": {},
   "outputs": [],
   "source": [
    "split_ratio = 0.9\n",
    "split = int(split_ratio * len(X))\n",
    "\n",
    "x_train, x_test = X[:split], X[split:]\n",
    "y_train, y_test = y[:split], y[split:]"
   ]
  },
  {
   "cell_type": "code",
   "execution_count": 116,
   "metadata": {},
   "outputs": [],
   "source": [
    "num_features = X.shape[2]\n",
    "\n",
    "model = tf.keras.Sequential([\n",
    "    tf.keras.layers.Input(shape=(sequence_length, num_features)),\n",
    "    tf.keras.layers.Bidirectional(tf.keras.layers.LSTM(128, activation='tanh', return_sequences=True)),\n",
    "    # tf.keras.layers.Dropout(0.2),\n",
    "    tf.keras.layers.Bidirectional(tf.keras.layers.GRU(64, activation='tanh', return_sequences=True)),\n",
    "    # tf.keras.layers.Dropout(0.2),\n",
    "    tf.keras.layers.Bidirectional(tf.keras.layers.LSTM(32, activation='tanh', return_sequences=False)),\n",
    "    tf.keras.layers.Dense(128, activation='relu'),\n",
    "    # tf.keras.layers.Dropout(0.2),\n",
    "    tf.keras.layers.Dense(64, activation='relu'),\n",
    "    # tf.keras.layers.Dropout(0.2),\n",
    "    tf.keras.layers.Dense(num_features * forecast_horizon),\n",
    "    tf.keras.layers.Reshape((forecast_horizon, num_features))\n",
    "])\n",
    "\n",
    "model.compile(optimizer='adam', loss='mse', metrics=['accuracy', 'mae'])"
   ]
  },
  {
   "cell_type": "code",
   "execution_count": 117,
   "metadata": {},
   "outputs": [
    {
     "name": "stdout",
     "output_type": "stream",
     "text": [
      "Model: \"sequential_14\"\n",
      "_________________________________________________________________\n",
      " Layer (type)                Output Shape              Param #   \n",
      "=================================================================\n",
      " bidirectional_8 (Bidirectio  (None, 5, 256)           138240    \n",
      " nal)                                                            \n",
      "                                                                 \n",
      " bidirectional_9 (Bidirectio  (None, 5, 128)           123648    \n",
      " nal)                                                            \n",
      "                                                                 \n",
      " bidirectional_10 (Bidirecti  (None, 64)               41216     \n",
      " onal)                                                           \n",
      "                                                                 \n",
      " dense_35 (Dense)            (None, 128)               8320      \n",
      "                                                                 \n",
      " dense_36 (Dense)            (None, 64)                8256      \n",
      "                                                                 \n",
      " dense_37 (Dense)            (None, 6)                 390       \n",
      "                                                                 \n",
      " reshape_14 (Reshape)        (None, 1, 6)              0         \n",
      "                                                                 \n",
      "=================================================================\n",
      "Total params: 320,070\n",
      "Trainable params: 320,070\n",
      "Non-trainable params: 0\n",
      "_________________________________________________________________\n"
     ]
    }
   ],
   "source": [
    "model.summary()"
   ]
  },
  {
   "cell_type": "code",
   "execution_count": 118,
   "metadata": {},
   "outputs": [
    {
     "name": "stdout",
     "output_type": "stream",
     "text": [
      "Epoch 1/50\n",
      "43/43 [==============================] - 18s 69ms/step - loss: 0.0656 - accuracy: 0.3518 - mae: 0.1992 - val_loss: 0.0358 - val_accuracy: 0.1688 - val_mae: 0.1557\n",
      "Epoch 2/50\n",
      "43/43 [==============================] - 1s 13ms/step - loss: 0.0241 - accuracy: 0.5737 - mae: 0.1208 - val_loss: 0.0232 - val_accuracy: 0.6883 - val_mae: 0.1151\n",
      "Epoch 3/50\n",
      "43/43 [==============================] - 1s 25ms/step - loss: 0.0190 - accuracy: 0.5869 - mae: 0.1035 - val_loss: 0.0208 - val_accuracy: 0.6234 - val_mae: 0.1068\n",
      "Epoch 4/50\n",
      "43/43 [==============================] - 1s 16ms/step - loss: 0.0160 - accuracy: 0.6569 - mae: 0.0928 - val_loss: 0.0161 - val_accuracy: 0.7013 - val_mae: 0.0926\n",
      "Epoch 5/50\n",
      "43/43 [==============================] - 1s 18ms/step - loss: 0.0145 - accuracy: 0.6511 - mae: 0.0868 - val_loss: 0.0144 - val_accuracy: 0.7143 - val_mae: 0.0848\n",
      "Epoch 6/50\n",
      "43/43 [==============================] - 1s 16ms/step - loss: 0.0131 - accuracy: 0.6526 - mae: 0.0811 - val_loss: 0.0165 - val_accuracy: 0.6494 - val_mae: 0.0904\n",
      "Epoch 7/50\n",
      "43/43 [==============================] - 1s 20ms/step - loss: 0.0128 - accuracy: 0.6788 - mae: 0.0787 - val_loss: 0.0127 - val_accuracy: 0.7273 - val_mae: 0.0756\n",
      "Epoch 8/50\n",
      "43/43 [==============================] - 1s 16ms/step - loss: 0.0120 - accuracy: 0.7182 - mae: 0.0752 - val_loss: 0.0134 - val_accuracy: 0.7273 - val_mae: 0.0775\n",
      "Epoch 9/50\n",
      "43/43 [==============================] - 1s 17ms/step - loss: 0.0114 - accuracy: 0.7080 - mae: 0.0732 - val_loss: 0.0124 - val_accuracy: 0.7273 - val_mae: 0.0704\n",
      "Epoch 10/50\n",
      "43/43 [==============================] - 1s 17ms/step - loss: 0.0111 - accuracy: 0.7226 - mae: 0.0714 - val_loss: 0.0138 - val_accuracy: 0.7013 - val_mae: 0.0796\n",
      "Epoch 11/50\n",
      "43/43 [==============================] - 1s 18ms/step - loss: 0.0105 - accuracy: 0.7095 - mae: 0.0686 - val_loss: 0.0131 - val_accuracy: 0.7013 - val_mae: 0.0783\n",
      "Epoch 12/50\n",
      "43/43 [==============================] - 1s 18ms/step - loss: 0.0103 - accuracy: 0.7212 - mae: 0.0673 - val_loss: 0.0128 - val_accuracy: 0.7143 - val_mae: 0.0765\n",
      "Epoch 13/50\n",
      "43/43 [==============================] - 1s 16ms/step - loss: 0.0099 - accuracy: 0.7255 - mae: 0.0654 - val_loss: 0.0131 - val_accuracy: 0.7273 - val_mae: 0.0704\n",
      "Epoch 14/50\n",
      "43/43 [==============================] - 1s 16ms/step - loss: 0.0097 - accuracy: 0.7226 - mae: 0.0641 - val_loss: 0.0121 - val_accuracy: 0.7532 - val_mae: 0.0691\n",
      "Epoch 15/50\n",
      "43/43 [==============================] - 1s 16ms/step - loss: 0.0096 - accuracy: 0.7474 - mae: 0.0634 - val_loss: 0.0129 - val_accuracy: 0.6623 - val_mae: 0.0699\n",
      "Epoch 16/50\n",
      "43/43 [==============================] - 1s 16ms/step - loss: 0.0096 - accuracy: 0.7241 - mae: 0.0647 - val_loss: 0.0138 - val_accuracy: 0.7662 - val_mae: 0.0784\n",
      "Epoch 17/50\n",
      "43/43 [==============================] - 1s 16ms/step - loss: 0.0090 - accuracy: 0.7445 - mae: 0.0606 - val_loss: 0.0122 - val_accuracy: 0.7403 - val_mae: 0.0702\n",
      "Epoch 18/50\n",
      "43/43 [==============================] - 1s 16ms/step - loss: 0.0096 - accuracy: 0.7387 - mae: 0.0643 - val_loss: 0.0126 - val_accuracy: 0.7273 - val_mae: 0.0734\n",
      "Epoch 19/50\n",
      "43/43 [==============================] - 1s 17ms/step - loss: 0.0093 - accuracy: 0.7358 - mae: 0.0641 - val_loss: 0.0128 - val_accuracy: 0.7013 - val_mae: 0.0702\n",
      "Epoch 20/50\n",
      "43/43 [==============================] - 1s 18ms/step - loss: 0.0089 - accuracy: 0.7431 - mae: 0.0611 - val_loss: 0.0138 - val_accuracy: 0.7273 - val_mae: 0.0758\n",
      "Epoch 21/50\n",
      "43/43 [==============================] - 1s 17ms/step - loss: 0.0090 - accuracy: 0.7518 - mae: 0.0609 - val_loss: 0.0143 - val_accuracy: 0.6753 - val_mae: 0.0759\n",
      "Epoch 22/50\n",
      "43/43 [==============================] - 1s 17ms/step - loss: 0.0086 - accuracy: 0.7387 - mae: 0.0586 - val_loss: 0.0122 - val_accuracy: 0.7403 - val_mae: 0.0721\n",
      "Epoch 23/50\n",
      "43/43 [==============================] - 1s 20ms/step - loss: 0.0083 - accuracy: 0.7577 - mae: 0.0574 - val_loss: 0.0124 - val_accuracy: 0.7662 - val_mae: 0.0679\n",
      "Epoch 24/50\n",
      "43/43 [==============================] - 1s 17ms/step - loss: 0.0084 - accuracy: 0.7650 - mae: 0.0584 - val_loss: 0.0115 - val_accuracy: 0.7532 - val_mae: 0.0675\n",
      "Epoch 25/50\n",
      "43/43 [==============================] - 1s 16ms/step - loss: 0.0084 - accuracy: 0.7460 - mae: 0.0590 - val_loss: 0.0144 - val_accuracy: 0.6753 - val_mae: 0.0699\n",
      "Epoch 26/50\n",
      "43/43 [==============================] - 1s 16ms/step - loss: 0.0082 - accuracy: 0.7533 - mae: 0.0579 - val_loss: 0.0134 - val_accuracy: 0.7403 - val_mae: 0.0691\n",
      "Epoch 27/50\n",
      "43/43 [==============================] - 1s 16ms/step - loss: 0.0080 - accuracy: 0.7650 - mae: 0.0563 - val_loss: 0.0127 - val_accuracy: 0.7143 - val_mae: 0.0672\n",
      "Epoch 28/50\n",
      "43/43 [==============================] - 1s 16ms/step - loss: 0.0079 - accuracy: 0.7766 - mae: 0.0561 - val_loss: 0.0113 - val_accuracy: 0.7532 - val_mae: 0.0655\n",
      "Epoch 29/50\n",
      "43/43 [==============================] - 1s 16ms/step - loss: 0.0085 - accuracy: 0.7562 - mae: 0.0598 - val_loss: 0.0109 - val_accuracy: 0.7792 - val_mae: 0.0637\n",
      "Epoch 30/50\n",
      "43/43 [==============================] - 1s 17ms/step - loss: 0.0084 - accuracy: 0.7504 - mae: 0.0584 - val_loss: 0.0151 - val_accuracy: 0.6883 - val_mae: 0.0803\n",
      "Epoch 31/50\n",
      "43/43 [==============================] - 1s 16ms/step - loss: 0.0080 - accuracy: 0.7620 - mae: 0.0572 - val_loss: 0.0121 - val_accuracy: 0.7403 - val_mae: 0.0716\n",
      "Epoch 32/50\n",
      "43/43 [==============================] - 1s 19ms/step - loss: 0.0076 - accuracy: 0.7693 - mae: 0.0552 - val_loss: 0.0116 - val_accuracy: 0.7792 - val_mae: 0.0659\n",
      "Epoch 33/50\n",
      "43/43 [==============================] - 1s 18ms/step - loss: 0.0077 - accuracy: 0.7431 - mae: 0.0572 - val_loss: 0.0135 - val_accuracy: 0.7532 - val_mae: 0.0751\n",
      "Epoch 34/50\n",
      "43/43 [==============================] - 1s 14ms/step - loss: 0.0079 - accuracy: 0.7664 - mae: 0.0576 - val_loss: 0.0124 - val_accuracy: 0.7403 - val_mae: 0.0742\n",
      "Epoch 35/50\n",
      "43/43 [==============================] - 1s 15ms/step - loss: 0.0077 - accuracy: 0.7650 - mae: 0.0568 - val_loss: 0.0127 - val_accuracy: 0.7013 - val_mae: 0.0751\n",
      "Epoch 36/50\n",
      "43/43 [==============================] - 1s 14ms/step - loss: 0.0073 - accuracy: 0.7723 - mae: 0.0539 - val_loss: 0.0124 - val_accuracy: 0.7532 - val_mae: 0.0740\n",
      "Epoch 37/50\n",
      "43/43 [==============================] - 1s 14ms/step - loss: 0.0078 - accuracy: 0.7401 - mae: 0.0577 - val_loss: 0.0127 - val_accuracy: 0.7403 - val_mae: 0.0716\n",
      "Epoch 38/50\n",
      "43/43 [==============================] - 1s 16ms/step - loss: 0.0073 - accuracy: 0.7679 - mae: 0.0544 - val_loss: 0.0128 - val_accuracy: 0.7273 - val_mae: 0.0689\n",
      "Epoch 39/50\n",
      "43/43 [==============================] - 1s 14ms/step - loss: 0.0071 - accuracy: 0.7810 - mae: 0.0538 - val_loss: 0.0130 - val_accuracy: 0.7403 - val_mae: 0.0677\n",
      "Epoch 40/50\n",
      "43/43 [==============================] - 1s 13ms/step - loss: 0.0071 - accuracy: 0.7781 - mae: 0.0542 - val_loss: 0.0128 - val_accuracy: 0.7273 - val_mae: 0.0726\n",
      "Epoch 41/50\n",
      "43/43 [==============================] - 1s 13ms/step - loss: 0.0072 - accuracy: 0.7679 - mae: 0.0546 - val_loss: 0.0123 - val_accuracy: 0.7013 - val_mae: 0.0714\n",
      "Epoch 42/50\n",
      "43/43 [==============================] - 1s 13ms/step - loss: 0.0070 - accuracy: 0.7708 - mae: 0.0528 - val_loss: 0.0119 - val_accuracy: 0.7662 - val_mae: 0.0682\n",
      "Epoch 43/50\n",
      "43/43 [==============================] - 1s 13ms/step - loss: 0.0068 - accuracy: 0.7825 - mae: 0.0530 - val_loss: 0.0123 - val_accuracy: 0.7532 - val_mae: 0.0713\n",
      "Epoch 44/50\n",
      "43/43 [==============================] - 1s 14ms/step - loss: 0.0070 - accuracy: 0.7766 - mae: 0.0543 - val_loss: 0.0123 - val_accuracy: 0.7662 - val_mae: 0.0651\n",
      "Epoch 45/50\n",
      "43/43 [==============================] - 1s 13ms/step - loss: 0.0071 - accuracy: 0.7679 - mae: 0.0548 - val_loss: 0.0112 - val_accuracy: 0.7403 - val_mae: 0.0661\n",
      "Epoch 46/50\n",
      "43/43 [==============================] - 1s 15ms/step - loss: 0.0065 - accuracy: 0.7927 - mae: 0.0514 - val_loss: 0.0111 - val_accuracy: 0.7532 - val_mae: 0.0629\n",
      "Epoch 47/50\n",
      "43/43 [==============================] - 1s 15ms/step - loss: 0.0062 - accuracy: 0.7912 - mae: 0.0502 - val_loss: 0.0122 - val_accuracy: 0.7532 - val_mae: 0.0692\n",
      "Epoch 48/50\n",
      "43/43 [==============================] - 1s 13ms/step - loss: 0.0071 - accuracy: 0.7825 - mae: 0.0548 - val_loss: 0.0117 - val_accuracy: 0.7273 - val_mae: 0.0686\n",
      "Epoch 49/50\n",
      "43/43 [==============================] - 1s 13ms/step - loss: 0.0069 - accuracy: 0.7752 - mae: 0.0538 - val_loss: 0.0121 - val_accuracy: 0.7273 - val_mae: 0.0690\n",
      "Epoch 50/50\n",
      "43/43 [==============================] - 1s 14ms/step - loss: 0.0068 - accuracy: 0.7898 - mae: 0.0530 - val_loss: 0.0125 - val_accuracy: 0.7143 - val_mae: 0.0686\n"
     ]
    }
   ],
   "source": [
    "history = model.fit(x_train, y_train, validation_data=(x_test, y_test), epochs=50, batch_size=16, verbose=1)"
   ]
  },
  {
   "cell_type": "code",
   "execution_count": 119,
   "metadata": {},
   "outputs": [
    {
     "data": {
      "image/png": "[encoded data removed]",
      "text/plain": [
       "<Figure size 640x480 with 1 Axes>"
      ]
     },
     "metadata": {},
     "output_type": "display_data"
    }
   ],
   "source": [
    "plt.plot(history.history['loss'], color='g', label='Training Loss')\n",
    "plt.plot(history.history['val_loss'], color='b', label='Validation Loss')\n",
    "plt.title(\"Loss vs Val Loss\")\n",
    "plt.legend()\n",
    "plt.show()"
   ]
  },
  {
   "cell_type": "code",
   "execution_count": 120,
   "metadata": {},
   "outputs": [
    {
     "data": {
      "image/png": "[encoded data removed]",
      "text/plain": [
       "<Figure size 640x480 with 1 Axes>"
      ]
     },
     "metadata": {},
     "output_type": "display_data"
    }
   ],
   "source": [
    "plt.plot(history.history['accuracy'], color='g', label='Training Loss')\n",
    "plt.plot(history.history['val_accuracy'], color='b', label='Validation Loss')\n",
    "plt.title(\"Accuracy vs Val Accuracy\")\n",
    "plt.legend()\n",
    "plt.show()"
   ]
  },
  {
   "cell_type": "code",
   "execution_count": 121,
   "metadata": {},
   "outputs": [
    {
     "name": "stdout",
     "output_type": "stream",
     "text": [
      "Loss : 0.012540275231003761, MAE : 0.0686318427324295, Validation Accuracy : 0.7142857313156128\n"
     ]
    }
   ],
   "source": [
    "loss, accuracy, mae = model.evaluate(x_test, y_test, verbose=0)\n",
    "print(\"Loss : {}, MAE : {}, Validation Accuracy : {}\".format(loss, mae, accuracy))"
   ]
  },
  {
   "cell_type": "code",
   "execution_count": 122,
   "metadata": {},
   "outputs": [
    {
     "name": "stdout",
     "output_type": "stream",
     "text": [
      "3/3 [==============================] - 3s 6ms/step\n",
      "[[27.568584  8.391356 62.361732 29.729633 67.19436  70.358894]]\n",
      "[[27.4   7.2  52.   29.73 71.   71.  ]]\n"
     ]
    }
   ],
   "source": [
    "predictions = model.predict(x_test)\n",
    "\n",
    "print(scaler.inverse_transform(predictions[0]))\n",
    "print(scaler.inverse_transform(y_test[0]))"
   ]
  },
  {
   "cell_type": "code",
   "execution_count": 123,
   "metadata": {},
   "outputs": [],
   "source": [
    "# model.save('forecasting.h5')"
   ]
  }
 ],
 "metadata": {
  "kernelspec": {
   "display_name": "Tensor",
   "language": "python",
   "name": "python3"
  },
  "language_info": {
   "codemirror_mode": {
    "name": "ipython",
    "version": 3
   },
   "file_extension": ".py",
   "mimetype": "text/x-python",
   "name": "python",
   "nbconvert_exporter": "python",
   "pygments_lexer": "ipython3",
   "version": "3.7.16"
  }
 },
 "nbformat": 4,
 "nbformat_minor": 2
}
