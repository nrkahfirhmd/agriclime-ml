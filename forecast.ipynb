{
 "cells": [
  {
   "cell_type": "code",
   "execution_count": 1,
   "metadata": {},
   "outputs": [],
   "source": [
    "import pandas as pd\n",
    "import numpy as np\n",
    "import matplotlib.pyplot as plt\n",
    "import tensorflow as tf"
   ]
  },
  {
   "cell_type": "code",
   "execution_count": 2,
   "metadata": {},
   "outputs": [],
   "source": [
    "df = pd.read_csv('weather_data.csv')"
   ]
  },
  {
   "cell_type": "code",
   "execution_count": 3,
   "metadata": {},
   "outputs": [],
   "source": [
    "df = pd.DataFrame(df)"
   ]
  },
  {
   "cell_type": "code",
   "execution_count": 4,
   "metadata": {},
   "outputs": [
    {
     "data": {
      "text/html": [
       "<div>\n",
       "<style scoped>\n",
       "    .dataframe tbody tr th:only-of-type {\n",
       "        vertical-align: middle;\n",
       "    }\n",
       "\n",
       "    .dataframe tbody tr th {\n",
       "        vertical-align: top;\n",
       "    }\n",
       "\n",
       "    .dataframe thead th {\n",
       "        text-align: right;\n",
       "    }\n",
       "</style>\n",
       "<table border=\"1\" class=\"dataframe\">\n",
       "  <thead>\n",
       "    <tr style=\"text-align: right;\">\n",
       "      <th></th>\n",
       "      <th>time</th>\n",
       "      <th>temp</th>\n",
       "      <th>wind_speed</th>\n",
       "      <th>wind_degree</th>\n",
       "      <th>pressure</th>\n",
       "      <th>precip</th>\n",
       "      <th>humidity</th>\n",
       "      <th>cloud</th>\n",
       "      <th>uv</th>\n",
       "      <th>weather</th>\n",
       "    </tr>\n",
       "  </thead>\n",
       "  <tbody>\n",
       "    <tr>\n",
       "      <th>0</th>\n",
       "      <td>2024-10-22 00:00</td>\n",
       "      <td>26.1</td>\n",
       "      <td>7.9</td>\n",
       "      <td>179</td>\n",
       "      <td>29.86</td>\n",
       "      <td>0.0</td>\n",
       "      <td>74</td>\n",
       "      <td>35</td>\n",
       "      <td>0.0</td>\n",
       "      <td>1003</td>\n",
       "    </tr>\n",
       "    <tr>\n",
       "      <th>1</th>\n",
       "      <td>2024-10-22 01:00</td>\n",
       "      <td>26.0</td>\n",
       "      <td>7.2</td>\n",
       "      <td>188</td>\n",
       "      <td>29.85</td>\n",
       "      <td>0.0</td>\n",
       "      <td>74</td>\n",
       "      <td>32</td>\n",
       "      <td>0.0</td>\n",
       "      <td>1003</td>\n",
       "    </tr>\n",
       "    <tr>\n",
       "      <th>2</th>\n",
       "      <td>2024-10-22 02:00</td>\n",
       "      <td>25.8</td>\n",
       "      <td>6.1</td>\n",
       "      <td>185</td>\n",
       "      <td>29.84</td>\n",
       "      <td>0.0</td>\n",
       "      <td>73</td>\n",
       "      <td>26</td>\n",
       "      <td>0.0</td>\n",
       "      <td>1003</td>\n",
       "    </tr>\n",
       "    <tr>\n",
       "      <th>3</th>\n",
       "      <td>2024-10-22 03:00</td>\n",
       "      <td>25.5</td>\n",
       "      <td>6.5</td>\n",
       "      <td>168</td>\n",
       "      <td>29.84</td>\n",
       "      <td>0.0</td>\n",
       "      <td>73</td>\n",
       "      <td>34</td>\n",
       "      <td>0.0</td>\n",
       "      <td>1003</td>\n",
       "    </tr>\n",
       "    <tr>\n",
       "      <th>4</th>\n",
       "      <td>2024-10-22 04:00</td>\n",
       "      <td>25.5</td>\n",
       "      <td>6.1</td>\n",
       "      <td>183</td>\n",
       "      <td>29.85</td>\n",
       "      <td>0.0</td>\n",
       "      <td>72</td>\n",
       "      <td>20</td>\n",
       "      <td>0.0</td>\n",
       "      <td>1000</td>\n",
       "    </tr>\n",
       "  </tbody>\n",
       "</table>\n",
       "</div>"
      ],
      "text/plain": [
       "               time  temp  wind_speed  wind_degree  pressure  precip  \\\n",
       "0  2024-10-22 00:00  26.1         7.9          179     29.86     0.0   \n",
       "1  2024-10-22 01:00  26.0         7.2          188     29.85     0.0   \n",
       "2  2024-10-22 02:00  25.8         6.1          185     29.84     0.0   \n",
       "3  2024-10-22 03:00  25.5         6.5          168     29.84     0.0   \n",
       "4  2024-10-22 04:00  25.5         6.1          183     29.85     0.0   \n",
       "\n",
       "   humidity  cloud   uv  weather  \n",
       "0        74     35  0.0     1003  \n",
       "1        74     32  0.0     1003  \n",
       "2        73     26  0.0     1003  \n",
       "3        73     34  0.0     1003  \n",
       "4        72     20  0.0     1000  "
      ]
     },
     "execution_count": 4,
     "metadata": {},
     "output_type": "execute_result"
    }
   ],
   "source": [
    "df.head(5)"
   ]
  },
  {
   "cell_type": "code",
   "execution_count": 5,
   "metadata": {},
   "outputs": [
    {
     "data": {
      "text/plain": [
       "0"
      ]
     },
     "execution_count": 5,
     "metadata": {},
     "output_type": "execute_result"
    }
   ],
   "source": [
    "df.duplicated().sum()"
   ]
  },
  {
   "cell_type": "code",
   "execution_count": 6,
   "metadata": {},
   "outputs": [],
   "source": [
    "training = df.drop(['time', 'weather', 'precip', 'uv'], axis=1)"
   ]
  },
  {
   "cell_type": "code",
   "execution_count": 7,
   "metadata": {},
   "outputs": [
    {
     "data": {
      "text/html": [
       "<div>\n",
       "<style scoped>\n",
       "    .dataframe tbody tr th:only-of-type {\n",
       "        vertical-align: middle;\n",
       "    }\n",
       "\n",
       "    .dataframe tbody tr th {\n",
       "        vertical-align: top;\n",
       "    }\n",
       "\n",
       "    .dataframe thead th {\n",
       "        text-align: right;\n",
       "    }\n",
       "</style>\n",
       "<table border=\"1\" class=\"dataframe\">\n",
       "  <thead>\n",
       "    <tr style=\"text-align: right;\">\n",
       "      <th></th>\n",
       "      <th>temp</th>\n",
       "      <th>wind_speed</th>\n",
       "      <th>wind_degree</th>\n",
       "      <th>pressure</th>\n",
       "      <th>humidity</th>\n",
       "      <th>cloud</th>\n",
       "    </tr>\n",
       "  </thead>\n",
       "  <tbody>\n",
       "    <tr>\n",
       "      <th>0</th>\n",
       "      <td>26.1</td>\n",
       "      <td>7.9</td>\n",
       "      <td>179</td>\n",
       "      <td>29.86</td>\n",
       "      <td>74</td>\n",
       "      <td>35</td>\n",
       "    </tr>\n",
       "    <tr>\n",
       "      <th>1</th>\n",
       "      <td>26.0</td>\n",
       "      <td>7.2</td>\n",
       "      <td>188</td>\n",
       "      <td>29.85</td>\n",
       "      <td>74</td>\n",
       "      <td>32</td>\n",
       "    </tr>\n",
       "    <tr>\n",
       "      <th>2</th>\n",
       "      <td>25.8</td>\n",
       "      <td>6.1</td>\n",
       "      <td>185</td>\n",
       "      <td>29.84</td>\n",
       "      <td>73</td>\n",
       "      <td>26</td>\n",
       "    </tr>\n",
       "    <tr>\n",
       "      <th>3</th>\n",
       "      <td>25.5</td>\n",
       "      <td>6.5</td>\n",
       "      <td>168</td>\n",
       "      <td>29.84</td>\n",
       "      <td>73</td>\n",
       "      <td>34</td>\n",
       "    </tr>\n",
       "    <tr>\n",
       "      <th>4</th>\n",
       "      <td>25.5</td>\n",
       "      <td>6.1</td>\n",
       "      <td>183</td>\n",
       "      <td>29.85</td>\n",
       "      <td>72</td>\n",
       "      <td>20</td>\n",
       "    </tr>\n",
       "  </tbody>\n",
       "</table>\n",
       "</div>"
      ],
      "text/plain": [
       "   temp  wind_speed  wind_degree  pressure  humidity  cloud\n",
       "0  26.1         7.9          179     29.86        74     35\n",
       "1  26.0         7.2          188     29.85        74     32\n",
       "2  25.8         6.1          185     29.84        73     26\n",
       "3  25.5         6.5          168     29.84        73     34\n",
       "4  25.5         6.1          183     29.85        72     20"
      ]
     },
     "execution_count": 7,
     "metadata": {},
     "output_type": "execute_result"
    }
   ],
   "source": [
    "training.head(5)"
   ]
  },
  {
   "cell_type": "code",
   "execution_count": 8,
   "metadata": {},
   "outputs": [],
   "source": [
    "from sklearn.preprocessing import MinMaxScaler\n",
    "\n",
    "scaler = MinMaxScaler()\n",
    "train_scaled = scaler.fit_transform(training)"
   ]
  },
  {
   "cell_type": "code",
   "execution_count": 9,
   "metadata": {},
   "outputs": [],
   "source": [
    "# from sklearn.preprocessing import StandardScaler\n",
    "\n",
    "# scaler = StandardScaler()\n",
    "# train_scaled = scaler.fit_transform(training)"
   ]
  },
  {
   "cell_type": "code",
   "execution_count": 10,
   "metadata": {},
   "outputs": [
    {
     "data": {
      "text/html": [
       "<div>\n",
       "<style scoped>\n",
       "    .dataframe tbody tr th:only-of-type {\n",
       "        vertical-align: middle;\n",
       "    }\n",
       "\n",
       "    .dataframe tbody tr th {\n",
       "        vertical-align: top;\n",
       "    }\n",
       "\n",
       "    .dataframe thead th {\n",
       "        text-align: right;\n",
       "    }\n",
       "</style>\n",
       "<table border=\"1\" class=\"dataframe\">\n",
       "  <thead>\n",
       "    <tr style=\"text-align: right;\">\n",
       "      <th></th>\n",
       "      <th>0</th>\n",
       "      <th>1</th>\n",
       "      <th>2</th>\n",
       "      <th>3</th>\n",
       "      <th>4</th>\n",
       "      <th>5</th>\n",
       "    </tr>\n",
       "  </thead>\n",
       "  <tbody>\n",
       "    <tr>\n",
       "      <th>0</th>\n",
       "      <td>0.272</td>\n",
       "      <td>0.378788</td>\n",
       "      <td>0.500000</td>\n",
       "      <td>0.807692</td>\n",
       "      <td>0.637931</td>\n",
       "      <td>0.35</td>\n",
       "    </tr>\n",
       "    <tr>\n",
       "      <th>1</th>\n",
       "      <td>0.264</td>\n",
       "      <td>0.343434</td>\n",
       "      <td>0.525140</td>\n",
       "      <td>0.769231</td>\n",
       "      <td>0.637931</td>\n",
       "      <td>0.32</td>\n",
       "    </tr>\n",
       "    <tr>\n",
       "      <th>2</th>\n",
       "      <td>0.248</td>\n",
       "      <td>0.287879</td>\n",
       "      <td>0.516760</td>\n",
       "      <td>0.730769</td>\n",
       "      <td>0.620690</td>\n",
       "      <td>0.26</td>\n",
       "    </tr>\n",
       "    <tr>\n",
       "      <th>3</th>\n",
       "      <td>0.224</td>\n",
       "      <td>0.308081</td>\n",
       "      <td>0.469274</td>\n",
       "      <td>0.730769</td>\n",
       "      <td>0.620690</td>\n",
       "      <td>0.34</td>\n",
       "    </tr>\n",
       "    <tr>\n",
       "      <th>4</th>\n",
       "      <td>0.224</td>\n",
       "      <td>0.287879</td>\n",
       "      <td>0.511173</td>\n",
       "      <td>0.769231</td>\n",
       "      <td>0.603448</td>\n",
       "      <td>0.20</td>\n",
       "    </tr>\n",
       "  </tbody>\n",
       "</table>\n",
       "</div>"
      ],
      "text/plain": [
       "       0         1         2         3         4     5\n",
       "0  0.272  0.378788  0.500000  0.807692  0.637931  0.35\n",
       "1  0.264  0.343434  0.525140  0.769231  0.637931  0.32\n",
       "2  0.248  0.287879  0.516760  0.730769  0.620690  0.26\n",
       "3  0.224  0.308081  0.469274  0.730769  0.620690  0.34\n",
       "4  0.224  0.287879  0.511173  0.769231  0.603448  0.20"
      ]
     },
     "execution_count": 10,
     "metadata": {},
     "output_type": "execute_result"
    }
   ],
   "source": [
    "pd.DataFrame(train_scaled).head(5)"
   ]
  },
  {
   "cell_type": "code",
   "execution_count": 11,
   "metadata": {},
   "outputs": [],
   "source": [
    "def create_sequences(data, sequence_length, forecast_horizon):\n",
    "    X, y = [], []\n",
    "    for i in range(len(data) - sequence_length - forecast_horizon):\n",
    "        X.append(data[i:i + sequence_length, :])\n",
    "        y.append(data[i + sequence_length:i + sequence_length + forecast_horizon, :])\n",
    "        \n",
    "    return np.array(X), np.array(y)"
   ]
  },
  {
   "cell_type": "code",
   "execution_count": 12,
   "metadata": {},
   "outputs": [],
   "source": [
    "sequence_length = 6\n",
    "forecast_horizon = 1\n",
    "\n",
    "X, y = create_sequences(train_scaled, sequence_length, forecast_horizon)"
   ]
  },
  {
   "cell_type": "code",
   "execution_count": 13,
   "metadata": {},
   "outputs": [],
   "source": [
    "split_ratio = 0.8\n",
    "split = int(split_ratio * len(X))\n",
    "\n",
    "x_train, x_test = X[:split], X[split:]\n",
    "y_train, y_test = y[:split], y[split:]"
   ]
  },
  {
   "cell_type": "code",
   "execution_count": 47,
   "metadata": {},
   "outputs": [],
   "source": [
    "num_features = X.shape[2]\n",
    "\n",
    "# model = tf.keras.Sequential([\n",
    "#     tf.keras.layers.Input(shape=(sequence_length, num_features)),\n",
    "#     tf.keras.layers.Bidirectional(tf.keras.layers.LSTM(32, activation='tanh', return_sequences=True)),\n",
    "#     tf.keras.layers.BatchNormalization(),\n",
    "#     # tf.keras.layers.Dropout(0.2),\n",
    "#     tf.keras.layers.Bidirectional(tf.keras.layers.GRU(64, activation='tanh', return_sequences=True)),\n",
    "#     tf.keras.layers.BatchNormalization(),\n",
    "#     # tf.keras.layers.Dropout(0.2),\n",
    "#     tf.keras.layers.Bidirectional(tf.keras.layers.LSTM(128, activation='tanh', return_sequences=True)),\n",
    "#     tf.keras.layers.BatchNormalization(),\n",
    "#     tf.keras.layers.Bidirectional(tf.keras.layers.GRU(256, activation='tanh', return_sequences=False)),\n",
    "#     tf.keras.layers.BatchNormalization(),\n",
    "#     # tf.keras.layers.Bidirectional(tf.keras.layers.LSTM(512, activation='tanh', return_sequences=False)),\n",
    "#     # tf.keras.layers.BatchNormalization(),\n",
    "#     tf.keras.layers.Dense(256, activation='relu'),\n",
    "#     tf.keras.layers.Dropout(0.2),\n",
    "#     tf.keras.layers.Dense(128, activation='relu'),\n",
    "#     # tf.keras.layers.Dropout(0.2),\n",
    "#     tf.keras.layers.Dense(64, activation='relu'),\n",
    "#     # tf.keras.layers.Dropout(0.2),\n",
    "#     # tf.keras.layers.Dense(32, activation='relu'),\n",
    "#     # tf.keras.layers.Dropout(0.2),\n",
    "#     tf.keras.layers.Dense(num_features * forecast_horizon),\n",
    "#     tf.keras.layers.Reshape((forecast_horizon, num_features))\n",
    "# ])\n",
    "\n",
    "model = tf.keras.Sequential([    \n",
    "    tf.keras.layers.Input(shape=(sequence_length, num_features)),\n",
    "    tf.keras.layers.Bidirectional(tf.keras.layers.GRU(256, activation='tanh', return_sequences=True)),\n",
    "    tf.keras.layers.BatchNormalization(),\n",
    "    tf.keras.layers.Bidirectional(tf.keras.layers.GRU(128, activation='tanh', return_sequences=False)),\n",
    "    tf.keras.layers.BatchNormalization(),\n",
    "    # tf.keras.layers.Bidirectional(tf.keras.layers.LSTM(64, activation='tanh', return_sequences=False)),\n",
    "    # tf.keras.layers.BatchNormalization(),\n",
    "    tf.keras.layers.Dense(256, activation='relu', kernel_regularizer=tf.keras.regularizers.L2(0.01)),\n",
    "    # tf.keras.layers.Dropout(0.2),\n",
    "    # tf.keras.layers.Dense(128, activation='relu', kernel_regularizer=tf.keras.regularizers.L2(0.01)),\n",
    "    # tf.keras.layers.Dropout(0.2),\n",
    "    tf.keras.layers.Dense(num_features * forecast_horizon),  \n",
    "    tf.keras.layers.Reshape((forecast_horizon, num_features))\n",
    "])\n",
    "\n",
    "model.compile(optimizer=tf.keras.optimizers.SGD(momentum=0.9), loss='mae', metrics=['mae'])"
   ]
  },
  {
   "cell_type": "code",
   "execution_count": 48,
   "metadata": {},
   "outputs": [
    {
     "name": "stdout",
     "output_type": "stream",
     "text": [
      "Model: \"sequential_3\"\n",
      "_________________________________________________________________\n",
      " Layer (type)                Output Shape              Param #   \n",
      "=================================================================\n",
      " bidirectional_6 (Bidirectio  (None, 6, 512)           405504    \n",
      " nal)                                                            \n",
      "                                                                 \n",
      " batch_normalization_6 (Batc  (None, 6, 512)           2048      \n",
      " hNormalization)                                                 \n",
      "                                                                 \n",
      " bidirectional_7 (Bidirectio  (None, 256)              493056    \n",
      " nal)                                                            \n",
      "                                                                 \n",
      " batch_normalization_7 (Batc  (None, 256)              1024      \n",
      " hNormalization)                                                 \n",
      "                                                                 \n",
      " dense_6 (Dense)             (None, 256)               65792     \n",
      "                                                                 \n",
      " dense_7 (Dense)             (None, 6)                 1542      \n",
      "                                                                 \n",
      " reshape_3 (Reshape)         (None, 1, 6)              0         \n",
      "                                                                 \n",
      "=================================================================\n",
      "Total params: 968,966\n",
      "Trainable params: 967,430\n",
      "Non-trainable params: 1,536\n",
      "_________________________________________________________________\n"
     ]
    }
   ],
   "source": [
    "model.summary()"
   ]
  },
  {
   "cell_type": "code",
   "execution_count": 49,
   "metadata": {},
   "outputs": [],
   "source": [
    "from tensorflow.keras.callbacks import ReduceLROnPlateau\n",
    "\n",
    "reduce_lr = ReduceLROnPlateau(monitor='val_mae', factor = 0.5, patience=4, min_lr=1e-6)"
   ]
  },
  {
   "cell_type": "code",
   "execution_count": 50,
   "metadata": {},
   "outputs": [],
   "source": [
    "from tensorflow.keras.callbacks import Callback\n",
    "\n",
    "class CustomEarlyStopping(Callback):\n",
    "    def on_epoch_end(self, epoch, logs):\n",
    "        if logs['mae'] <= 0.060 and logs['val_mae'] <= 0.060:\n",
    "            self.model.stop_training = True\n",
    "\n",
    "custom_early_stopping = CustomEarlyStopping()"
   ]
  },
  {
   "cell_type": "code",
   "execution_count": 51,
   "metadata": {},
   "outputs": [
    {
     "name": "stdout",
     "output_type": "stream",
     "text": [
      "Epoch 1/100\n",
      "38/38 [==============================] - 9s 103ms/step - loss: 2.8350 - mae: 0.3926 - val_loss: 2.6091 - val_mae: 0.3412\n",
      "Epoch 2/100\n",
      "38/38 [==============================] - 1s 28ms/step - loss: 2.3364 - mae: 0.2346 - val_loss: 2.2741 - val_mae: 0.3384\n",
      "Epoch 3/100\n",
      "38/38 [==============================] - 1s 27ms/step - loss: 1.9899 - mae: 0.1958 - val_loss: 1.9987 - val_mae: 0.3459\n",
      "Epoch 4/100\n",
      "38/38 [==============================] - 1s 27ms/step - loss: 1.6953 - mae: 0.1627 - val_loss: 1.7644 - val_mae: 0.3517\n",
      "Epoch 5/100\n",
      "38/38 [==============================] - 1s 26ms/step - loss: 1.4474 - mae: 0.1373 - val_loss: 1.5540 - val_mae: 0.3462\n",
      "Epoch 6/100\n",
      "38/38 [==============================] - 1s 26ms/step - loss: 1.2519 - mae: 0.1315 - val_loss: 1.3613 - val_mae: 0.3282\n",
      "Epoch 7/100\n",
      "38/38 [==============================] - 1s 28ms/step - loss: 1.0807 - mae: 0.1219 - val_loss: 1.1939 - val_mae: 0.3097\n",
      "Epoch 8/100\n",
      "38/38 [==============================] - 1s 27ms/step - loss: 0.9410 - mae: 0.1203 - val_loss: 1.0460 - val_mae: 0.2888\n",
      "Epoch 9/100\n",
      "38/38 [==============================] - 1s 28ms/step - loss: 0.8127 - mae: 0.1099 - val_loss: 0.9095 - val_mae: 0.2610\n",
      "Epoch 10/100\n",
      "38/38 [==============================] - 1s 25ms/step - loss: 0.7012 - mae: 0.0991 - val_loss: 0.7790 - val_mae: 0.2234\n",
      "Epoch 11/100\n",
      "38/38 [==============================] - 1s 26ms/step - loss: 0.6140 - mae: 0.0980 - val_loss: 0.6557 - val_mae: 0.1794\n",
      "Epoch 12/100\n",
      "38/38 [==============================] - 1s 25ms/step - loss: 0.5375 - mae: 0.0952 - val_loss: 0.5666 - val_mae: 0.1581\n",
      "Epoch 13/100\n",
      "38/38 [==============================] - 1s 28ms/step - loss: 0.4710 - mae: 0.0915 - val_loss: 0.4968 - val_mae: 0.1466\n",
      "Epoch 14/100\n",
      "38/38 [==============================] - 1s 29ms/step - loss: 0.4115 - mae: 0.0860 - val_loss: 0.4258 - val_mae: 0.1250\n",
      "Epoch 15/100\n",
      "38/38 [==============================] - 1s 26ms/step - loss: 0.3655 - mae: 0.0860 - val_loss: 0.3540 - val_mae: 0.0957\n",
      "Epoch 16/100\n",
      "38/38 [==============================] - 1s 25ms/step - loss: 0.3225 - mae: 0.0823 - val_loss: 0.3305 - val_mae: 0.1085\n",
      "Epoch 17/100\n",
      "38/38 [==============================] - 1s 26ms/step - loss: 0.2902 - mae: 0.0837 - val_loss: 0.2737 - val_mae: 0.0827\n",
      "Epoch 18/100\n",
      "38/38 [==============================] - 1s 29ms/step - loss: 0.2596 - mae: 0.0819 - val_loss: 0.2669 - val_mae: 0.1025\n",
      "Epoch 19/100\n",
      "38/38 [==============================] - 1s 25ms/step - loss: 0.2376 - mae: 0.0846 - val_loss: 0.2276 - val_mae: 0.0860\n",
      "Epoch 20/100\n",
      "38/38 [==============================] - 1s 26ms/step - loss: 0.2118 - mae: 0.0799 - val_loss: 0.2067 - val_mae: 0.0846\n",
      "Epoch 21/100\n",
      "38/38 [==============================] - 1s 26ms/step - loss: 0.1968 - mae: 0.0830 - val_loss: 0.1991 - val_mae: 0.0935\n",
      "Epoch 22/100\n",
      "38/38 [==============================] - 1s 25ms/step - loss: 0.1795 - mae: 0.0811 - val_loss: 0.1749 - val_mae: 0.0836\n",
      "Epoch 23/100\n",
      "38/38 [==============================] - 1s 26ms/step - loss: 0.1611 - mae: 0.0758 - val_loss: 0.1477 - val_mae: 0.0686\n",
      "Epoch 24/100\n",
      "38/38 [==============================] - 1s 26ms/step - loss: 0.1484 - mae: 0.0745 - val_loss: 0.1543 - val_mae: 0.0856\n",
      "Epoch 25/100\n",
      "38/38 [==============================] - 1s 26ms/step - loss: 0.1447 - mae: 0.0804 - val_loss: 0.1399 - val_mae: 0.0800\n",
      "Epoch 26/100\n",
      "38/38 [==============================] - 1s 27ms/step - loss: 0.1269 - mae: 0.0707 - val_loss: 0.1273 - val_mae: 0.0751\n",
      "Epoch 27/100\n",
      "38/38 [==============================] - 1s 27ms/step - loss: 0.1236 - mae: 0.0747 - val_loss: 0.1239 - val_mae: 0.0783\n",
      "Epoch 28/100\n",
      "38/38 [==============================] - 1s 26ms/step - loss: 0.1183 - mae: 0.0754 - val_loss: 0.1219 - val_mae: 0.0818\n",
      "Epoch 29/100\n",
      "38/38 [==============================] - 1s 26ms/step - loss: 0.1099 - mae: 0.0723 - val_loss: 0.1145 - val_mae: 0.0792\n",
      "Epoch 30/100\n",
      "38/38 [==============================] - 1s 26ms/step - loss: 0.1104 - mae: 0.0772 - val_loss: 0.1137 - val_mae: 0.0826\n",
      "Epoch 31/100\n",
      "38/38 [==============================] - 1s 26ms/step - loss: 0.1037 - mae: 0.0743 - val_loss: 0.1010 - val_mae: 0.0734\n",
      "Epoch 32/100\n",
      "38/38 [==============================] - 1s 26ms/step - loss: 0.1015 - mae: 0.0753 - val_loss: 0.1013 - val_mae: 0.0766\n",
      "Epoch 33/100\n",
      "38/38 [==============================] - 1s 26ms/step - loss: 0.0942 - mae: 0.0709 - val_loss: 0.0893 - val_mae: 0.0672\n",
      "Epoch 34/100\n",
      "38/38 [==============================] - 1s 27ms/step - loss: 0.0938 - mae: 0.0729 - val_loss: 0.1033 - val_mae: 0.0835\n",
      "Epoch 35/100\n",
      "38/38 [==============================] - 1s 26ms/step - loss: 0.0866 - mae: 0.0678 - val_loss: 0.1024 - val_mae: 0.0846\n",
      "Epoch 36/100\n",
      "38/38 [==============================] - 1s 27ms/step - loss: 0.0880 - mae: 0.0710 - val_loss: 0.1010 - val_mae: 0.0846\n",
      "Epoch 37/100\n",
      "38/38 [==============================] - 1s 28ms/step - loss: 0.0839 - mae: 0.0683 - val_loss: 0.0964 - val_mae: 0.0816\n",
      "Epoch 38/100\n",
      "38/38 [==============================] - 1s 29ms/step - loss: 0.0830 - mae: 0.0688 - val_loss: 0.0803 - val_mae: 0.0666\n",
      "Epoch 39/100\n",
      "38/38 [==============================] - 1s 28ms/step - loss: 0.0820 - mae: 0.0689 - val_loss: 0.0846 - val_mae: 0.0720\n",
      "Epoch 40/100\n",
      "38/38 [==============================] - 1s 27ms/step - loss: 0.0805 - mae: 0.0684 - val_loss: 0.0839 - val_mae: 0.0722\n",
      "Epoch 41/100\n",
      "38/38 [==============================] - 1s 26ms/step - loss: 0.0774 - mae: 0.0661 - val_loss: 0.0854 - val_mae: 0.0745\n",
      "Epoch 42/100\n",
      "38/38 [==============================] - 1s 26ms/step - loss: 0.0773 - mae: 0.0668 - val_loss: 0.0826 - val_mae: 0.0723\n",
      "Epoch 43/100\n",
      "38/38 [==============================] - 1s 26ms/step - loss: 0.0767 - mae: 0.0668 - val_loss: 0.0784 - val_mae: 0.0687\n",
      "Epoch 44/100\n",
      "38/38 [==============================] - 1s 26ms/step - loss: 0.0771 - mae: 0.0677 - val_loss: 0.0879 - val_mae: 0.0788\n",
      "Epoch 45/100\n",
      "38/38 [==============================] - 1s 26ms/step - loss: 0.0752 - mae: 0.0663 - val_loss: 0.0768 - val_mae: 0.0680\n",
      "Epoch 46/100\n",
      "38/38 [==============================] - 1s 27ms/step - loss: 0.0749 - mae: 0.0663 - val_loss: 0.0746 - val_mae: 0.0661\n",
      "Epoch 47/100\n",
      "38/38 [==============================] - 1s 29ms/step - loss: 0.0742 - mae: 0.0658 - val_loss: 0.0884 - val_mae: 0.0801\n",
      "Epoch 48/100\n",
      "38/38 [==============================] - 1s 29ms/step - loss: 0.0703 - mae: 0.0623 - val_loss: 0.0801 - val_mae: 0.0722\n",
      "Epoch 49/100\n",
      "38/38 [==============================] - 1s 39ms/step - loss: 0.0717 - mae: 0.0640 - val_loss: 0.0847 - val_mae: 0.0772\n",
      "Epoch 50/100\n",
      "38/38 [==============================] - 1s 28ms/step - loss: 0.0711 - mae: 0.0637 - val_loss: 0.0787 - val_mae: 0.0713\n",
      "Epoch 51/100\n",
      "38/38 [==============================] - 1s 26ms/step - loss: 0.0731 - mae: 0.0658 - val_loss: 0.0817 - val_mae: 0.0745\n",
      "Epoch 52/100\n",
      "38/38 [==============================] - 1s 27ms/step - loss: 0.0715 - mae: 0.0644 - val_loss: 0.0700 - val_mae: 0.0629\n",
      "Epoch 53/100\n",
      "38/38 [==============================] - 1s 27ms/step - loss: 0.0706 - mae: 0.0636 - val_loss: 0.0873 - val_mae: 0.0804\n",
      "Epoch 54/100\n",
      "38/38 [==============================] - 1s 27ms/step - loss: 0.0722 - mae: 0.0654 - val_loss: 0.0714 - val_mae: 0.0647\n",
      "Epoch 55/100\n",
      "38/38 [==============================] - 1s 26ms/step - loss: 0.0675 - mae: 0.0608 - val_loss: 0.0734 - val_mae: 0.0666\n",
      "Epoch 56/100\n",
      "38/38 [==============================] - 1s 27ms/step - loss: 0.0698 - mae: 0.0630 - val_loss: 0.0746 - val_mae: 0.0680\n",
      "Epoch 57/100\n",
      "38/38 [==============================] - 1s 27ms/step - loss: 0.0683 - mae: 0.0618 - val_loss: 0.0784 - val_mae: 0.0718\n",
      "Epoch 58/100\n",
      "38/38 [==============================] - 1s 26ms/step - loss: 0.0713 - mae: 0.0648 - val_loss: 0.0797 - val_mae: 0.0733\n",
      "Epoch 59/100\n",
      "38/38 [==============================] - 1s 28ms/step - loss: 0.0703 - mae: 0.0639 - val_loss: 0.0704 - val_mae: 0.0640\n",
      "Epoch 60/100\n",
      "38/38 [==============================] - 1s 25ms/step - loss: 0.0710 - mae: 0.0646 - val_loss: 0.0846 - val_mae: 0.0783\n",
      "Epoch 61/100\n",
      "38/38 [==============================] - 1s 28ms/step - loss: 0.0697 - mae: 0.0634 - val_loss: 0.0685 - val_mae: 0.0621\n",
      "Epoch 62/100\n",
      "38/38 [==============================] - 1s 26ms/step - loss: 0.0717 - mae: 0.0654 - val_loss: 0.0656 - val_mae: 0.0592\n",
      "Epoch 63/100\n",
      "38/38 [==============================] - 1s 26ms/step - loss: 0.0680 - mae: 0.0617 - val_loss: 0.0705 - val_mae: 0.0643\n",
      "Epoch 64/100\n",
      "38/38 [==============================] - 1s 27ms/step - loss: 0.0707 - mae: 0.0645 - val_loss: 0.0699 - val_mae: 0.0637\n",
      "Epoch 65/100\n",
      "38/38 [==============================] - 1s 26ms/step - loss: 0.0689 - mae: 0.0626 - val_loss: 0.0692 - val_mae: 0.0629\n",
      "Epoch 66/100\n",
      "38/38 [==============================] - 1s 26ms/step - loss: 0.0668 - mae: 0.0605 - val_loss: 0.0814 - val_mae: 0.0751\n",
      "Epoch 67/100\n",
      "38/38 [==============================] - 1s 26ms/step - loss: 0.0696 - mae: 0.0634 - val_loss: 0.0762 - val_mae: 0.0699\n",
      "Epoch 68/100\n",
      "38/38 [==============================] - 1s 29ms/step - loss: 0.0668 - mae: 0.0606 - val_loss: 0.0858 - val_mae: 0.0795\n",
      "Epoch 69/100\n",
      "38/38 [==============================] - 1s 26ms/step - loss: 0.0678 - mae: 0.0616 - val_loss: 0.0692 - val_mae: 0.0630\n",
      "Epoch 70/100\n",
      "38/38 [==============================] - 1s 26ms/step - loss: 0.0677 - mae: 0.0615 - val_loss: 0.0688 - val_mae: 0.0625\n",
      "Epoch 71/100\n",
      "38/38 [==============================] - 1s 26ms/step - loss: 0.0694 - mae: 0.0632 - val_loss: 0.0725 - val_mae: 0.0666\n",
      "Epoch 72/100\n",
      "38/38 [==============================] - 1s 28ms/step - loss: 0.0704 - mae: 0.0643 - val_loss: 0.0834 - val_mae: 0.0773\n",
      "Epoch 73/100\n",
      "38/38 [==============================] - 1s 27ms/step - loss: 0.0672 - mae: 0.0611 - val_loss: 0.0666 - val_mae: 0.0605\n",
      "Epoch 74/100\n",
      "38/38 [==============================] - 1s 30ms/step - loss: 0.0658 - mae: 0.0596 - val_loss: 0.0783 - val_mae: 0.0721\n",
      "Epoch 75/100\n",
      "38/38 [==============================] - 1s 30ms/step - loss: 0.0667 - mae: 0.0606 - val_loss: 0.0660 - val_mae: 0.0598\n",
      "Epoch 76/100\n",
      "38/38 [==============================] - 1s 27ms/step - loss: 0.0686 - mae: 0.0624 - val_loss: 0.0686 - val_mae: 0.0625\n",
      "Epoch 77/100\n",
      "38/38 [==============================] - 1s 28ms/step - loss: 0.0675 - mae: 0.0614 - val_loss: 0.0682 - val_mae: 0.0621\n",
      "Epoch 78/100\n",
      "38/38 [==============================] - 1s 28ms/step - loss: 0.0637 - mae: 0.0576 - val_loss: 0.0659 - val_mae: 0.0596\n"
     ]
    }
   ],
   "source": [
    "history = model.fit(x_train, y_train, validation_data=(x_test, y_test), epochs=100, batch_size=16, verbose=1, callbacks=[custom_early_stopping])\n",
    "# history = model.fit(x_train, y_train, validation_data=(x_test, y_test), epochs=100, batch_size=16, verbose=1, callbacks=[reduce_lr])"
   ]
  },
  {
   "cell_type": "code",
   "execution_count": 52,
   "metadata": {},
   "outputs": [
    {
     "data": {
      "image/png": "[encoded data removed]",
      "text/plain": [
       "<Figure size 640x480 with 1 Axes>"
      ]
     },
     "metadata": {},
     "output_type": "display_data"
    }
   ],
   "source": [
    "plt.plot(history.history['loss'], color='g', label='Training Loss')\n",
    "plt.plot(history.history['val_loss'], color='b', label='Validation Loss')\n",
    "plt.title(\"Loss vs Val Loss\")\n",
    "plt.legend()\n",
    "plt.show()"
   ]
  },
  {
   "cell_type": "code",
   "execution_count": 53,
   "metadata": {},
   "outputs": [
    {
     "data": {
      "image/png": "[encoded data removed]",
      "text/plain": [
       "<Figure size 640x480 with 1 Axes>"
      ]
     },
     "metadata": {},
     "output_type": "display_data"
    }
   ],
   "source": [
    "plt.plot(history.history['mae'], color='g', label='Training MAE')\n",
    "plt.plot(history.history['val_mae'], color='b', label='Validation MAE')\n",
    "plt.title(\"MAE vs Val MAE\")\n",
    "plt.legend()\n",
    "plt.show()"
   ]
  },
  {
   "cell_type": "code",
   "execution_count": 54,
   "metadata": {},
   "outputs": [
    {
     "name": "stdout",
     "output_type": "stream",
     "text": [
      "Loss : 0.06588470190763474, MAE : 0.05963347479701042\n"
     ]
    }
   ],
   "source": [
    "loss, mae = model.evaluate(x_test, y_test, verbose=0)\n",
    "print(\"Loss : {}, MAE : {}\".format(loss, mae))"
   ]
  },
  {
   "cell_type": "code",
   "execution_count": 58,
   "metadata": {},
   "outputs": [
    {
     "name": "stdout",
     "output_type": "stream",
     "text": [
      "5/5 [==============================] - 0s 9ms/step\n",
      "[[30.640682 10.200598 49.979576 29.69349  61.994816 82.90178 ]]\n",
      "[[30.2  12.6  35.   29.69 64.   80.  ]]\n"
     ]
    }
   ],
   "source": [
    "predictions = model.predict(x_test)\n",
    "\n",
    "print(scaler.inverse_transform(predictions[2]))\n",
    "print(scaler.inverse_transform(y_test[2]))"
   ]
  },
  {
   "cell_type": "code",
   "execution_count": 59,
   "metadata": {},
   "outputs": [],
   "source": [
    "# model.save('forecasting.h5')"
   ]
  }
 ],
 "metadata": {
  "kernelspec": {
   "display_name": "Tensor",
   "language": "python",
   "name": "python3"
  },
  "language_info": {
   "codemirror_mode": {
    "name": "ipython",
    "version": 3
   },
   "file_extension": ".py",
   "mimetype": "text/x-python",
   "name": "python",
   "nbconvert_exporter": "python",
   "pygments_lexer": "ipython3",
   "version": "3.7.16"
  }
 },
 "nbformat": 4,
 "nbformat_minor": 2
}
