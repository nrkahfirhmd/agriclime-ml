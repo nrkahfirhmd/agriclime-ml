{
 "cells": [
  {
   "cell_type": "code",
   "execution_count": 25,
   "metadata": {},
   "outputs": [],
   "source": [
    "import pandas as pd\n",
    "import numpy as np\n",
    "import matplotlib.pyplot as plt\n",
    "import tensorflow as tf"
   ]
  },
  {
   "cell_type": "code",
   "execution_count": 26,
   "metadata": {},
   "outputs": [],
   "source": [
    "df = pd.read_csv('weather_data.csv')"
   ]
  },
  {
   "cell_type": "code",
   "execution_count": 27,
   "metadata": {},
   "outputs": [],
   "source": [
    "df = pd.DataFrame(df)"
   ]
  },
  {
   "cell_type": "code",
   "execution_count": 28,
   "metadata": {},
   "outputs": [
    {
     "data": {
      "text/html": [
       "<div>\n",
       "<style scoped>\n",
       "    .dataframe tbody tr th:only-of-type {\n",
       "        vertical-align: middle;\n",
       "    }\n",
       "\n",
       "    .dataframe tbody tr th {\n",
       "        vertical-align: top;\n",
       "    }\n",
       "\n",
       "    .dataframe thead th {\n",
       "        text-align: right;\n",
       "    }\n",
       "</style>\n",
       "<table border=\"1\" class=\"dataframe\">\n",
       "  <thead>\n",
       "    <tr style=\"text-align: right;\">\n",
       "      <th></th>\n",
       "      <th>time</th>\n",
       "      <th>temp</th>\n",
       "      <th>wind_speed</th>\n",
       "      <th>wind_degree</th>\n",
       "      <th>pressure</th>\n",
       "      <th>precip</th>\n",
       "      <th>humidity</th>\n",
       "      <th>cloud</th>\n",
       "      <th>uv</th>\n",
       "      <th>weather</th>\n",
       "    </tr>\n",
       "  </thead>\n",
       "  <tbody>\n",
       "    <tr>\n",
       "      <th>0</th>\n",
       "      <td>2024-11-01 00:00</td>\n",
       "      <td>26.2</td>\n",
       "      <td>4.7</td>\n",
       "      <td>180</td>\n",
       "      <td>29.82</td>\n",
       "      <td>0.0</td>\n",
       "      <td>76</td>\n",
       "      <td>80</td>\n",
       "      <td>0.0</td>\n",
       "      <td>1063</td>\n",
       "    </tr>\n",
       "    <tr>\n",
       "      <th>1</th>\n",
       "      <td>2024-11-01 01:00</td>\n",
       "      <td>26.0</td>\n",
       "      <td>5.4</td>\n",
       "      <td>192</td>\n",
       "      <td>29.81</td>\n",
       "      <td>0.0</td>\n",
       "      <td>75</td>\n",
       "      <td>76</td>\n",
       "      <td>0.0</td>\n",
       "      <td>1063</td>\n",
       "    </tr>\n",
       "    <tr>\n",
       "      <th>2</th>\n",
       "      <td>2024-11-01 02:00</td>\n",
       "      <td>26.0</td>\n",
       "      <td>5.0</td>\n",
       "      <td>207</td>\n",
       "      <td>29.79</td>\n",
       "      <td>0.0</td>\n",
       "      <td>75</td>\n",
       "      <td>17</td>\n",
       "      <td>0.0</td>\n",
       "      <td>1000</td>\n",
       "    </tr>\n",
       "    <tr>\n",
       "      <th>3</th>\n",
       "      <td>2024-11-01 03:00</td>\n",
       "      <td>25.8</td>\n",
       "      <td>6.1</td>\n",
       "      <td>212</td>\n",
       "      <td>29.79</td>\n",
       "      <td>0.0</td>\n",
       "      <td>75</td>\n",
       "      <td>16</td>\n",
       "      <td>0.0</td>\n",
       "      <td>1000</td>\n",
       "    </tr>\n",
       "    <tr>\n",
       "      <th>4</th>\n",
       "      <td>2024-11-01 04:00</td>\n",
       "      <td>25.7</td>\n",
       "      <td>5.8</td>\n",
       "      <td>207</td>\n",
       "      <td>29.81</td>\n",
       "      <td>0.0</td>\n",
       "      <td>75</td>\n",
       "      <td>14</td>\n",
       "      <td>0.0</td>\n",
       "      <td>1000</td>\n",
       "    </tr>\n",
       "  </tbody>\n",
       "</table>\n",
       "</div>"
      ],
      "text/plain": [
       "               time  temp  wind_speed  wind_degree  pressure  precip  \\\n",
       "0  2024-11-01 00:00  26.2         4.7          180     29.82     0.0   \n",
       "1  2024-11-01 01:00  26.0         5.4          192     29.81     0.0   \n",
       "2  2024-11-01 02:00  26.0         5.0          207     29.79     0.0   \n",
       "3  2024-11-01 03:00  25.8         6.1          212     29.79     0.0   \n",
       "4  2024-11-01 04:00  25.7         5.8          207     29.81     0.0   \n",
       "\n",
       "   humidity  cloud   uv  weather  \n",
       "0        76     80  0.0     1063  \n",
       "1        75     76  0.0     1063  \n",
       "2        75     17  0.0     1000  \n",
       "3        75     16  0.0     1000  \n",
       "4        75     14  0.0     1000  "
      ]
     },
     "execution_count": 28,
     "metadata": {},
     "output_type": "execute_result"
    }
   ],
   "source": [
    "df.head(5)"
   ]
  },
  {
   "cell_type": "code",
   "execution_count": 29,
   "metadata": {},
   "outputs": [
    {
     "data": {
      "text/plain": [
       "0"
      ]
     },
     "execution_count": 29,
     "metadata": {},
     "output_type": "execute_result"
    }
   ],
   "source": [
    "df.duplicated().sum()"
   ]
  },
  {
   "cell_type": "code",
   "execution_count": 30,
   "metadata": {},
   "outputs": [],
   "source": [
    "training = df.drop(['time', 'weather', 'precip', 'uv'], axis=1)"
   ]
  },
  {
   "cell_type": "code",
   "execution_count": 31,
   "metadata": {},
   "outputs": [
    {
     "data": {
      "text/html": [
       "<div>\n",
       "<style scoped>\n",
       "    .dataframe tbody tr th:only-of-type {\n",
       "        vertical-align: middle;\n",
       "    }\n",
       "\n",
       "    .dataframe tbody tr th {\n",
       "        vertical-align: top;\n",
       "    }\n",
       "\n",
       "    .dataframe thead th {\n",
       "        text-align: right;\n",
       "    }\n",
       "</style>\n",
       "<table border=\"1\" class=\"dataframe\">\n",
       "  <thead>\n",
       "    <tr style=\"text-align: right;\">\n",
       "      <th></th>\n",
       "      <th>temp</th>\n",
       "      <th>wind_speed</th>\n",
       "      <th>wind_degree</th>\n",
       "      <th>pressure</th>\n",
       "      <th>humidity</th>\n",
       "      <th>cloud</th>\n",
       "    </tr>\n",
       "  </thead>\n",
       "  <tbody>\n",
       "    <tr>\n",
       "      <th>0</th>\n",
       "      <td>26.2</td>\n",
       "      <td>4.7</td>\n",
       "      <td>180</td>\n",
       "      <td>29.82</td>\n",
       "      <td>76</td>\n",
       "      <td>80</td>\n",
       "    </tr>\n",
       "    <tr>\n",
       "      <th>1</th>\n",
       "      <td>26.0</td>\n",
       "      <td>5.4</td>\n",
       "      <td>192</td>\n",
       "      <td>29.81</td>\n",
       "      <td>75</td>\n",
       "      <td>76</td>\n",
       "    </tr>\n",
       "    <tr>\n",
       "      <th>2</th>\n",
       "      <td>26.0</td>\n",
       "      <td>5.0</td>\n",
       "      <td>207</td>\n",
       "      <td>29.79</td>\n",
       "      <td>75</td>\n",
       "      <td>17</td>\n",
       "    </tr>\n",
       "    <tr>\n",
       "      <th>3</th>\n",
       "      <td>25.8</td>\n",
       "      <td>6.1</td>\n",
       "      <td>212</td>\n",
       "      <td>29.79</td>\n",
       "      <td>75</td>\n",
       "      <td>16</td>\n",
       "    </tr>\n",
       "    <tr>\n",
       "      <th>4</th>\n",
       "      <td>25.7</td>\n",
       "      <td>5.8</td>\n",
       "      <td>207</td>\n",
       "      <td>29.81</td>\n",
       "      <td>75</td>\n",
       "      <td>14</td>\n",
       "    </tr>\n",
       "  </tbody>\n",
       "</table>\n",
       "</div>"
      ],
      "text/plain": [
       "   temp  wind_speed  wind_degree  pressure  humidity  cloud\n",
       "0  26.2         4.7          180     29.82        76     80\n",
       "1  26.0         5.4          192     29.81        75     76\n",
       "2  26.0         5.0          207     29.79        75     17\n",
       "3  25.8         6.1          212     29.79        75     16\n",
       "4  25.7         5.8          207     29.81        75     14"
      ]
     },
     "execution_count": 31,
     "metadata": {},
     "output_type": "execute_result"
    }
   ],
   "source": [
    "training.head(5)"
   ]
  },
  {
   "cell_type": "code",
   "execution_count": 32,
   "metadata": {},
   "outputs": [],
   "source": [
    "from sklearn.preprocessing import MinMaxScaler\n",
    "\n",
    "scaler = MinMaxScaler()\n",
    "train_scaled = scaler.fit_transform(training)"
   ]
  },
  {
   "cell_type": "code",
   "execution_count": 33,
   "metadata": {},
   "outputs": [],
   "source": [
    "# from sklearn.preprocessing import StandardScaler\n",
    "\n",
    "# scaler = StandardScaler()\n",
    "# train_scaled = scaler.fit_transform(training)"
   ]
  },
  {
   "cell_type": "code",
   "execution_count": 34,
   "metadata": {},
   "outputs": [
    {
     "data": {
      "text/html": [
       "<div>\n",
       "<style scoped>\n",
       "    .dataframe tbody tr th:only-of-type {\n",
       "        vertical-align: middle;\n",
       "    }\n",
       "\n",
       "    .dataframe tbody tr th {\n",
       "        vertical-align: top;\n",
       "    }\n",
       "\n",
       "    .dataframe thead th {\n",
       "        text-align: right;\n",
       "    }\n",
       "</style>\n",
       "<table border=\"1\" class=\"dataframe\">\n",
       "  <thead>\n",
       "    <tr style=\"text-align: right;\">\n",
       "      <th></th>\n",
       "      <th>0</th>\n",
       "      <th>1</th>\n",
       "      <th>2</th>\n",
       "      <th>3</th>\n",
       "      <th>4</th>\n",
       "      <th>5</th>\n",
       "    </tr>\n",
       "  </thead>\n",
       "  <tbody>\n",
       "    <tr>\n",
       "      <th>0</th>\n",
       "      <td>0.304348</td>\n",
       "      <td>0.217172</td>\n",
       "      <td>0.501393</td>\n",
       "      <td>0.653846</td>\n",
       "      <td>0.612245</td>\n",
       "      <td>0.791667</td>\n",
       "    </tr>\n",
       "    <tr>\n",
       "      <th>1</th>\n",
       "      <td>0.286957</td>\n",
       "      <td>0.252525</td>\n",
       "      <td>0.534819</td>\n",
       "      <td>0.615385</td>\n",
       "      <td>0.591837</td>\n",
       "      <td>0.750000</td>\n",
       "    </tr>\n",
       "    <tr>\n",
       "      <th>2</th>\n",
       "      <td>0.286957</td>\n",
       "      <td>0.232323</td>\n",
       "      <td>0.576602</td>\n",
       "      <td>0.538462</td>\n",
       "      <td>0.591837</td>\n",
       "      <td>0.135417</td>\n",
       "    </tr>\n",
       "    <tr>\n",
       "      <th>3</th>\n",
       "      <td>0.269565</td>\n",
       "      <td>0.287879</td>\n",
       "      <td>0.590529</td>\n",
       "      <td>0.538462</td>\n",
       "      <td>0.591837</td>\n",
       "      <td>0.125000</td>\n",
       "    </tr>\n",
       "    <tr>\n",
       "      <th>4</th>\n",
       "      <td>0.260870</td>\n",
       "      <td>0.272727</td>\n",
       "      <td>0.576602</td>\n",
       "      <td>0.615385</td>\n",
       "      <td>0.591837</td>\n",
       "      <td>0.104167</td>\n",
       "    </tr>\n",
       "  </tbody>\n",
       "</table>\n",
       "</div>"
      ],
      "text/plain": [
       "          0         1         2         3         4         5\n",
       "0  0.304348  0.217172  0.501393  0.653846  0.612245  0.791667\n",
       "1  0.286957  0.252525  0.534819  0.615385  0.591837  0.750000\n",
       "2  0.286957  0.232323  0.576602  0.538462  0.591837  0.135417\n",
       "3  0.269565  0.287879  0.590529  0.538462  0.591837  0.125000\n",
       "4  0.260870  0.272727  0.576602  0.615385  0.591837  0.104167"
      ]
     },
     "execution_count": 34,
     "metadata": {},
     "output_type": "execute_result"
    }
   ],
   "source": [
    "pd.DataFrame(train_scaled).head(5)"
   ]
  },
  {
   "cell_type": "code",
   "execution_count": 35,
   "metadata": {},
   "outputs": [],
   "source": [
    "def create_sequences(data, sequence_length, forecast_horizon):\n",
    "    X, y = [], []\n",
    "    for i in range(len(data) - sequence_length - forecast_horizon):\n",
    "        X.append(data[i:i + sequence_length, :])\n",
    "        y.append(data[i + sequence_length:i + sequence_length + forecast_horizon, :])\n",
    "        \n",
    "    return np.array(X), np.array(y)"
   ]
  },
  {
   "cell_type": "code",
   "execution_count": 36,
   "metadata": {},
   "outputs": [],
   "source": [
    "sequence_length = 6\n",
    "forecast_horizon = 1\n",
    "\n",
    "X, y = create_sequences(train_scaled, sequence_length, forecast_horizon)"
   ]
  },
  {
   "cell_type": "code",
   "execution_count": 37,
   "metadata": {},
   "outputs": [],
   "source": [
    "split_ratio = 0.8\n",
    "split = int(split_ratio * len(X))\n",
    "\n",
    "x_train, x_test = X[:split], X[split:]\n",
    "y_train, y_test = y[:split], y[split:]"
   ]
  },
  {
   "cell_type": "code",
   "execution_count": 72,
   "metadata": {},
   "outputs": [],
   "source": [
    "num_features = X.shape[2]\n",
    "\n",
    "model = tf.keras.Sequential([    \n",
    "    tf.keras.layers.Input(shape=(sequence_length, num_features)),\n",
    "    tf.keras.layers.Bidirectional(tf.keras.layers.GRU(256, return_sequences=True)),\n",
    "    tf.keras.layers.BatchNormalization(),\n",
    "    tf.keras.layers.Bidirectional(tf.keras.layers.GRU(192, return_sequences=False)),\n",
    "    tf.keras.layers.BatchNormalization(),\n",
    "    # tf.keras.layers.Bidirectional(tf.keras.layers.GRU(128, return_sequences=False)),\n",
    "    # tf.keras.layers.BatchNormalization(),\n",
    "    tf.keras.layers.Dense(128, activation='relu', kernel_regularizer=tf.keras.regularizers.L2(0.01)),\n",
    "    tf.keras.layers.Dense(192, activation='relu', kernel_regularizer=tf.keras.regularizers.L2(0.01)),\n",
    "    tf.keras.layers.Dense(256, activation='relu', kernel_regularizer=tf.keras.regularizers.L2(0.01)),\n",
    "    tf.keras.layers.Dense(num_features * forecast_horizon),  \n",
    "    tf.keras.layers.Reshape((forecast_horizon, num_features))\n",
    "])\n",
    "\n",
    "model.compile(optimizer=tf.keras.optimizers.SGD(momentum=0.9), loss='mae', metrics=['mae'])"
   ]
  },
  {
   "cell_type": "code",
   "execution_count": 73,
   "metadata": {},
   "outputs": [
    {
     "name": "stdout",
     "output_type": "stream",
     "text": [
      "Model: \"sequential\"\n",
      "_________________________________________________________________\n",
      " Layer (type)                Output Shape              Param #   \n",
      "=================================================================\n",
      " bidirectional (Bidirectiona  (None, 6, 512)           405504    \n",
      " l)                                                              \n",
      "                                                                 \n",
      " batch_normalization (BatchN  (None, 6, 512)           2048      \n",
      " ormalization)                                                   \n",
      "                                                                 \n",
      " bidirectional_1 (Bidirectio  (None, 384)              813312    \n",
      " nal)                                                            \n",
      "                                                                 \n",
      " batch_normalization_1 (Batc  (None, 384)              1536      \n",
      " hNormalization)                                                 \n",
      "                                                                 \n",
      " dense (Dense)               (None, 128)               49280     \n",
      "                                                                 \n",
      " dense_1 (Dense)             (None, 192)               24768     \n",
      "                                                                 \n",
      " dense_2 (Dense)             (None, 256)               49408     \n",
      "                                                                 \n",
      " dense_3 (Dense)             (None, 6)                 1542      \n",
      "                                                                 \n",
      " reshape (Reshape)           (None, 1, 6)              0         \n",
      "                                                                 \n",
      "=================================================================\n",
      "Total params: 1,347,398\n",
      "Trainable params: 1,345,606\n",
      "Non-trainable params: 1,792\n",
      "_________________________________________________________________\n"
     ]
    }
   ],
   "source": [
    "init_weights = model.get_weights()\n",
    "\n",
    "model.summary()"
   ]
  },
  {
   "cell_type": "code",
   "execution_count": 74,
   "metadata": {},
   "outputs": [],
   "source": [
    "from tensorflow.keras.callbacks import ReduceLROnPlateau\n",
    "\n",
    "reduce_lr = ReduceLROnPlateau(monitor='val_mae', factor = 0.5, patience=4, min_lr=1e-6)"
   ]
  },
  {
   "cell_type": "code",
   "execution_count": 75,
   "metadata": {},
   "outputs": [],
   "source": [
    "from tensorflow.keras.callbacks import Callback\n",
    "\n",
    "class CustomEarlyStopping(Callback):\n",
    "    def on_epoch_end(self, epoch, logs):\n",
    "        if logs['mae'] <= 0.058 and logs['val_mae'] <= 0.060:\n",
    "            self.model.stop_training = True\n",
    "\n",
    "custom_early_stopping = CustomEarlyStopping()"
   ]
  },
  {
   "cell_type": "code",
   "execution_count": 76,
   "metadata": {},
   "outputs": [],
   "source": [
    "# Reset states generated by Keras\n",
    "tf.keras.backend.clear_session()\n",
    "\n",
    "# Reset the weights\n",
    "model.set_weights(init_weights)"
   ]
  },
  {
   "cell_type": "code",
   "execution_count": 77,
   "metadata": {},
   "outputs": [
    {
     "name": "stdout",
     "output_type": "stream",
     "text": [
      "Epoch 1/100\n",
      "37/37 [==============================] - 11s 136ms/step - loss: 5.6118 - mae: 0.2194 - val_loss: 5.3762 - val_mae: 0.3517\n",
      "Epoch 2/100\n",
      "37/37 [==============================] - 2s 53ms/step - loss: 4.8002 - mae: 0.1262 - val_loss: 4.6201 - val_mae: 0.3023\n",
      "Epoch 3/100\n",
      "37/37 [==============================] - 3s 69ms/step - loss: 4.1152 - mae: 0.0985 - val_loss: 3.9799 - val_mae: 0.2685\n",
      "Epoch 4/100\n",
      "37/37 [==============================] - 2s 61ms/step - loss: 3.5443 - mae: 0.0914 - val_loss: 3.4361 - val_mae: 0.2448\n",
      "Epoch 5/100\n",
      "37/37 [==============================] - 1s 37ms/step - loss: 3.0567 - mae: 0.0869 - val_loss: 2.9652 - val_mae: 0.2197\n",
      "Epoch 6/100\n",
      "37/37 [==============================] - 1s 39ms/step - loss: 2.6361 - mae: 0.0809 - val_loss: 2.5652 - val_mae: 0.2027\n",
      "Epoch 7/100\n",
      "37/37 [==============================] - 1s 38ms/step - loss: 2.2766 - mae: 0.0773 - val_loss: 2.2233 - val_mae: 0.1895\n",
      "Epoch 8/100\n",
      "37/37 [==============================] - 2s 42ms/step - loss: 1.9697 - mae: 0.0759 - val_loss: 1.9327 - val_mae: 0.1809\n",
      "Epoch 9/100\n",
      "37/37 [==============================] - 2s 44ms/step - loss: 1.7036 - mae: 0.0724 - val_loss: 1.6795 - val_mae: 0.1705\n",
      "Epoch 10/100\n",
      "37/37 [==============================] - 1s 36ms/step - loss: 1.4777 - mae: 0.0721 - val_loss: 1.4610 - val_mae: 0.1605\n",
      "Epoch 11/100\n",
      "37/37 [==============================] - 1s 40ms/step - loss: 1.2885 - mae: 0.0770 - val_loss: 1.2639 - val_mae: 0.1425\n",
      "Epoch 12/100\n",
      "37/37 [==============================] - 2s 41ms/step - loss: 1.1209 - mae: 0.0761 - val_loss: 1.1084 - val_mae: 0.1411\n",
      "Epoch 13/100\n",
      "37/37 [==============================] - 2s 43ms/step - loss: 0.9753 - mae: 0.0738 - val_loss: 0.9638 - val_mae: 0.1290\n",
      "Epoch 14/100\n",
      "37/37 [==============================] - 2s 41ms/step - loss: 0.8522 - mae: 0.0738 - val_loss: 0.8360 - val_mae: 0.1149\n",
      "Epoch 15/100\n",
      "37/37 [==============================] - 1s 40ms/step - loss: 0.7437 - mae: 0.0711 - val_loss: 0.7354 - val_mae: 0.1120\n",
      "Epoch 16/100\n",
      "37/37 [==============================] - 2s 44ms/step - loss: 0.6528 - mae: 0.0713 - val_loss: 0.6441 - val_mae: 0.1047\n",
      "Epoch 17/100\n",
      "37/37 [==============================] - 2s 52ms/step - loss: 0.5739 - mae: 0.0703 - val_loss: 0.5628 - val_mae: 0.0958\n",
      "Epoch 18/100\n",
      "37/37 [==============================] - 2s 44ms/step - loss: 0.5063 - mae: 0.0702 - val_loss: 0.5036 - val_mae: 0.0989\n",
      "Epoch 19/100\n",
      "37/37 [==============================] - 3s 72ms/step - loss: 0.4516 - mae: 0.0732 - val_loss: 0.4441 - val_mae: 0.0928\n",
      "Epoch 20/100\n",
      "37/37 [==============================] - 2s 53ms/step - loss: 0.3996 - mae: 0.0710 - val_loss: 0.3960 - val_mae: 0.0906\n",
      "Epoch 21/100\n",
      "37/37 [==============================] - 2s 47ms/step - loss: 0.3526 - mae: 0.0668 - val_loss: 0.3579 - val_mae: 0.0918\n",
      "Epoch 22/100\n",
      "37/37 [==============================] - 2s 46ms/step - loss: 0.3195 - mae: 0.0705 - val_loss: 0.3238 - val_mae: 0.0920\n",
      "Epoch 23/100\n",
      "37/37 [==============================] - 2s 56ms/step - loss: 0.2883 - mae: 0.0711 - val_loss: 0.2936 - val_mae: 0.0911\n",
      "Epoch 24/100\n",
      "37/37 [==============================] - 2s 43ms/step - loss: 0.2608 - mae: 0.0708 - val_loss: 0.2699 - val_mae: 0.0925\n",
      "Epoch 25/100\n",
      "37/37 [==============================] - 2s 43ms/step - loss: 0.2368 - mae: 0.0703 - val_loss: 0.2502 - val_mae: 0.0947\n",
      "Epoch 26/100\n",
      "37/37 [==============================] - 2s 41ms/step - loss: 0.2172 - mae: 0.0707 - val_loss: 0.2332 - val_mae: 0.0960\n",
      "Epoch 27/100\n",
      "37/37 [==============================] - 2s 41ms/step - loss: 0.2036 - mae: 0.0743 - val_loss: 0.2132 - val_mae: 0.0921\n",
      "Epoch 28/100\n",
      "37/37 [==============================] - 2s 46ms/step - loss: 0.1839 - mae: 0.0696 - val_loss: 0.1992 - val_mae: 0.0918\n",
      "Epoch 29/100\n",
      "37/37 [==============================] - 2s 50ms/step - loss: 0.1733 - mae: 0.0721 - val_loss: 0.1848 - val_mae: 0.0893\n",
      "Epoch 30/100\n",
      "37/37 [==============================] - 3s 81ms/step - loss: 0.1604 - mae: 0.0702 - val_loss: 0.1736 - val_mae: 0.0886\n",
      "Epoch 31/100\n",
      "37/37 [==============================] - 4s 113ms/step - loss: 0.1500 - mae: 0.0695 - val_loss: 0.1663 - val_mae: 0.0901\n",
      "Epoch 32/100\n",
      "37/37 [==============================] - 3s 90ms/step - loss: 0.1419 - mae: 0.0697 - val_loss: 0.1530 - val_mae: 0.0844\n",
      "Epoch 33/100\n",
      "37/37 [==============================] - 2s 55ms/step - loss: 0.1340 - mae: 0.0687 - val_loss: 0.1497 - val_mae: 0.0879\n",
      "Epoch 34/100\n",
      "37/37 [==============================] - 2s 54ms/step - loss: 0.1303 - mae: 0.0713 - val_loss: 0.1505 - val_mae: 0.0946\n",
      "Epoch 35/100\n",
      "37/37 [==============================] - 2s 55ms/step - loss: 0.1217 - mae: 0.0681 - val_loss: 0.1413 - val_mae: 0.0900\n",
      "Epoch 36/100\n",
      "37/37 [==============================] - 3s 81ms/step - loss: 0.1167 - mae: 0.0677 - val_loss: 0.1306 - val_mae: 0.0838\n",
      "Epoch 37/100\n",
      "37/37 [==============================] - 2s 49ms/step - loss: 0.1164 - mae: 0.0716 - val_loss: 0.1337 - val_mae: 0.0907\n",
      "Epoch 38/100\n",
      "37/37 [==============================] - 2s 52ms/step - loss: 0.1106 - mae: 0.0689 - val_loss: 0.1265 - val_mae: 0.0861\n",
      "Epoch 39/100\n",
      "37/37 [==============================] - 2s 65ms/step - loss: 0.1039 - mae: 0.0652 - val_loss: 0.1266 - val_mae: 0.0894\n",
      "Epoch 40/100\n",
      "37/37 [==============================] - 3s 85ms/step - loss: 0.1050 - mae: 0.0690 - val_loss: 0.1267 - val_mae: 0.0918\n",
      "Epoch 41/100\n",
      "37/37 [==============================] - 2s 58ms/step - loss: 0.1004 - mae: 0.0665 - val_loss: 0.1293 - val_mae: 0.0960\n",
      "Epoch 42/100\n",
      "37/37 [==============================] - 2s 56ms/step - loss: 0.1018 - mae: 0.0698 - val_loss: 0.1193 - val_mae: 0.0885\n",
      "Epoch 43/100\n",
      "37/37 [==============================] - 2s 55ms/step - loss: 0.0995 - mae: 0.0691 - val_loss: 0.1265 - val_mae: 0.0968\n",
      "Epoch 44/100\n",
      "37/37 [==============================] - 2s 64ms/step - loss: 0.0982 - mae: 0.0693 - val_loss: 0.1164 - val_mae: 0.0881\n",
      "Epoch 45/100\n",
      "37/37 [==============================] - 2s 57ms/step - loss: 0.0953 - mae: 0.0676 - val_loss: 0.1146 - val_mae: 0.0876\n",
      "Epoch 46/100\n",
      "37/37 [==============================] - 2s 46ms/step - loss: 0.0954 - mae: 0.0690 - val_loss: 0.1129 - val_mae: 0.0868\n",
      "Epoch 47/100\n",
      "37/37 [==============================] - 2s 56ms/step - loss: 0.0964 - mae: 0.0708 - val_loss: 0.1187 - val_mae: 0.0931\n",
      "Epoch 48/100\n",
      "37/37 [==============================] - 2s 49ms/step - loss: 0.0907 - mae: 0.0659 - val_loss: 0.1096 - val_mae: 0.0852\n",
      "Epoch 49/100\n",
      "37/37 [==============================] - 2s 46ms/step - loss: 0.0907 - mae: 0.0667 - val_loss: 0.1104 - val_mae: 0.0867\n",
      "Epoch 50/100\n",
      "37/37 [==============================] - 2s 59ms/step - loss: 0.0915 - mae: 0.0682 - val_loss: 0.1111 - val_mae: 0.0879\n",
      "Epoch 51/100\n",
      "37/37 [==============================] - 2s 58ms/step - loss: 0.0915 - mae: 0.0687 - val_loss: 0.1167 - val_mae: 0.0945\n",
      "Epoch 52/100\n",
      "37/37 [==============================] - 2s 56ms/step - loss: 0.0907 - mae: 0.0685 - val_loss: 0.1050 - val_mae: 0.0829\n",
      "Epoch 53/100\n",
      "37/37 [==============================] - 2s 44ms/step - loss: 0.0934 - mae: 0.0714 - val_loss: 0.1120 - val_mae: 0.0905\n",
      "Epoch 54/100\n",
      "37/37 [==============================] - 3s 81ms/step - loss: 0.0868 - mae: 0.0652 - val_loss: 0.1172 - val_mae: 0.0955\n",
      "Epoch 55/100\n",
      "37/37 [==============================] - 3s 75ms/step - loss: 0.0903 - mae: 0.0691 - val_loss: 0.1100 - val_mae: 0.0888\n",
      "Epoch 56/100\n",
      "37/37 [==============================] - 2s 47ms/step - loss: 0.0883 - mae: 0.0674 - val_loss: 0.1042 - val_mae: 0.0834\n",
      "Epoch 57/100\n",
      "37/37 [==============================] - 2s 42ms/step - loss: 0.0905 - mae: 0.0699 - val_loss: 0.1107 - val_mae: 0.0901\n",
      "Epoch 58/100\n",
      "37/37 [==============================] - 2s 67ms/step - loss: 0.0904 - mae: 0.0700 - val_loss: 0.1206 - val_mae: 0.1002\n",
      "Epoch 59/100\n",
      "37/37 [==============================] - 2s 46ms/step - loss: 0.0898 - mae: 0.0696 - val_loss: 0.1058 - val_mae: 0.0859\n",
      "Epoch 60/100\n",
      "37/37 [==============================] - 2s 56ms/step - loss: 0.0879 - mae: 0.0681 - val_loss: 0.1025 - val_mae: 0.0826\n",
      "Epoch 61/100\n",
      "37/37 [==============================] - 2s 56ms/step - loss: 0.0856 - mae: 0.0656 - val_loss: 0.1048 - val_mae: 0.0851\n",
      "Epoch 62/100\n",
      "37/37 [==============================] - 2s 47ms/step - loss: 0.0833 - mae: 0.0638 - val_loss: 0.1052 - val_mae: 0.0857\n",
      "Epoch 63/100\n",
      "37/37 [==============================] - 3s 69ms/step - loss: 0.0887 - mae: 0.0694 - val_loss: 0.1035 - val_mae: 0.0841\n",
      "Epoch 64/100\n",
      "37/37 [==============================] - 2s 50ms/step - loss: 0.0840 - mae: 0.0644 - val_loss: 0.1065 - val_mae: 0.0872\n",
      "Epoch 65/100\n",
      "37/37 [==============================] - 2s 60ms/step - loss: 0.0831 - mae: 0.0639 - val_loss: 0.1023 - val_mae: 0.0833\n",
      "Epoch 66/100\n",
      "37/37 [==============================] - 2s 46ms/step - loss: 0.0848 - mae: 0.0657 - val_loss: 0.1093 - val_mae: 0.0904\n",
      "Epoch 67/100\n",
      "37/37 [==============================] - 2s 42ms/step - loss: 0.0848 - mae: 0.0660 - val_loss: 0.1010 - val_mae: 0.0821\n",
      "Epoch 68/100\n",
      "37/37 [==============================] - 2s 62ms/step - loss: 0.0834 - mae: 0.0644 - val_loss: 0.1163 - val_mae: 0.0972\n",
      "Epoch 69/100\n",
      "37/37 [==============================] - 1s 40ms/step - loss: 0.0852 - mae: 0.0662 - val_loss: 0.1031 - val_mae: 0.0843\n",
      "Epoch 70/100\n",
      "37/37 [==============================] - 2s 42ms/step - loss: 0.0885 - mae: 0.0696 - val_loss: 0.1139 - val_mae: 0.0949\n",
      "Epoch 71/100\n",
      "37/37 [==============================] - 2s 42ms/step - loss: 0.0829 - mae: 0.0642 - val_loss: 0.1021 - val_mae: 0.0832\n",
      "Epoch 72/100\n",
      "37/37 [==============================] - 1s 40ms/step - loss: 0.0834 - mae: 0.0648 - val_loss: 0.1034 - val_mae: 0.0850\n",
      "Epoch 73/100\n",
      "37/37 [==============================] - 1s 39ms/step - loss: 0.0853 - mae: 0.0667 - val_loss: 0.1090 - val_mae: 0.0904\n",
      "Epoch 74/100\n",
      "37/37 [==============================] - 1s 39ms/step - loss: 0.0839 - mae: 0.0655 - val_loss: 0.1015 - val_mae: 0.0831\n",
      "Epoch 75/100\n",
      "37/37 [==============================] - 2s 41ms/step - loss: 0.0845 - mae: 0.0659 - val_loss: 0.0996 - val_mae: 0.0813\n",
      "Epoch 76/100\n",
      "37/37 [==============================] - 2s 45ms/step - loss: 0.0874 - mae: 0.0688 - val_loss: 0.0993 - val_mae: 0.0809\n",
      "Epoch 77/100\n",
      "37/37 [==============================] - 2s 41ms/step - loss: 0.0836 - mae: 0.0652 - val_loss: 0.1015 - val_mae: 0.0830\n",
      "Epoch 78/100\n",
      "37/37 [==============================] - 1s 39ms/step - loss: 0.0853 - mae: 0.0666 - val_loss: 0.1158 - val_mae: 0.0971\n",
      "Epoch 79/100\n",
      "37/37 [==============================] - 1s 38ms/step - loss: 0.0840 - mae: 0.0656 - val_loss: 0.1091 - val_mae: 0.0905\n",
      "Epoch 80/100\n",
      "37/37 [==============================] - 1s 39ms/step - loss: 0.0840 - mae: 0.0656 - val_loss: 0.1044 - val_mae: 0.0863\n",
      "Epoch 81/100\n",
      "37/37 [==============================] - 1s 40ms/step - loss: 0.0815 - mae: 0.0634 - val_loss: 0.1088 - val_mae: 0.0907\n",
      "Epoch 82/100\n",
      "37/37 [==============================] - 2s 42ms/step - loss: 0.0837 - mae: 0.0655 - val_loss: 0.1003 - val_mae: 0.0821\n",
      "Epoch 83/100\n",
      "37/37 [==============================] - 1s 40ms/step - loss: 0.0863 - mae: 0.0681 - val_loss: 0.1042 - val_mae: 0.0863\n",
      "Epoch 84/100\n",
      "37/37 [==============================] - 1s 40ms/step - loss: 0.0829 - mae: 0.0648 - val_loss: 0.1012 - val_mae: 0.0830\n",
      "Epoch 85/100\n",
      "37/37 [==============================] - 2s 43ms/step - loss: 0.0836 - mae: 0.0653 - val_loss: 0.1076 - val_mae: 0.0893\n",
      "Epoch 86/100\n",
      "37/37 [==============================] - 1s 39ms/step - loss: 0.0845 - mae: 0.0664 - val_loss: 0.1101 - val_mae: 0.0920\n",
      "Epoch 87/100\n",
      "37/37 [==============================] - 2s 55ms/step - loss: 0.0842 - mae: 0.0662 - val_loss: 0.1041 - val_mae: 0.0861\n",
      "Epoch 88/100\n",
      "37/37 [==============================] - 2s 53ms/step - loss: 0.0852 - mae: 0.0670 - val_loss: 0.1004 - val_mae: 0.0825\n",
      "Epoch 89/100\n",
      "37/37 [==============================] - 2s 57ms/step - loss: 0.0821 - mae: 0.0641 - val_loss: 0.1023 - val_mae: 0.0842\n",
      "Epoch 90/100\n",
      "37/37 [==============================] - 2s 51ms/step - loss: 0.0797 - mae: 0.0617 - val_loss: 0.1017 - val_mae: 0.0840\n",
      "Epoch 91/100\n",
      "37/37 [==============================] - 2s 50ms/step - loss: 0.0805 - mae: 0.0626 - val_loss: 0.1032 - val_mae: 0.0854\n",
      "Epoch 92/100\n",
      "37/37 [==============================] - 2s 49ms/step - loss: 0.0844 - mae: 0.0666 - val_loss: 0.1048 - val_mae: 0.0866\n",
      "Epoch 93/100\n",
      "37/37 [==============================] - 2s 46ms/step - loss: 0.0851 - mae: 0.0671 - val_loss: 0.1001 - val_mae: 0.0821\n",
      "Epoch 94/100\n",
      "37/37 [==============================] - 2s 48ms/step - loss: 0.0835 - mae: 0.0657 - val_loss: 0.1060 - val_mae: 0.0884\n",
      "Epoch 95/100\n",
      "37/37 [==============================] - 2s 48ms/step - loss: 0.0809 - mae: 0.0632 - val_loss: 0.1093 - val_mae: 0.0915\n",
      "Epoch 96/100\n",
      "37/37 [==============================] - 2s 47ms/step - loss: 0.0809 - mae: 0.0632 - val_loss: 0.1014 - val_mae: 0.0839\n",
      "Epoch 97/100\n",
      "37/37 [==============================] - 2s 46ms/step - loss: 0.0840 - mae: 0.0664 - val_loss: 0.1003 - val_mae: 0.0825\n",
      "Epoch 98/100\n",
      "37/37 [==============================] - 2s 51ms/step - loss: 0.0839 - mae: 0.0662 - val_loss: 0.1122 - val_mae: 0.0948\n",
      "Epoch 99/100\n",
      "37/37 [==============================] - 2s 50ms/step - loss: 0.0844 - mae: 0.0668 - val_loss: 0.1090 - val_mae: 0.0915\n",
      "Epoch 100/100\n",
      "37/37 [==============================] - 2s 51ms/step - loss: 0.0866 - mae: 0.0690 - val_loss: 0.1039 - val_mae: 0.0861\n"
     ]
    }
   ],
   "source": [
    "history = model.fit(x_train, y_train, validation_data=(x_test, y_test), epochs=100, batch_size=16, verbose=1, callbacks=[custom_early_stopping])\n",
    "# history = model.fit(x_train, y_train, validation_data=(x_test, y_test), epochs=100, batch_size=16, verbose=1, callbacks=[reduce_lr])"
   ]
  },
  {
   "cell_type": "code",
   "execution_count": 78,
   "metadata": {},
   "outputs": [
    {
     "data": {
      "image/png": "[encoded data removed]",
      "text/plain": [
       "<Figure size 640x480 with 1 Axes>"
      ]
     },
     "metadata": {},
     "output_type": "display_data"
    }
   ],
   "source": [
    "plt.plot(history.history['loss'], color='g', label='Training Loss')\n",
    "plt.plot(history.history['val_loss'], color='b', label='Validation Loss')\n",
    "plt.title(\"Loss vs Val Loss\")\n",
    "plt.legend()\n",
    "plt.show()"
   ]
  },
  {
   "cell_type": "code",
   "execution_count": 79,
   "metadata": {},
   "outputs": [
    {
     "data": {
      "image/png": "[encoded data removed]",
      "text/plain": [
       "<Figure size 640x480 with 1 Axes>"
      ]
     },
     "metadata": {},
     "output_type": "display_data"
    }
   ],
   "source": [
    "plt.plot(history.history['mae'], color='g', label='Training MAE')\n",
    "plt.plot(history.history['val_mae'], color='b', label='Validation MAE')\n",
    "plt.title(\"MAE vs Val MAE\")\n",
    "plt.legend()\n",
    "plt.show()"
   ]
  },
  {
   "cell_type": "code",
   "execution_count": 80,
   "metadata": {},
   "outputs": [
    {
     "name": "stdout",
     "output_type": "stream",
     "text": [
      "Loss : 0.1039479523897171, MAE : 0.08611676841974258\n"
     ]
    }
   ],
   "source": [
    "loss, mae = model.evaluate(x_test, y_test, verbose=0)\n",
    "print(\"Loss : {}, MAE : {}\".format(loss, mae))"
   ]
  },
  {
   "cell_type": "code",
   "execution_count": 81,
   "metadata": {},
   "outputs": [
    {
     "name": "stdout",
     "output_type": "stream",
     "text": [
      "5/5 [==============================] - 1s 15ms/step\n",
      "[[ 26.176725    2.6323898 165.81602    29.781328   79.80605    68.93578  ]]\n",
      "[[ 26.6    3.6  155.    29.79  79.    41.  ]]\n"
     ]
    }
   ],
   "source": [
    "predictions = model.predict(x_test)\n",
    "\n",
    "print(scaler.inverse_transform(predictions[2]))\n",
    "print(scaler.inverse_transform(y_test[2]))"
   ]
  },
  {
   "cell_type": "code",
   "execution_count": 82,
   "metadata": {},
   "outputs": [],
   "source": [
    "# model.save('forecasting.h5')"
   ]
  }
 ],
 "metadata": {
  "kernelspec": {
   "display_name": "Tensor",
   "language": "python",
   "name": "python3"
  },
  "language_info": {
   "codemirror_mode": {
    "name": "ipython",
    "version": 3
   },
   "file_extension": ".py",
   "mimetype": "text/x-python",
   "name": "python",
   "nbconvert_exporter": "python",
   "pygments_lexer": "ipython3",
   "version": "3.7.16"
  }
 },
 "nbformat": 4,
 "nbformat_minor": 2
}
