{
 "cells": [
  {
   "cell_type": "code",
   "execution_count": 1,
   "metadata": {},
   "outputs": [],
   "source": [
    "from tensorflow.keras.models import load_model"
   ]
  },
  {
   "cell_type": "code",
   "execution_count": 2,
   "metadata": {},
   "outputs": [],
   "source": [
    "MODEL_PATH = \"forecasting.h5\"  \n",
    "model = None\n",
    "\n",
    "try:    \n",
    "    model = load_model(MODEL_PATH)\n",
    "except Exception as e:\n",
    "    print(f\"Error loading model: {e}\")"
   ]
  },
  {
   "cell_type": "code",
   "execution_count": 3,
   "metadata": {},
   "outputs": [
    {
     "name": "stdout",
     "output_type": "stream",
     "text": [
      "Model: \"sequential\"\n",
      "_________________________________________________________________\n",
      " Layer (type)                Output Shape              Param #   \n",
      "=================================================================\n",
      " bidirectional (Bidirectiona  (None, 6, 512)           405504    \n",
      " l)                                                              \n",
      "                                                                 \n",
      " batch_normalization (BatchN  (None, 6, 512)           2048      \n",
      " ormalization)                                                   \n",
      "                                                                 \n",
      " bidirectional_1 (Bidirectio  (None, 384)              813312    \n",
      " nal)                                                            \n",
      "                                                                 \n",
      " batch_normalization_1 (Batc  (None, 384)              1536      \n",
      " hNormalization)                                                 \n",
      "                                                                 \n",
      " dense (Dense)               (None, 256)               98560     \n",
      "                                                                 \n",
      " dense_1 (Dense)             (None, 192)               49344     \n",
      "                                                                 \n",
      " dense_2 (Dense)             (None, 6)                 1158      \n",
      "                                                                 \n",
      " reshape (Reshape)           (None, 1, 6)              0         \n",
      "                                                                 \n",
      "=================================================================\n",
      "Total params: 1,371,462\n",
      "Trainable params: 1,369,670\n",
      "Non-trainable params: 1,792\n",
      "_________________________________________________________________\n"
     ]
    }
   ],
   "source": [
    "model.summary()"
   ]
  },
  {
   "cell_type": "code",
   "execution_count": 5,
   "metadata": {},
   "outputs": [],
   "source": [
    "data = [\n",
    "        [\n",
    "            0.4608695652173913,\n",
    "            0.3787878787878788,\n",
    "            0.8217270194986073,\n",
    "            0.5769230769230802,\n",
    "            0.5510204081632653,\n",
    "            0.37499999999999994\n",
    "        ],\n",
    "        [\n",
    "            0.5391304347826082,\n",
    "            0.5252525252525253,\n",
    "            0.8690807799442897,\n",
    "            0.6153846153846132,\n",
    "            0.46938775510204067,\n",
    "            0.49999999999999994\n",
    "        ],\n",
    "        [\n",
    "            0.4956521739130433,\n",
    "            0.6515151515151515,\n",
    "            0.8440111420612814,\n",
    "            0.538461538461533,\n",
    "            0.5306122448979591,\n",
    "            0.8333333333333334\n",
    "        ],\n",
    "        [\n",
    "            0.35652173913043494,\n",
    "            0.6161616161616161,\n",
    "            0.8133704735376045,\n",
    "            0.461538461538467,\n",
    "            0.6734693877551019,\n",
    "            0.35416666666666663\n",
    "        ],\n",
    "        [\n",
    "            0.3652173913043475,\n",
    "            0.5606060606060606,\n",
    "            0.8050139275766017,\n",
    "            0.3461538461538396,\n",
    "            0.6530612244897958,\n",
    "            0.84375\n",
    "        ],\n",
    "        [\n",
    "            0.4869565217391303,\n",
    "            0.5808080808080808,\n",
    "            0.807799442896936,\n",
    "            0.2692307692307736,\n",
    "            0.510204081632653,\n",
    "            0.7291666666666666\n",
    "        ]\n",
    "    ]"
   ]
  },
  {
   "cell_type": "code",
   "execution_count": 7,
   "metadata": {},
   "outputs": [
    {
     "name": "stdout",
     "output_type": "stream",
     "text": [
      "1/1 [==============================] - 2s 2s/step\n",
      "[[[0.46118495 0.37193304 0.76478446 0.37594944 0.5132526  0.6965864 ]]]\n"
     ]
    }
   ],
   "source": [
    "import numpy as np\n",
    "\n",
    "data_array = np.array(data)\n",
    "data_reshaped = data_array.reshape(1, 6, 6) \n",
    "\n",
    "predictions = model.predict(data_reshaped)\n",
    "\n",
    "print(predictions)"
   ]
  }
 ],
 "metadata": {
  "kernelspec": {
   "display_name": "Tensor",
   "language": "python",
   "name": "python3"
  },
  "language_info": {
   "codemirror_mode": {
    "name": "ipython",
    "version": 3
   },
   "file_extension": ".py",
   "mimetype": "text/x-python",
   "name": "python",
   "nbconvert_exporter": "python",
   "pygments_lexer": "ipython3",
   "version": "3.7.16"
  }
 },
 "nbformat": 4,
 "nbformat_minor": 2
}
