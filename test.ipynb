{
 "cells": [
  {
   "cell_type": "code",
   "execution_count": 1,
   "metadata": {},
   "outputs": [
    {
     "name": "stdout",
     "output_type": "stream",
     "text": [
      "Model: \"sequential_22\"\n",
      "_________________________________________________________________\n",
      " Layer (type)                Output Shape              Param #   \n",
      "=================================================================\n",
      " dense_199 (Dense)           (None, 64)                576       \n",
      "                                                                 \n",
      " batch_normalization_177 (Ba  (None, 64)               256       \n",
      " tchNormalization)                                               \n",
      "                                                                 \n",
      " dense_200 (Dense)           (None, 48)                3120      \n",
      "                                                                 \n",
      " batch_normalization_178 (Ba  (None, 48)               192       \n",
      " tchNormalization)                                               \n",
      "                                                                 \n",
      " dense_201 (Dense)           (None, 32)                1568      \n",
      "                                                                 \n",
      " batch_normalization_179 (Ba  (None, 32)               128       \n",
      " tchNormalization)                                               \n",
      "                                                                 \n",
      " dense_202 (Dense)           (None, 16)                528       \n",
      "                                                                 \n",
      " batch_normalization_180 (Ba  (None, 16)               64        \n",
      " tchNormalization)                                               \n",
      "                                                                 \n",
      " dense_203 (Dense)           (None, 10)                170       \n",
      "                                                                 \n",
      "=================================================================\n",
      "Total params: 6,602\n",
      "Trainable params: 6,282\n",
      "Non-trainable params: 320\n",
      "_________________________________________________________________\n"
     ]
    }
   ],
   "source": [
    "import tensorflow as tf\n",
    "\n",
    "model = tf.keras.models.load_model(\"classification.h5\")\n",
    "\n",
    "model.summary()"
   ]
  }
 ],
 "metadata": {
  "kernelspec": {
   "display_name": "Tensor",
   "language": "python",
   "name": "python3"
  },
  "language_info": {
   "codemirror_mode": {
    "name": "ipython",
    "version": 3
   },
   "file_extension": ".py",
   "mimetype": "text/x-python",
   "name": "python",
   "nbconvert_exporter": "python",
   "pygments_lexer": "ipython3",
   "version": "3.7.16"
  }
 },
 "nbformat": 4,
 "nbformat_minor": 2
}
