{
 "cells": [
  {
   "cell_type": "code",
   "execution_count": 4,
   "metadata": {},
   "outputs": [
    {
     "name": "stdout",
     "output_type": "stream",
     "text": [
      "200\n"
     ]
    }
   ],
   "source": [
    "import requests\n",
    "from dotenv import load_dotenv\n",
    "import os\n",
    "\n",
    "load_dotenv()\n",
    "\n",
    "key = os.getenv(\"API_KEY\")\n",
    "location = \"Bandung\"\n",
    "start_date = \"2024-11-01\"\n",
    "end_date = \"2024-12-01\"\n",
    "\n",
    "result = requests.get('http://api.weatherapi.com/v1/history.json?key={}&q={}&dt={}&end_dt={}'.format(key, location, start_date, end_date))\n",
    "print(result.status_code)"
   ]
  },
  {
   "cell_type": "code",
   "execution_count": 5,
   "metadata": {},
   "outputs": [],
   "source": [
    "data = result.json()"
   ]
  },
  {
   "cell_type": "code",
   "execution_count": 6,
   "metadata": {},
   "outputs": [
    {
     "name": "stdout",
     "output_type": "stream",
     "text": [
      "26.2\n"
     ]
    }
   ],
   "source": [
    "print(data['forecast']['forecastday'][0]['hour'][0]['temp_c'])"
   ]
  },
  {
   "cell_type": "code",
   "execution_count": 7,
   "metadata": {},
   "outputs": [],
   "source": [
    "import pandas as pd\n",
    "import numpy as np\n",
    "import matplotlib.pyplot as plt"
   ]
  },
  {
   "cell_type": "code",
   "execution_count": 8,
   "metadata": {},
   "outputs": [],
   "source": [
    "days = len(data['forecast']['forecastday'])\n",
    "hours = len(data['forecast']['forecastday'][0]['hour'])"
   ]
  },
  {
   "cell_type": "code",
   "execution_count": 9,
   "metadata": {},
   "outputs": [
    {
     "name": "stdout",
     "output_type": "stream",
     "text": [
      "                 time  temp  wind_speed  wind_degree  pressure  precip  \\\n",
      "0    2024-11-01 00:00  26.2         4.7          180     29.82    0.00   \n",
      "1    2024-11-01 01:00  26.0         5.4          192     29.81    0.00   \n",
      "2    2024-11-01 02:00  26.0         5.0          207     29.79    0.00   \n",
      "3    2024-11-01 03:00  25.8         6.1          212     29.79    0.00   \n",
      "4    2024-11-01 04:00  25.7         5.8          207     29.81    0.00   \n",
      "..                ...   ...         ...          ...       ...     ...   \n",
      "739  2024-12-01 19:00  26.8         3.2           65     29.76    0.02   \n",
      "740  2024-12-01 20:00  26.8         2.2           86     29.78    0.03   \n",
      "741  2024-12-01 21:00  26.7         2.2          107     29.79    0.00   \n",
      "742  2024-12-01 22:00  26.6         1.8          136     29.79    0.00   \n",
      "743  2024-12-01 23:00  26.5         2.5          168     29.78    0.00   \n",
      "\n",
      "     humidity  cloud   uv  weather  \n",
      "0          76     80  0.0     1063  \n",
      "1          75     76  0.0     1063  \n",
      "2          75     17  0.0     1000  \n",
      "3          75     16  0.0     1000  \n",
      "4          75     14  0.0     1000  \n",
      "..        ...    ...  ...      ...  \n",
      "739        80     88  0.0     1063  \n",
      "740        80     73  0.0     1063  \n",
      "741        80     79  0.0     1063  \n",
      "742        80     75  0.0     1063  \n",
      "743        81     72  0.0     1063  \n",
      "\n",
      "[744 rows x 10 columns]\n"
     ]
    }
   ],
   "source": [
    "df = []\n",
    "\n",
    "for day in range(days):\n",
    "    for hour in range(hours):\n",
    "        field = {\n",
    "            'time': data['forecast']['forecastday'][day]['hour'][hour]['time'],\n",
    "            'temp': data['forecast']['forecastday'][day]['hour'][hour]['temp_c'],\n",
    "            'wind_speed': data['forecast']['forecastday'][day]['hour'][hour]['wind_kph'],\n",
    "            'wind_degree': data['forecast']['forecastday'][day]['hour'][hour]['wind_degree'],\n",
    "            # 'wind_dir': data['forecast']['forecastday'][day]['hour'][hour]['wind_dir'],\n",
    "            'pressure': data['forecast']['forecastday'][day]['hour'][hour]['pressure_in'],\n",
    "            'precip': data['forecast']['forecastday'][day]['hour'][hour]['precip_in'],\n",
    "            'humidity': data['forecast']['forecastday'][day]['hour'][hour]['humidity'],\n",
    "            'cloud': data['forecast']['forecastday'][day]['hour'][hour]['cloud'],\n",
    "            'uv': data['forecast']['forecastday'][day]['hour'][hour]['uv'],\n",
    "            'weather': data['forecast']['forecastday'][day]['hour'][hour]['condition']['code'],\n",
    "        }        \n",
    "        \n",
    "        df.append(field)\n",
    "\n",
    "df = pd.DataFrame(df)\n",
    "print(df)"
   ]
  },
  {
   "cell_type": "code",
   "execution_count": 10,
   "metadata": {},
   "outputs": [],
   "source": [
    "df.to_csv('weather_data.csv', index=False)"
   ]
  }
 ],
 "metadata": {
  "kernelspec": {
   "display_name": "Tensor",
   "language": "python",
   "name": "python3"
  },
  "language_info": {
   "codemirror_mode": {
    "name": "ipython",
    "version": 3
   },
   "file_extension": ".py",
   "mimetype": "text/x-python",
   "name": "python",
   "nbconvert_exporter": "python",
   "pygments_lexer": "ipython3",
   "version": "3.7.16"
  }
 },
 "nbformat": 4,
 "nbformat_minor": 2
}
