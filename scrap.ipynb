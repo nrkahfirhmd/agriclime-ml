{
 "cells": [
  {
   "cell_type": "code",
   "execution_count": 6,
   "metadata": {},
   "outputs": [
    {
     "name": "stdout",
     "output_type": "stream",
     "text": [
      "200\n"
     ]
    }
   ],
   "source": [
    "import requests\n",
    "from dotenv import load_dotenv\n",
    "import os\n",
    "\n",
    "load_dotenv()\n",
    "\n",
    "key = os.getenv(\"API_KEY\")\n",
    "location = \"Bandung\"\n",
    "start_date = \"2024-10-22\"\n",
    "end_date = \"2024-11-22\"\n",
    "\n",
    "result = requests.get('http://api.weatherapi.com/v1/history.json?key={}&q={}&dt={}&end_dt={}'.format(key, location, start_date, end_date))\n",
    "print(result.status_code)"
   ]
  },
  {
   "cell_type": "code",
   "execution_count": 7,
   "metadata": {},
   "outputs": [],
   "source": [
    "data = result.json()"
   ]
  },
  {
   "cell_type": "code",
   "execution_count": 8,
   "metadata": {},
   "outputs": [
    {
     "name": "stdout",
     "output_type": "stream",
     "text": [
      "26.1\n"
     ]
    }
   ],
   "source": [
    "print(data['forecast']['forecastday'][0]['hour'][0]['temp_c'])"
   ]
  },
  {
   "cell_type": "code",
   "execution_count": 9,
   "metadata": {},
   "outputs": [],
   "source": [
    "import pandas as pd\n",
    "import numpy as np\n",
    "import matplotlib.pyplot as plt"
   ]
  },
  {
   "cell_type": "code",
   "execution_count": 10,
   "metadata": {},
   "outputs": [],
   "source": [
    "days = len(data['forecast']['forecastday'])\n",
    "hours = len(data['forecast']['forecastday'][0]['hour'])"
   ]
  },
  {
   "cell_type": "code",
   "execution_count": 12,
   "metadata": {},
   "outputs": [
    {
     "name": "stdout",
     "output_type": "stream",
     "text": [
      "                 time  temp  wind_speed  wind_degree  pressure  precip  \\\n",
      "0    2024-10-22 00:00  26.1         7.9          179     29.86    0.00   \n",
      "1    2024-10-22 01:00  26.0         7.2          188     29.85    0.00   \n",
      "2    2024-10-22 02:00  25.8         6.1          185     29.84    0.00   \n",
      "3    2024-10-22 03:00  25.5         6.5          168     29.84    0.00   \n",
      "4    2024-10-22 04:00  25.5         6.1          183     29.85    0.00   \n",
      "..                ...   ...         ...          ...       ...     ...   \n",
      "763  2024-11-22 19:00  27.4         4.3          114     29.74    0.01   \n",
      "764  2024-11-22 20:00  27.1         3.6          124     29.77    0.02   \n",
      "765  2024-11-22 21:00  27.0         3.6          136     29.80    0.01   \n",
      "766  2024-11-22 22:00  26.9         2.9          162     29.80    0.01   \n",
      "767  2024-11-22 23:00  26.2         3.2          206     29.79    0.02   \n",
      "\n",
      "     humidity  cloud   uv  weather  \n",
      "0          74     35  0.0     1003  \n",
      "1          74     32  0.0     1003  \n",
      "2          73     26  0.0     1003  \n",
      "3          73     34  0.0     1003  \n",
      "4          72     20  0.0     1000  \n",
      "..        ...    ...  ...      ...  \n",
      "763        73     74  0.0     1063  \n",
      "764        75     77  0.0     1063  \n",
      "765        75     75  0.0     1063  \n",
      "766        76     57  0.0     1240  \n",
      "767        79     52  0.0     1240  \n",
      "\n",
      "[768 rows x 10 columns]\n"
     ]
    }
   ],
   "source": [
    "df = []\n",
    "\n",
    "for day in range(days):\n",
    "    for hour in range(hours):\n",
    "        field = {\n",
    "            'time': data['forecast']['forecastday'][day]['hour'][hour]['time'],\n",
    "            'temp': data['forecast']['forecastday'][day]['hour'][hour]['temp_c'],\n",
    "            'wind_speed': data['forecast']['forecastday'][day]['hour'][hour]['wind_kph'],\n",
    "            'wind_degree': data['forecast']['forecastday'][day]['hour'][hour]['wind_degree'],\n",
    "            # 'wind_dir': data['forecast']['forecastday'][day]['hour'][hour]['wind_dir'],\n",
    "            'pressure': data['forecast']['forecastday'][day]['hour'][hour]['pressure_in'],\n",
    "            'precip': data['forecast']['forecastday'][day]['hour'][hour]['precip_in'],\n",
    "            'humidity': data['forecast']['forecastday'][day]['hour'][hour]['humidity'],\n",
    "            'cloud': data['forecast']['forecastday'][day]['hour'][hour]['cloud'],\n",
    "            'uv': data['forecast']['forecastday'][day]['hour'][hour]['uv'],\n",
    "            'weather': data['forecast']['forecastday'][day]['hour'][hour]['condition']['code'],\n",
    "        }        \n",
    "        \n",
    "        df.append(field)\n",
    "\n",
    "df = pd.DataFrame(df)\n",
    "print(df)"
   ]
  },
  {
   "cell_type": "code",
   "execution_count": 13,
   "metadata": {},
   "outputs": [],
   "source": [
    "df.to_csv('weather_data.csv', index=False)"
   ]
  }
 ],
 "metadata": {
  "kernelspec": {
   "display_name": "Tensor",
   "language": "python",
   "name": "python3"
  },
  "language_info": {
   "codemirror_mode": {
    "name": "ipython",
    "version": 3
   },
   "file_extension": ".py",
   "mimetype": "text/x-python",
   "name": "python",
   "nbconvert_exporter": "python",
   "pygments_lexer": "ipython3",
   "version": "3.7.16"
  }
 },
 "nbformat": 4,
 "nbformat_minor": 2
}
