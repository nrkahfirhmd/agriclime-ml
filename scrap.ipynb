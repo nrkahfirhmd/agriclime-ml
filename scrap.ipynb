{
 "cells": [
  {
   "cell_type": "code",
   "execution_count": 5,
   "metadata": {},
   "outputs": [],
   "source": [
    "import requests\n",
    "from dotenv import load_dotenv\n",
    "import os\n",
    "from datetime import datetime, timedelta\n",
    "\n",
    "load_dotenv()\n",
    "\n",
    "key = os.getenv(\"API_KEY\")\n",
    "location = \"Bandung\"\n",
    "start_date = datetime(2023, 12, 1)  # Start date\n",
    "end_date = datetime(2024, 12, 1)    # End date (12 months)"
   ]
  },
  {
   "cell_type": "code",
   "execution_count": 6,
   "metadata": {},
   "outputs": [
    {
     "name": "stdout",
     "output_type": "stream",
     "text": [
      "Failed to fetch data for 2023-12-01 to 2023-12-30: 400\n",
      "Fetched data for 12 periods.\n"
     ]
    }
   ],
   "source": [
    "def fetch_weather_data(api_key, location, start_date, end_date):\n",
    "    results = []\n",
    "    current_start = start_date\n",
    "\n",
    "    while current_start < end_date:\n",
    "        current_end = min(current_start + timedelta(days=29), end_date)  # Ensure we don't exceed 30 days\n",
    "        formatted_start = current_start.strftime(\"%Y-%m-%d\")\n",
    "        formatted_end = current_end.strftime(\"%Y-%m-%d\")\n",
    "        \n",
    "        url = f'http://api.weatherapi.com/v1/history.json?key={api_key}&q={location}&dt={formatted_start}&end_dt={formatted_end}'\n",
    "        response = requests.get(url)\n",
    "\n",
    "        if response.status_code == 200:\n",
    "            results.append(response.json())\n",
    "        else:\n",
    "            print(f\"Failed to fetch data for {formatted_start} to {formatted_end}: {response.status_code}\")\n",
    "        \n",
    "        current_start = current_end + timedelta(days=1)  # Move to the next period\n",
    "\n",
    "    return results\n",
    "\n",
    "# Fetch data\n",
    "weather_data = fetch_weather_data(key, location, start_date, end_date)\n",
    "\n",
    "# Output the results (e.g., length of data chunks fetched)\n",
    "print(f\"Fetched data for {len(weather_data)} periods.\")\n"
   ]
  },
  {
   "cell_type": "code",
   "execution_count": 8,
   "metadata": {},
   "outputs": [
    {
     "name": "stdout",
     "output_type": "stream",
     "text": [
      "25.0\n"
     ]
    }
   ],
   "source": [
    "print(weather_data[1]['forecast']['forecastday'][0]['hour'][0]['temp_c'])"
   ]
  },
  {
   "cell_type": "code",
   "execution_count": 9,
   "metadata": {},
   "outputs": [],
   "source": [
    "import pandas as pd\n",
    "import numpy as np\n",
    "import matplotlib.pyplot as plt"
   ]
  },
  {
   "cell_type": "code",
   "execution_count": 11,
   "metadata": {},
   "outputs": [],
   "source": [
    "days = len(weather_data[0]['forecast']['forecastday'])\n",
    "hours = len(weather_data[0]['forecast']['forecastday'][0]['hour'])"
   ]
  },
  {
   "cell_type": "code",
   "execution_count": 12,
   "metadata": {},
   "outputs": [
    {
     "name": "stdout",
     "output_type": "stream",
     "text": [
      "                  time  temp  wind_speed  wind_degree  pressure  precip  \\\n",
      "0     2023-12-31 00:00  26.9         2.2          225     29.82    0.00   \n",
      "1     2023-12-31 01:00  26.7         2.5          240     29.81    0.00   \n",
      "2     2023-12-31 02:00  26.6         2.9          255     29.79    0.01   \n",
      "3     2023-12-31 03:00  26.4         3.2          233     29.79    0.01   \n",
      "4     2023-12-31 04:00  26.3         3.6          218     29.79    0.00   \n",
      "...                ...   ...         ...          ...       ...     ...   \n",
      "8083  2024-12-01 19:00  26.8         3.2           65     29.76    0.02   \n",
      "8084  2024-12-01 20:00  26.8         2.2           86     29.78    0.03   \n",
      "8085  2024-12-01 21:00  26.7         2.2          107     29.79    0.00   \n",
      "8086  2024-12-01 22:00  26.6         1.8          136     29.79    0.00   \n",
      "8087  2024-12-01 23:00  26.5         2.5          168     29.78    0.00   \n",
      "\n",
      "      humidity  cloud   uv  weather  \n",
      "0           79     42  0.0     1003  \n",
      "1           80     32  0.0     1003  \n",
      "2           80     77  0.0     1063  \n",
      "3           81     87  0.0     1063  \n",
      "4           81     36  0.0     1003  \n",
      "...        ...    ...  ...      ...  \n",
      "8083        80     88  0.0     1063  \n",
      "8084        80     73  0.0     1063  \n",
      "8085        80     79  0.0     1063  \n",
      "8086        80     75  0.0     1063  \n",
      "8087        81     72  0.0     1063  \n",
      "\n",
      "[8088 rows x 10 columns]\n"
     ]
    }
   ],
   "source": [
    "df = []\n",
    "\n",
    "for month in range(len(weather_data)):\n",
    "    days = len(weather_data[month]['forecast']['forecastday'])\n",
    "    hours = len(weather_data[month]['forecast']['forecastday'][0]['hour'])\n",
    "    for day in range(days):\n",
    "        for hour in range(hours):\n",
    "            field = {\n",
    "                'time': weather_data[month]['forecast']['forecastday'][day]['hour'][hour]['time'],\n",
    "                'temp': weather_data[month]['forecast']['forecastday'][day]['hour'][hour]['temp_c'],\n",
    "                'wind_speed': weather_data[month]['forecast']['forecastday'][day]['hour'][hour]['wind_kph'],\n",
    "                'wind_degree': weather_data[month]['forecast']['forecastday'][day]['hour'][hour]['wind_degree'],\n",
    "                # 'wind_dir': weather_data[month]['forecast']['forecastday'][day]['hour'][hour]['wind_dir'],\n",
    "                'pressure': weather_data[month]['forecast']['forecastday'][day]['hour'][hour]['pressure_in'],\n",
    "                'precip': weather_data[month]['forecast']['forecastday'][day]['hour'][hour]['precip_in'],\n",
    "                'humidity': weather_data[month]['forecast']['forecastday'][day]['hour'][hour]['humidity'],\n",
    "                'cloud': weather_data[month]['forecast']['forecastday'][day]['hour'][hour]['cloud'],\n",
    "                'uv': weather_data[month]['forecast']['forecastday'][day]['hour'][hour]['uv'],\n",
    "                'weather': weather_data[month]['forecast']['forecastday'][day]['hour'][hour]['condition']['code'],\n",
    "            }        \n",
    "            \n",
    "            df.append(field)\n",
    "\n",
    "df = pd.DataFrame(df)\n",
    "print(df)"
   ]
  },
  {
   "cell_type": "code",
   "execution_count": 13,
   "metadata": {},
   "outputs": [],
   "source": [
    "df.to_csv('weather_data.csv', index=False)"
   ]
  }
 ],
 "metadata": {
  "kernelspec": {
   "display_name": "Tensor",
   "language": "python",
   "name": "python3"
  },
  "language_info": {
   "codemirror_mode": {
    "name": "ipython",
    "version": 3
   },
   "file_extension": ".py",
   "mimetype": "text/x-python",
   "name": "python",
   "nbconvert_exporter": "python",
   "pygments_lexer": "ipython3",
   "version": "3.7.16"
  }
 },
 "nbformat": 4,
 "nbformat_minor": 2
}
