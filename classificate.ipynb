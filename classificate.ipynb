{
 "cells": [
  {
   "cell_type": "code",
   "execution_count": 107,
   "metadata": {},
   "outputs": [],
   "source": [
    "import pandas as pd\n",
    "import numpy as np\n",
    "import matplotlib.pyplot as plt\n",
    "import tensorflow as tf"
   ]
  },
  {
   "cell_type": "code",
   "execution_count": 108,
   "metadata": {},
   "outputs": [
    {
     "name": "stdout",
     "output_type": "stream",
     "text": [
      "Dataset downloaded to: C:\\Users\\nurka\\.cache\\kagglehub\\datasets\\nelgiriyewithana\\global-weather-repository\\versions\\434\n"
     ]
    }
   ],
   "source": [
    "import kagglehub\n",
    "\n",
    "# Download latest version\n",
    "path = kagglehub.dataset_download(\"nelgiriyewithana/global-weather-repository\")\n",
    "\n",
    "print(\"Dataset downloaded to:\", path)"
   ]
  },
  {
   "cell_type": "code",
   "execution_count": 109,
   "metadata": {},
   "outputs": [
    {
     "data": {
      "text/html": [
       "<div>\n",
       "<style scoped>\n",
       "    .dataframe tbody tr th:only-of-type {\n",
       "        vertical-align: middle;\n",
       "    }\n",
       "\n",
       "    .dataframe tbody tr th {\n",
       "        vertical-align: top;\n",
       "    }\n",
       "\n",
       "    .dataframe thead th {\n",
       "        text-align: right;\n",
       "    }\n",
       "</style>\n",
       "<table border=\"1\" class=\"dataframe\">\n",
       "  <thead>\n",
       "    <tr style=\"text-align: right;\">\n",
       "      <th></th>\n",
       "      <th>country</th>\n",
       "      <th>location_name</th>\n",
       "      <th>latitude</th>\n",
       "      <th>longitude</th>\n",
       "      <th>timezone</th>\n",
       "      <th>last_updated_epoch</th>\n",
       "      <th>last_updated</th>\n",
       "      <th>temperature_celsius</th>\n",
       "      <th>temperature_fahrenheit</th>\n",
       "      <th>condition_text</th>\n",
       "      <th>...</th>\n",
       "      <th>air_quality_PM2.5</th>\n",
       "      <th>air_quality_PM10</th>\n",
       "      <th>air_quality_us-epa-index</th>\n",
       "      <th>air_quality_gb-defra-index</th>\n",
       "      <th>sunrise</th>\n",
       "      <th>sunset</th>\n",
       "      <th>moonrise</th>\n",
       "      <th>moonset</th>\n",
       "      <th>moon_phase</th>\n",
       "      <th>moon_illumination</th>\n",
       "    </tr>\n",
       "  </thead>\n",
       "  <tbody>\n",
       "    <tr>\n",
       "      <th>0</th>\n",
       "      <td>Afghanistan</td>\n",
       "      <td>Kabul</td>\n",
       "      <td>34.52</td>\n",
       "      <td>69.18</td>\n",
       "      <td>Asia/Kabul</td>\n",
       "      <td>1715849100</td>\n",
       "      <td>2024-05-16 13:15</td>\n",
       "      <td>26.6</td>\n",
       "      <td>79.8</td>\n",
       "      <td>Partly Cloudy</td>\n",
       "      <td>...</td>\n",
       "      <td>8.4</td>\n",
       "      <td>26.6</td>\n",
       "      <td>1</td>\n",
       "      <td>1</td>\n",
       "      <td>04:50 AM</td>\n",
       "      <td>06:50 PM</td>\n",
       "      <td>12:12 PM</td>\n",
       "      <td>01:11 AM</td>\n",
       "      <td>Waxing Gibbous</td>\n",
       "      <td>55</td>\n",
       "    </tr>\n",
       "    <tr>\n",
       "      <th>1</th>\n",
       "      <td>Albania</td>\n",
       "      <td>Tirana</td>\n",
       "      <td>41.33</td>\n",
       "      <td>19.82</td>\n",
       "      <td>Europe/Tirane</td>\n",
       "      <td>1715849100</td>\n",
       "      <td>2024-05-16 10:45</td>\n",
       "      <td>19.0</td>\n",
       "      <td>66.2</td>\n",
       "      <td>Partly cloudy</td>\n",
       "      <td>...</td>\n",
       "      <td>1.1</td>\n",
       "      <td>2.0</td>\n",
       "      <td>1</td>\n",
       "      <td>1</td>\n",
       "      <td>05:21 AM</td>\n",
       "      <td>07:54 PM</td>\n",
       "      <td>12:58 PM</td>\n",
       "      <td>02:14 AM</td>\n",
       "      <td>Waxing Gibbous</td>\n",
       "      <td>55</td>\n",
       "    </tr>\n",
       "    <tr>\n",
       "      <th>2</th>\n",
       "      <td>Algeria</td>\n",
       "      <td>Algiers</td>\n",
       "      <td>36.76</td>\n",
       "      <td>3.05</td>\n",
       "      <td>Africa/Algiers</td>\n",
       "      <td>1715849100</td>\n",
       "      <td>2024-05-16 09:45</td>\n",
       "      <td>23.0</td>\n",
       "      <td>73.4</td>\n",
       "      <td>Sunny</td>\n",
       "      <td>...</td>\n",
       "      <td>10.4</td>\n",
       "      <td>18.4</td>\n",
       "      <td>1</td>\n",
       "      <td>1</td>\n",
       "      <td>05:40 AM</td>\n",
       "      <td>07:50 PM</td>\n",
       "      <td>01:15 PM</td>\n",
       "      <td>02:14 AM</td>\n",
       "      <td>Waxing Gibbous</td>\n",
       "      <td>55</td>\n",
       "    </tr>\n",
       "    <tr>\n",
       "      <th>3</th>\n",
       "      <td>Andorra</td>\n",
       "      <td>Andorra La Vella</td>\n",
       "      <td>42.50</td>\n",
       "      <td>1.52</td>\n",
       "      <td>Europe/Andorra</td>\n",
       "      <td>1715849100</td>\n",
       "      <td>2024-05-16 10:45</td>\n",
       "      <td>6.3</td>\n",
       "      <td>43.3</td>\n",
       "      <td>Light drizzle</td>\n",
       "      <td>...</td>\n",
       "      <td>0.7</td>\n",
       "      <td>0.9</td>\n",
       "      <td>1</td>\n",
       "      <td>1</td>\n",
       "      <td>06:31 AM</td>\n",
       "      <td>09:11 PM</td>\n",
       "      <td>02:12 PM</td>\n",
       "      <td>03:31 AM</td>\n",
       "      <td>Waxing Gibbous</td>\n",
       "      <td>55</td>\n",
       "    </tr>\n",
       "    <tr>\n",
       "      <th>4</th>\n",
       "      <td>Angola</td>\n",
       "      <td>Luanda</td>\n",
       "      <td>-8.84</td>\n",
       "      <td>13.23</td>\n",
       "      <td>Africa/Luanda</td>\n",
       "      <td>1715849100</td>\n",
       "      <td>2024-05-16 09:45</td>\n",
       "      <td>26.0</td>\n",
       "      <td>78.8</td>\n",
       "      <td>Partly cloudy</td>\n",
       "      <td>...</td>\n",
       "      <td>183.4</td>\n",
       "      <td>262.3</td>\n",
       "      <td>5</td>\n",
       "      <td>10</td>\n",
       "      <td>06:12 AM</td>\n",
       "      <td>05:55 PM</td>\n",
       "      <td>01:17 PM</td>\n",
       "      <td>12:38 AM</td>\n",
       "      <td>Waxing Gibbous</td>\n",
       "      <td>55</td>\n",
       "    </tr>\n",
       "  </tbody>\n",
       "</table>\n",
       "<p>5 rows × 41 columns</p>\n",
       "</div>"
      ],
      "text/plain": [
       "       country     location_name  latitude  longitude        timezone  \\\n",
       "0  Afghanistan             Kabul     34.52      69.18      Asia/Kabul   \n",
       "1      Albania            Tirana     41.33      19.82   Europe/Tirane   \n",
       "2      Algeria           Algiers     36.76       3.05  Africa/Algiers   \n",
       "3      Andorra  Andorra La Vella     42.50       1.52  Europe/Andorra   \n",
       "4       Angola            Luanda     -8.84      13.23   Africa/Luanda   \n",
       "\n",
       "   last_updated_epoch      last_updated  temperature_celsius  \\\n",
       "0          1715849100  2024-05-16 13:15                 26.6   \n",
       "1          1715849100  2024-05-16 10:45                 19.0   \n",
       "2          1715849100  2024-05-16 09:45                 23.0   \n",
       "3          1715849100  2024-05-16 10:45                  6.3   \n",
       "4          1715849100  2024-05-16 09:45                 26.0   \n",
       "\n",
       "   temperature_fahrenheit condition_text  ...  air_quality_PM2.5  \\\n",
       "0                    79.8  Partly Cloudy  ...                8.4   \n",
       "1                    66.2  Partly cloudy  ...                1.1   \n",
       "2                    73.4          Sunny  ...               10.4   \n",
       "3                    43.3  Light drizzle  ...                0.7   \n",
       "4                    78.8  Partly cloudy  ...              183.4   \n",
       "\n",
       "   air_quality_PM10  air_quality_us-epa-index air_quality_gb-defra-index  \\\n",
       "0              26.6                         1                          1   \n",
       "1               2.0                         1                          1   \n",
       "2              18.4                         1                          1   \n",
       "3               0.9                         1                          1   \n",
       "4             262.3                         5                         10   \n",
       "\n",
       "    sunrise    sunset  moonrise   moonset      moon_phase  moon_illumination  \n",
       "0  04:50 AM  06:50 PM  12:12 PM  01:11 AM  Waxing Gibbous                 55  \n",
       "1  05:21 AM  07:54 PM  12:58 PM  02:14 AM  Waxing Gibbous                 55  \n",
       "2  05:40 AM  07:50 PM  01:15 PM  02:14 AM  Waxing Gibbous                 55  \n",
       "3  06:31 AM  09:11 PM  02:12 PM  03:31 AM  Waxing Gibbous                 55  \n",
       "4  06:12 AM  05:55 PM  01:17 PM  12:38 AM  Waxing Gibbous                 55  \n",
       "\n",
       "[5 rows x 41 columns]"
      ]
     },
     "execution_count": 109,
     "metadata": {},
     "output_type": "execute_result"
    }
   ],
   "source": [
    "df = pd.read_csv(path + '/GlobalWeatherRepository.csv')\n",
    "\n",
    "df.head(5)"
   ]
  },
  {
   "cell_type": "code",
   "execution_count": 110,
   "metadata": {},
   "outputs": [
    {
     "name": "stdout",
     "output_type": "stream",
     "text": [
      "Index(['country', 'location_name', 'latitude', 'longitude', 'timezone',\n",
      "       'last_updated_epoch', 'last_updated', 'temperature_celsius',\n",
      "       'temperature_fahrenheit', 'condition_text', 'wind_mph', 'wind_kph',\n",
      "       'wind_degree', 'wind_direction', 'pressure_mb', 'pressure_in',\n",
      "       'precip_mm', 'precip_in', 'humidity', 'cloud', 'feels_like_celsius',\n",
      "       'feels_like_fahrenheit', 'visibility_km', 'visibility_miles',\n",
      "       'uv_index', 'gust_mph', 'gust_kph', 'air_quality_Carbon_Monoxide',\n",
      "       'air_quality_Ozone', 'air_quality_Nitrogen_dioxide',\n",
      "       'air_quality_Sulphur_dioxide', 'air_quality_PM2.5', 'air_quality_PM10',\n",
      "       'air_quality_us-epa-index', 'air_quality_gb-defra-index', 'sunrise',\n",
      "       'sunset', 'moonrise', 'moonset', 'moon_phase', 'moon_illumination'],\n",
      "      dtype='object')\n"
     ]
    }
   ],
   "source": [
    "print(df.columns)"
   ]
  },
  {
   "cell_type": "code",
   "execution_count": 111,
   "metadata": {},
   "outputs": [
    {
     "data": {
      "text/html": [
       "<div>\n",
       "<style scoped>\n",
       "    .dataframe tbody tr th:only-of-type {\n",
       "        vertical-align: middle;\n",
       "    }\n",
       "\n",
       "    .dataframe tbody tr th {\n",
       "        vertical-align: top;\n",
       "    }\n",
       "\n",
       "    .dataframe thead th {\n",
       "        text-align: right;\n",
       "    }\n",
       "</style>\n",
       "<table border=\"1\" class=\"dataframe\">\n",
       "  <thead>\n",
       "    <tr style=\"text-align: right;\">\n",
       "      <th></th>\n",
       "      <th>temperature_celsius</th>\n",
       "      <th>condition_text</th>\n",
       "      <th>wind_kph</th>\n",
       "      <th>wind_degree</th>\n",
       "      <th>pressure_in</th>\n",
       "      <th>precip_in</th>\n",
       "      <th>humidity</th>\n",
       "      <th>cloud</th>\n",
       "      <th>uv_index</th>\n",
       "    </tr>\n",
       "  </thead>\n",
       "  <tbody>\n",
       "    <tr>\n",
       "      <th>0</th>\n",
       "      <td>26.6</td>\n",
       "      <td>Partly Cloudy</td>\n",
       "      <td>13.3</td>\n",
       "      <td>338</td>\n",
       "      <td>29.89</td>\n",
       "      <td>0.00</td>\n",
       "      <td>24</td>\n",
       "      <td>30</td>\n",
       "      <td>7.0</td>\n",
       "    </tr>\n",
       "    <tr>\n",
       "      <th>1</th>\n",
       "      <td>19.0</td>\n",
       "      <td>Partly cloudy</td>\n",
       "      <td>11.2</td>\n",
       "      <td>320</td>\n",
       "      <td>29.88</td>\n",
       "      <td>0.00</td>\n",
       "      <td>94</td>\n",
       "      <td>75</td>\n",
       "      <td>5.0</td>\n",
       "    </tr>\n",
       "    <tr>\n",
       "      <th>2</th>\n",
       "      <td>23.0</td>\n",
       "      <td>Sunny</td>\n",
       "      <td>15.1</td>\n",
       "      <td>280</td>\n",
       "      <td>29.85</td>\n",
       "      <td>0.00</td>\n",
       "      <td>29</td>\n",
       "      <td>0</td>\n",
       "      <td>5.0</td>\n",
       "    </tr>\n",
       "    <tr>\n",
       "      <th>3</th>\n",
       "      <td>6.3</td>\n",
       "      <td>Light drizzle</td>\n",
       "      <td>11.9</td>\n",
       "      <td>215</td>\n",
       "      <td>29.75</td>\n",
       "      <td>0.01</td>\n",
       "      <td>61</td>\n",
       "      <td>100</td>\n",
       "      <td>2.0</td>\n",
       "    </tr>\n",
       "    <tr>\n",
       "      <th>4</th>\n",
       "      <td>26.0</td>\n",
       "      <td>Partly cloudy</td>\n",
       "      <td>13.0</td>\n",
       "      <td>150</td>\n",
       "      <td>29.85</td>\n",
       "      <td>0.00</td>\n",
       "      <td>89</td>\n",
       "      <td>50</td>\n",
       "      <td>8.0</td>\n",
       "    </tr>\n",
       "  </tbody>\n",
       "</table>\n",
       "</div>"
      ],
      "text/plain": [
       "   temperature_celsius condition_text  wind_kph  wind_degree  pressure_in  \\\n",
       "0                 26.6  Partly Cloudy      13.3          338        29.89   \n",
       "1                 19.0  Partly cloudy      11.2          320        29.88   \n",
       "2                 23.0          Sunny      15.1          280        29.85   \n",
       "3                  6.3  Light drizzle      11.9          215        29.75   \n",
       "4                 26.0  Partly cloudy      13.0          150        29.85   \n",
       "\n",
       "   precip_in  humidity  cloud  uv_index  \n",
       "0       0.00        24     30       7.0  \n",
       "1       0.00        94     75       5.0  \n",
       "2       0.00        29      0       5.0  \n",
       "3       0.01        61    100       2.0  \n",
       "4       0.00        89     50       8.0  "
      ]
     },
     "execution_count": 111,
     "metadata": {},
     "output_type": "execute_result"
    }
   ],
   "source": [
    "selected = ['temperature_celsius', 'condition_text', 'wind_kph', 'wind_degree', 'pressure_in', 'precip_in', 'humidity', 'cloud', 'uv_index']\n",
    "\n",
    "training = df[selected]\n",
    "\n",
    "training.head(5)"
   ]
  },
  {
   "cell_type": "code",
   "execution_count": 112,
   "metadata": {},
   "outputs": [],
   "source": [
    "x_feat = [col for col in training.columns if col != 'condition_text']\n",
    "\n",
    "X = training[x_feat]\n",
    "y = training['condition_text']"
   ]
  },
  {
   "cell_type": "code",
   "execution_count": 113,
   "metadata": {},
   "outputs": [
    {
     "data": {
      "text/plain": [
       "array(['partly cloudy', 'sunny', 'light drizzle', 'clear', 'overcast',\n",
       "       'moderate or heavy rain with thunder',\n",
       "       'patchy light rain in area with thunder', 'fog',\n",
       "       'patchy light rain with thunder', 'patchy rain nearby',\n",
       "       'light rain', 'mist', 'cloudy', 'thundery outbreaks in nearby',\n",
       "       'moderate rain', 'light rain shower', 'moderate rain at times',\n",
       "       'moderate or heavy rain shower', 'heavy rain at times',\n",
       "       'patchy light rain', 'patchy light drizzle',\n",
       "       'thundery outbreaks possible', 'patchy rain possible',\n",
       "       'moderate or heavy rain in area with thunder', 'heavy rain',\n",
       "       'torrential rain shower', 'freezing fog',\n",
       "       'moderate or heavy snow showers', 'light sleet', 'blizzard',\n",
       "       'moderate snow', 'light snow', 'light sleet showers',\n",
       "       'light freezing rain', 'heavy snow', 'blowing snow',\n",
       "       'patchy heavy snow', 'light snow showers',\n",
       "       'moderate or heavy sleet', 'patchy light snow'], dtype=object)"
      ]
     },
     "execution_count": 113,
     "metadata": {},
     "output_type": "execute_result"
    }
   ],
   "source": [
    "y = y.str.lower()\n",
    "\n",
    "y.unique()"
   ]
  },
  {
   "cell_type": "code",
   "execution_count": 114,
   "metadata": {},
   "outputs": [],
   "source": [
    "import requests\n",
    "\n",
    "response = requests.get(\"https://www.weatherapi.com/docs/weather_conditions.json\")\n",
    "\n",
    "label = pd.DataFrame(response.json())"
   ]
  },
  {
   "cell_type": "code",
   "execution_count": 115,
   "metadata": {},
   "outputs": [],
   "source": [
    "label_select_dict = {}\n",
    "\n",
    "for index, row in label.iterrows():\n",
    "    label_select_dict[row['night'].lower()] = row['code']\n",
    "    label_select_dict[row['day'].lower()] = row['code']\n",
    "\n",
    "y_encode = y.map(label_select_dict)"
   ]
  },
  {
   "cell_type": "code",
   "execution_count": 116,
   "metadata": {},
   "outputs": [],
   "source": [
    "y_encode = y_encode.dropna()"
   ]
  },
  {
   "cell_type": "code",
   "execution_count": 117,
   "metadata": {},
   "outputs": [],
   "source": [
    "X = X.loc[y_encode.index]"
   ]
  },
  {
   "cell_type": "code",
   "execution_count": 118,
   "metadata": {},
   "outputs": [],
   "source": [
    "weather_mapping = {\n",
    "    'Clear': [1000],\n",
    "    'Cloudy': [1003, 1006, 1009],\n",
    "    'Drizzle': [1150, 1153, 1168, 1171, 1180],\n",
    "    'Rain': [1063, 1183, 1186, 1189, 1192, 1195, 1240, 1243, 1246, 1198, 1201], \n",
    "    'Storm/Thunder': [1087, 1273, 1276, 1279, 1282],\n",
    "    'Snow': [1066, 1210, 1213, 1216, 1219, 1222, 1225, 1255, 1258, 1261, 1264,],\n",
    "    'Sleet': [1069, 1072, 1204, 1207, 1249, 1252],\n",
    "    'Fog': [1030, 1135, 1147],\n",
    "    'Extreme Weather': [1114, 1117, 1237]\n",
    "}\n",
    "\n",
    "flat_mapping = {code: category for category, codes in weather_mapping.items() for code in codes}\n",
    "\n",
    "y_encode_transform = y_encode.map(flat_mapping)"
   ]
  },
  {
   "cell_type": "code",
   "execution_count": 119,
   "metadata": {},
   "outputs": [
    {
     "name": "stdout",
     "output_type": "stream",
     "text": [
      "condition_text \n",
      "Cloudy             17542\n",
      "Clear              14128\n",
      "Rain                2746\n",
      "Fog                 1314\n",
      "Storm/Thunder        625\n",
      "Drizzle              413\n",
      "Snow                  84\n",
      "Sleet                 15\n",
      "Extreme Weather        5\n",
      "Name: count, dtype: int64\n"
     ]
    }
   ],
   "source": [
    "label_counts = pd.DataFrame(y_encode_transform).value_counts()\n",
    "print(label_counts)"
   ]
  },
  {
   "cell_type": "code",
   "execution_count": 120,
   "metadata": {},
   "outputs": [],
   "source": [
    "encode_label = {\n",
    "    'Clear': 0,\n",
    "    'Cloudy': 1,\n",
    "    'Drizzle': 2,\n",
    "    'Rain': 3,\n",
    "    'Storm/Thunder': 4,\n",
    "    'Snow': 5,\n",
    "    'Sleet': 6,\n",
    "    'Fog': 7,\n",
    "    'Extreme Weather': 8\n",
    "}\n",
    "\n",
    "y_encoded = y_encode_transform.map(encode_label)"
   ]
  },
  {
   "cell_type": "code",
   "execution_count": 121,
   "metadata": {},
   "outputs": [],
   "source": [
    "# from sklearn.preprocessing import LabelEncoder\n",
    "\n",
    "# encoder = LabelEncoder()\n",
    "# y_encoded = encoder.fit_transform(y_encode_transform)"
   ]
  },
  {
   "cell_type": "code",
   "execution_count": 123,
   "metadata": {},
   "outputs": [],
   "source": [
    "# import pickle\n",
    "\n",
    "# scaler_path = 'label_encoder.pkl'\n",
    "# with open(scaler_path, 'wb') as f:\n",
    "#     pickle.dump(encoder, f)\n",
    "\n",
    "# print(f\"Scaler saved as {scaler_path}\")"
   ]
  },
  {
   "cell_type": "code",
   "execution_count": 125,
   "metadata": {},
   "outputs": [],
   "source": [
    "# encoder.classes_"
   ]
  },
  {
   "cell_type": "code",
   "execution_count": 126,
   "metadata": {},
   "outputs": [
    {
     "data": {
      "text/plain": [
       "temperature_celsius     26.60\n",
       "wind_kph                13.30\n",
       "wind_degree            338.00\n",
       "pressure_in             29.89\n",
       "precip_in                0.00\n",
       "humidity                24.00\n",
       "cloud                   30.00\n",
       "uv_index                 7.00\n",
       "Name: 0, dtype: float64"
      ]
     },
     "execution_count": 126,
     "metadata": {},
     "output_type": "execute_result"
    }
   ],
   "source": [
    "X.iloc[0]"
   ]
  },
  {
   "cell_type": "code",
   "execution_count": 127,
   "metadata": {},
   "outputs": [
    {
     "data": {
      "text/plain": [
       "condition_text\n",
       "0                 17542\n",
       "1                 17542\n",
       "2                 17542\n",
       "3                 17542\n",
       "4                 17542\n",
       "5                 17542\n",
       "6                 17542\n",
       "7                 17542\n",
       "8                 17542\n",
       "Name: count, dtype: int64"
      ]
     },
     "execution_count": 127,
     "metadata": {},
     "output_type": "execute_result"
    }
   ],
   "source": [
    "from imblearn.over_sampling import SMOTE\n",
    "\n",
    "smote = SMOTE(k_neighbors=4, random_state=42)\n",
    "X_resampled, y_resampled = smote.fit_resample(X, y_encoded)\n",
    "\n",
    "pd.DataFrame(y_resampled).value_counts()"
   ]
  },
  {
   "cell_type": "code",
   "execution_count": 140,
   "metadata": {},
   "outputs": [
    {
     "data": {
      "text/plain": [
       "((126302, 8), (31576, 8), (126302,), (31576,))"
      ]
     },
     "execution_count": 140,
     "metadata": {},
     "output_type": "execute_result"
    }
   ],
   "source": [
    "from sklearn.model_selection import train_test_split\n",
    "\n",
    "x_train, x_test, y_train, y_test = train_test_split(X_resampled, y_resampled, test_size=.2, random_state=42)\n",
    "\n",
    "x_train.shape, x_test.shape, y_train.shape, y_test.shape"
   ]
  },
  {
   "cell_type": "code",
   "execution_count": 141,
   "metadata": {},
   "outputs": [],
   "source": [
    "# from sklearn.preprocessing import MinMaxScaler\n",
    "\n",
    "# scaler = MinMaxScaler()\n",
    "# x_train_scaled = scaler.fit_transform(x_train)\n",
    "# x_test_scaled = scaler.transform(x_test)"
   ]
  },
  {
   "cell_type": "code",
   "execution_count": 142,
   "metadata": {},
   "outputs": [],
   "source": [
    "# from sklearn.preprocessing import StandardScaler\n",
    "\n",
    "# scaler = StandardScaler()\n",
    "# x_train_scaled = scaler.fit_transform(x_train)\n",
    "# x_test_scaled = scaler.transform(x_test)"
   ]
  },
  {
   "cell_type": "code",
   "execution_count": 143,
   "metadata": {},
   "outputs": [],
   "source": [
    "scaler = tf.keras.layers.Normalization(axis=-1)\n",
    "scaler.adapt(np.array(x_train))"
   ]
  },
  {
   "cell_type": "code",
   "execution_count": 144,
   "metadata": {},
   "outputs": [],
   "source": [
    "model = tf.keras.Sequential([\n",
    "    tf.keras.layers.Input(shape=(x_train.shape[1],)),\n",
    "    scaler,\n",
    "    tf.keras.layers.Dense(64, activation='relu', kernel_regularizer=tf.keras.regularizers.L2(0.01)),\n",
    "    tf.keras.layers.BatchNormalization(),\n",
    "    tf.keras.layers.Dense(48, activation='relu'),\n",
    "    tf.keras.layers.BatchNormalization(),\n",
    "    tf.keras.layers.Dense(32, activation='relu'),\n",
    "    tf.keras.layers.BatchNormalization(),\n",
    "    tf.keras.layers.Dense(16, activation='relu'),\n",
    "    tf.keras.layers.BatchNormalization(),\n",
    "    tf.keras.layers.Dense(len(np.unique(y_encoded)), activation='softmax'),    \n",
    "])\n",
    "\n",
    "model.compile(optimizer=tf.keras.optimizers.Adam(learning_rate=0.001), loss='sparse_categorical_crossentropy', metrics=['accuracy'])"
   ]
  },
  {
   "cell_type": "code",
   "execution_count": 145,
   "metadata": {},
   "outputs": [
    {
     "data": {
      "text/html": [
       "<pre style=\"white-space:pre;overflow-x:auto;line-height:normal;font-family:Menlo,'DejaVu Sans Mono',consolas,'Courier New',monospace\"><span style=\"font-weight: bold\">Model: \"sequential_5\"</span>\n",
       "</pre>\n"
      ],
      "text/plain": [
       "\u001b[1mModel: \"sequential_5\"\u001b[0m\n"
      ]
     },
     "metadata": {},
     "output_type": "display_data"
    },
    {
     "data": {
      "text/html": [
       "<pre style=\"white-space:pre;overflow-x:auto;line-height:normal;font-family:Menlo,'DejaVu Sans Mono',consolas,'Courier New',monospace\">┏━━━━━━━━━━━━━━━━━━━━━━━━━━━━━━━━━┳━━━━━━━━━━━━━━━━━━━━━━━━┳━━━━━━━━━━━━━━━┓\n",
       "┃<span style=\"font-weight: bold\"> Layer (type)                    </span>┃<span style=\"font-weight: bold\"> Output Shape           </span>┃<span style=\"font-weight: bold\">       Param # </span>┃\n",
       "┡━━━━━━━━━━━━━━━━━━━━━━━━━━━━━━━━━╇━━━━━━━━━━━━━━━━━━━━━━━━╇━━━━━━━━━━━━━━━┩\n",
       "│ normalization_5 (<span style=\"color: #0087ff; text-decoration-color: #0087ff\">Normalization</span>) │ (<span style=\"color: #00d7ff; text-decoration-color: #00d7ff\">None</span>, <span style=\"color: #00af00; text-decoration-color: #00af00\">8</span>)              │            <span style=\"color: #00af00; text-decoration-color: #00af00\">17</span> │\n",
       "├─────────────────────────────────┼────────────────────────┼───────────────┤\n",
       "│ dense_25 (<span style=\"color: #0087ff; text-decoration-color: #0087ff\">Dense</span>)                │ (<span style=\"color: #00d7ff; text-decoration-color: #00d7ff\">None</span>, <span style=\"color: #00af00; text-decoration-color: #00af00\">64</span>)             │           <span style=\"color: #00af00; text-decoration-color: #00af00\">576</span> │\n",
       "├─────────────────────────────────┼────────────────────────┼───────────────┤\n",
       "│ batch_normalization_20          │ (<span style=\"color: #00d7ff; text-decoration-color: #00d7ff\">None</span>, <span style=\"color: #00af00; text-decoration-color: #00af00\">64</span>)             │           <span style=\"color: #00af00; text-decoration-color: #00af00\">256</span> │\n",
       "│ (<span style=\"color: #0087ff; text-decoration-color: #0087ff\">BatchNormalization</span>)            │                        │               │\n",
       "├─────────────────────────────────┼────────────────────────┼───────────────┤\n",
       "│ dense_26 (<span style=\"color: #0087ff; text-decoration-color: #0087ff\">Dense</span>)                │ (<span style=\"color: #00d7ff; text-decoration-color: #00d7ff\">None</span>, <span style=\"color: #00af00; text-decoration-color: #00af00\">48</span>)             │         <span style=\"color: #00af00; text-decoration-color: #00af00\">3,120</span> │\n",
       "├─────────────────────────────────┼────────────────────────┼───────────────┤\n",
       "│ batch_normalization_21          │ (<span style=\"color: #00d7ff; text-decoration-color: #00d7ff\">None</span>, <span style=\"color: #00af00; text-decoration-color: #00af00\">48</span>)             │           <span style=\"color: #00af00; text-decoration-color: #00af00\">192</span> │\n",
       "│ (<span style=\"color: #0087ff; text-decoration-color: #0087ff\">BatchNormalization</span>)            │                        │               │\n",
       "├─────────────────────────────────┼────────────────────────┼───────────────┤\n",
       "│ dense_27 (<span style=\"color: #0087ff; text-decoration-color: #0087ff\">Dense</span>)                │ (<span style=\"color: #00d7ff; text-decoration-color: #00d7ff\">None</span>, <span style=\"color: #00af00; text-decoration-color: #00af00\">32</span>)             │         <span style=\"color: #00af00; text-decoration-color: #00af00\">1,568</span> │\n",
       "├─────────────────────────────────┼────────────────────────┼───────────────┤\n",
       "│ batch_normalization_22          │ (<span style=\"color: #00d7ff; text-decoration-color: #00d7ff\">None</span>, <span style=\"color: #00af00; text-decoration-color: #00af00\">32</span>)             │           <span style=\"color: #00af00; text-decoration-color: #00af00\">128</span> │\n",
       "│ (<span style=\"color: #0087ff; text-decoration-color: #0087ff\">BatchNormalization</span>)            │                        │               │\n",
       "├─────────────────────────────────┼────────────────────────┼───────────────┤\n",
       "│ dense_28 (<span style=\"color: #0087ff; text-decoration-color: #0087ff\">Dense</span>)                │ (<span style=\"color: #00d7ff; text-decoration-color: #00d7ff\">None</span>, <span style=\"color: #00af00; text-decoration-color: #00af00\">16</span>)             │           <span style=\"color: #00af00; text-decoration-color: #00af00\">528</span> │\n",
       "├─────────────────────────────────┼────────────────────────┼───────────────┤\n",
       "│ batch_normalization_23          │ (<span style=\"color: #00d7ff; text-decoration-color: #00d7ff\">None</span>, <span style=\"color: #00af00; text-decoration-color: #00af00\">16</span>)             │            <span style=\"color: #00af00; text-decoration-color: #00af00\">64</span> │\n",
       "│ (<span style=\"color: #0087ff; text-decoration-color: #0087ff\">BatchNormalization</span>)            │                        │               │\n",
       "├─────────────────────────────────┼────────────────────────┼───────────────┤\n",
       "│ dense_29 (<span style=\"color: #0087ff; text-decoration-color: #0087ff\">Dense</span>)                │ (<span style=\"color: #00d7ff; text-decoration-color: #00d7ff\">None</span>, <span style=\"color: #00af00; text-decoration-color: #00af00\">9</span>)              │           <span style=\"color: #00af00; text-decoration-color: #00af00\">153</span> │\n",
       "└─────────────────────────────────┴────────────────────────┴───────────────┘\n",
       "</pre>\n"
      ],
      "text/plain": [
       "┏━━━━━━━━━━━━━━━━━━━━━━━━━━━━━━━━━┳━━━━━━━━━━━━━━━━━━━━━━━━┳━━━━━━━━━━━━━━━┓\n",
       "┃\u001b[1m \u001b[0m\u001b[1mLayer (type)                   \u001b[0m\u001b[1m \u001b[0m┃\u001b[1m \u001b[0m\u001b[1mOutput Shape          \u001b[0m\u001b[1m \u001b[0m┃\u001b[1m \u001b[0m\u001b[1m      Param #\u001b[0m\u001b[1m \u001b[0m┃\n",
       "┡━━━━━━━━━━━━━━━━━━━━━━━━━━━━━━━━━╇━━━━━━━━━━━━━━━━━━━━━━━━╇━━━━━━━━━━━━━━━┩\n",
       "│ normalization_5 (\u001b[38;5;33mNormalization\u001b[0m) │ (\u001b[38;5;45mNone\u001b[0m, \u001b[38;5;34m8\u001b[0m)              │            \u001b[38;5;34m17\u001b[0m │\n",
       "├─────────────────────────────────┼────────────────────────┼───────────────┤\n",
       "│ dense_25 (\u001b[38;5;33mDense\u001b[0m)                │ (\u001b[38;5;45mNone\u001b[0m, \u001b[38;5;34m64\u001b[0m)             │           \u001b[38;5;34m576\u001b[0m │\n",
       "├─────────────────────────────────┼────────────────────────┼───────────────┤\n",
       "│ batch_normalization_20          │ (\u001b[38;5;45mNone\u001b[0m, \u001b[38;5;34m64\u001b[0m)             │           \u001b[38;5;34m256\u001b[0m │\n",
       "│ (\u001b[38;5;33mBatchNormalization\u001b[0m)            │                        │               │\n",
       "├─────────────────────────────────┼────────────────────────┼───────────────┤\n",
       "│ dense_26 (\u001b[38;5;33mDense\u001b[0m)                │ (\u001b[38;5;45mNone\u001b[0m, \u001b[38;5;34m48\u001b[0m)             │         \u001b[38;5;34m3,120\u001b[0m │\n",
       "├─────────────────────────────────┼────────────────────────┼───────────────┤\n",
       "│ batch_normalization_21          │ (\u001b[38;5;45mNone\u001b[0m, \u001b[38;5;34m48\u001b[0m)             │           \u001b[38;5;34m192\u001b[0m │\n",
       "│ (\u001b[38;5;33mBatchNormalization\u001b[0m)            │                        │               │\n",
       "├─────────────────────────────────┼────────────────────────┼───────────────┤\n",
       "│ dense_27 (\u001b[38;5;33mDense\u001b[0m)                │ (\u001b[38;5;45mNone\u001b[0m, \u001b[38;5;34m32\u001b[0m)             │         \u001b[38;5;34m1,568\u001b[0m │\n",
       "├─────────────────────────────────┼────────────────────────┼───────────────┤\n",
       "│ batch_normalization_22          │ (\u001b[38;5;45mNone\u001b[0m, \u001b[38;5;34m32\u001b[0m)             │           \u001b[38;5;34m128\u001b[0m │\n",
       "│ (\u001b[38;5;33mBatchNormalization\u001b[0m)            │                        │               │\n",
       "├─────────────────────────────────┼────────────────────────┼───────────────┤\n",
       "│ dense_28 (\u001b[38;5;33mDense\u001b[0m)                │ (\u001b[38;5;45mNone\u001b[0m, \u001b[38;5;34m16\u001b[0m)             │           \u001b[38;5;34m528\u001b[0m │\n",
       "├─────────────────────────────────┼────────────────────────┼───────────────┤\n",
       "│ batch_normalization_23          │ (\u001b[38;5;45mNone\u001b[0m, \u001b[38;5;34m16\u001b[0m)             │            \u001b[38;5;34m64\u001b[0m │\n",
       "│ (\u001b[38;5;33mBatchNormalization\u001b[0m)            │                        │               │\n",
       "├─────────────────────────────────┼────────────────────────┼───────────────┤\n",
       "│ dense_29 (\u001b[38;5;33mDense\u001b[0m)                │ (\u001b[38;5;45mNone\u001b[0m, \u001b[38;5;34m9\u001b[0m)              │           \u001b[38;5;34m153\u001b[0m │\n",
       "└─────────────────────────────────┴────────────────────────┴───────────────┘\n"
      ]
     },
     "metadata": {},
     "output_type": "display_data"
    },
    {
     "data": {
      "text/html": [
       "<pre style=\"white-space:pre;overflow-x:auto;line-height:normal;font-family:Menlo,'DejaVu Sans Mono',consolas,'Courier New',monospace\"><span style=\"font-weight: bold\"> Total params: </span><span style=\"color: #00af00; text-decoration-color: #00af00\">6,602</span> (25.79 KB)\n",
       "</pre>\n"
      ],
      "text/plain": [
       "\u001b[1m Total params: \u001b[0m\u001b[38;5;34m6,602\u001b[0m (25.79 KB)\n"
      ]
     },
     "metadata": {},
     "output_type": "display_data"
    },
    {
     "data": {
      "text/html": [
       "<pre style=\"white-space:pre;overflow-x:auto;line-height:normal;font-family:Menlo,'DejaVu Sans Mono',consolas,'Courier New',monospace\"><span style=\"font-weight: bold\"> Trainable params: </span><span style=\"color: #00af00; text-decoration-color: #00af00\">6,265</span> (24.47 KB)\n",
       "</pre>\n"
      ],
      "text/plain": [
       "\u001b[1m Trainable params: \u001b[0m\u001b[38;5;34m6,265\u001b[0m (24.47 KB)\n"
      ]
     },
     "metadata": {},
     "output_type": "display_data"
    },
    {
     "data": {
      "text/html": [
       "<pre style=\"white-space:pre;overflow-x:auto;line-height:normal;font-family:Menlo,'DejaVu Sans Mono',consolas,'Courier New',monospace\"><span style=\"font-weight: bold\"> Non-trainable params: </span><span style=\"color: #00af00; text-decoration-color: #00af00\">337</span> (1.32 KB)\n",
       "</pre>\n"
      ],
      "text/plain": [
       "\u001b[1m Non-trainable params: \u001b[0m\u001b[38;5;34m337\u001b[0m (1.32 KB)\n"
      ]
     },
     "metadata": {},
     "output_type": "display_data"
    }
   ],
   "source": [
    "model.summary()"
   ]
  },
  {
   "cell_type": "code",
   "execution_count": 146,
   "metadata": {},
   "outputs": [],
   "source": [
    "from tensorflow.keras.callbacks import Callback\n",
    "\n",
    "class CustomEarlyStopping(Callback):\n",
    "    def on_epoch_end(self, epoch, logs):\n",
    "        if logs['accuracy'] >= 0.890 and logs['val_accuracy'] >= 0.885:\n",
    "            self.model.stop_training = True\n",
    "\n",
    "custom_early_stopping = CustomEarlyStopping()"
   ]
  },
  {
   "cell_type": "code",
   "execution_count": 147,
   "metadata": {},
   "outputs": [
    {
     "name": "stdout",
     "output_type": "stream",
     "text": [
      "Epoch 1/100\n",
      "\u001b[1m1974/1974\u001b[0m \u001b[32m━━━━━━━━━━━━━━━━━━━━\u001b[0m\u001b[37m\u001b[0m \u001b[1m14s\u001b[0m 4ms/step - accuracy: 0.6540 - loss: 1.0511 - val_accuracy: 0.7670 - val_loss: 0.6426\n",
      "Epoch 2/100\n",
      "\u001b[1m1974/1974\u001b[0m \u001b[32m━━━━━━━━━━━━━━━━━━━━\u001b[0m\u001b[37m\u001b[0m \u001b[1m7s\u001b[0m 2ms/step - accuracy: 0.7659 - loss: 0.6428 - val_accuracy: 0.7559 - val_loss: 0.6451\n",
      "Epoch 3/100\n",
      "\u001b[1m1974/1974\u001b[0m \u001b[32m━━━━━━━━━━━━━━━━━━━━\u001b[0m\u001b[37m\u001b[0m \u001b[1m4s\u001b[0m 2ms/step - accuracy: 0.7835 - loss: 0.5849 - val_accuracy: 0.8070 - val_loss: 0.5218\n",
      "Epoch 4/100\n",
      "\u001b[1m1974/1974\u001b[0m \u001b[32m━━━━━━━━━━━━━━━━━━━━\u001b[0m\u001b[37m\u001b[0m \u001b[1m5s\u001b[0m 2ms/step - accuracy: 0.7965 - loss: 0.5482 - val_accuracy: 0.8126 - val_loss: 0.5107\n",
      "Epoch 5/100\n",
      "\u001b[1m1974/1974\u001b[0m \u001b[32m━━━━━━━━━━━━━━━━━━━━\u001b[0m\u001b[37m\u001b[0m \u001b[1m7s\u001b[0m 4ms/step - accuracy: 0.8045 - loss: 0.5272 - val_accuracy: 0.8211 - val_loss: 0.4837\n",
      "Epoch 6/100\n",
      "\u001b[1m1974/1974\u001b[0m \u001b[32m━━━━━━━━━━━━━━━━━━━━\u001b[0m\u001b[37m\u001b[0m \u001b[1m5s\u001b[0m 3ms/step - accuracy: 0.8079 - loss: 0.5165 - val_accuracy: 0.8247 - val_loss: 0.4808\n",
      "Epoch 7/100\n",
      "\u001b[1m1974/1974\u001b[0m \u001b[32m━━━━━━━━━━━━━━━━━━━━\u001b[0m\u001b[37m\u001b[0m \u001b[1m6s\u001b[0m 3ms/step - accuracy: 0.8131 - loss: 0.5090 - val_accuracy: 0.8342 - val_loss: 0.4611\n",
      "Epoch 8/100\n",
      "\u001b[1m1974/1974\u001b[0m \u001b[32m━━━━━━━━━━━━━━━━━━━━\u001b[0m\u001b[37m\u001b[0m \u001b[1m4s\u001b[0m 2ms/step - accuracy: 0.8200 - loss: 0.4926 - val_accuracy: 0.8266 - val_loss: 0.4739\n",
      "Epoch 9/100\n",
      "\u001b[1m1974/1974\u001b[0m \u001b[32m━━━━━━━━━━━━━━━━━━━━\u001b[0m\u001b[37m\u001b[0m \u001b[1m4s\u001b[0m 2ms/step - accuracy: 0.8221 - loss: 0.4866 - val_accuracy: 0.8301 - val_loss: 0.4609\n",
      "Epoch 10/100\n",
      "\u001b[1m1974/1974\u001b[0m \u001b[32m━━━━━━━━━━━━━━━━━━━━\u001b[0m\u001b[37m\u001b[0m \u001b[1m5s\u001b[0m 3ms/step - accuracy: 0.8239 - loss: 0.4799 - val_accuracy: 0.8321 - val_loss: 0.4567\n",
      "Epoch 11/100\n",
      "\u001b[1m1974/1974\u001b[0m \u001b[32m━━━━━━━━━━━━━━━━━━━━\u001b[0m\u001b[37m\u001b[0m \u001b[1m4s\u001b[0m 2ms/step - accuracy: 0.8262 - loss: 0.4745 - val_accuracy: 0.8401 - val_loss: 0.4502\n",
      "Epoch 12/100\n",
      "\u001b[1m1974/1974\u001b[0m \u001b[32m━━━━━━━━━━━━━━━━━━━━\u001b[0m\u001b[37m\u001b[0m \u001b[1m4s\u001b[0m 2ms/step - accuracy: 0.8278 - loss: 0.4721 - val_accuracy: 0.8279 - val_loss: 0.4712\n",
      "Epoch 13/100\n",
      "\u001b[1m1974/1974\u001b[0m \u001b[32m━━━━━━━━━━━━━━━━━━━━\u001b[0m\u001b[37m\u001b[0m \u001b[1m5s\u001b[0m 2ms/step - accuracy: 0.8297 - loss: 0.4673 - val_accuracy: 0.8442 - val_loss: 0.4407\n",
      "Epoch 14/100\n",
      "\u001b[1m1974/1974\u001b[0m \u001b[32m━━━━━━━━━━━━━━━━━━━━\u001b[0m\u001b[37m\u001b[0m \u001b[1m6s\u001b[0m 3ms/step - accuracy: 0.8323 - loss: 0.4627 - val_accuracy: 0.8435 - val_loss: 0.4396\n",
      "Epoch 15/100\n",
      "\u001b[1m1974/1974\u001b[0m \u001b[32m━━━━━━━━━━━━━━━━━━━━\u001b[0m\u001b[37m\u001b[0m \u001b[1m5s\u001b[0m 2ms/step - accuracy: 0.8344 - loss: 0.4573 - val_accuracy: 0.8498 - val_loss: 0.4260\n",
      "Epoch 16/100\n",
      "\u001b[1m1974/1974\u001b[0m \u001b[32m━━━━━━━━━━━━━━━━━━━━\u001b[0m\u001b[37m\u001b[0m \u001b[1m4s\u001b[0m 2ms/step - accuracy: 0.8337 - loss: 0.4570 - val_accuracy: 0.8406 - val_loss: 0.4550\n",
      "Epoch 17/100\n",
      "\u001b[1m1974/1974\u001b[0m \u001b[32m━━━━━━━━━━━━━━━━━━━━\u001b[0m\u001b[37m\u001b[0m \u001b[1m5s\u001b[0m 3ms/step - accuracy: 0.8365 - loss: 0.4532 - val_accuracy: 0.8456 - val_loss: 0.4278\n",
      "Epoch 18/100\n",
      "\u001b[1m1974/1974\u001b[0m \u001b[32m━━━━━━━━━━━━━━━━━━━━\u001b[0m\u001b[37m\u001b[0m \u001b[1m5s\u001b[0m 2ms/step - accuracy: 0.8371 - loss: 0.4485 - val_accuracy: 0.8522 - val_loss: 0.4152\n",
      "Epoch 19/100\n",
      "\u001b[1m1974/1974\u001b[0m \u001b[32m━━━━━━━━━━━━━━━━━━━━\u001b[0m\u001b[37m\u001b[0m \u001b[1m4s\u001b[0m 2ms/step - accuracy: 0.8393 - loss: 0.4454 - val_accuracy: 0.8467 - val_loss: 0.4245\n",
      "Epoch 20/100\n",
      "\u001b[1m1974/1974\u001b[0m \u001b[32m━━━━━━━━━━━━━━━━━━━━\u001b[0m\u001b[37m\u001b[0m \u001b[1m5s\u001b[0m 3ms/step - accuracy: 0.8374 - loss: 0.4476 - val_accuracy: 0.8519 - val_loss: 0.4129\n",
      "Epoch 21/100\n",
      "\u001b[1m1974/1974\u001b[0m \u001b[32m━━━━━━━━━━━━━━━━━━━━\u001b[0m\u001b[37m\u001b[0m \u001b[1m5s\u001b[0m 2ms/step - accuracy: 0.8402 - loss: 0.4434 - val_accuracy: 0.8556 - val_loss: 0.4081\n",
      "Epoch 22/100\n",
      "\u001b[1m1974/1974\u001b[0m \u001b[32m━━━━━━━━━━━━━━━━━━━━\u001b[0m\u001b[37m\u001b[0m \u001b[1m4s\u001b[0m 2ms/step - accuracy: 0.8406 - loss: 0.4433 - val_accuracy: 0.8540 - val_loss: 0.4091\n",
      "Epoch 23/100\n",
      "\u001b[1m1974/1974\u001b[0m \u001b[32m━━━━━━━━━━━━━━━━━━━━\u001b[0m\u001b[37m\u001b[0m \u001b[1m5s\u001b[0m 2ms/step - accuracy: 0.8440 - loss: 0.4359 - val_accuracy: 0.8549 - val_loss: 0.4108\n",
      "Epoch 24/100\n",
      "\u001b[1m1974/1974\u001b[0m \u001b[32m━━━━━━━━━━━━━━━━━━━━\u001b[0m\u001b[37m\u001b[0m \u001b[1m5s\u001b[0m 3ms/step - accuracy: 0.8411 - loss: 0.4391 - val_accuracy: 0.8593 - val_loss: 0.4000\n",
      "Epoch 25/100\n",
      "\u001b[1m1974/1974\u001b[0m \u001b[32m━━━━━━━━━━━━━━━━━━━━\u001b[0m\u001b[37m\u001b[0m \u001b[1m4s\u001b[0m 2ms/step - accuracy: 0.8455 - loss: 0.4360 - val_accuracy: 0.8589 - val_loss: 0.4035\n",
      "Epoch 26/100\n",
      "\u001b[1m1974/1974\u001b[0m \u001b[32m━━━━━━━━━━━━━━━━━━━━\u001b[0m\u001b[37m\u001b[0m \u001b[1m4s\u001b[0m 2ms/step - accuracy: 0.8452 - loss: 0.4321 - val_accuracy: 0.8506 - val_loss: 0.4162\n",
      "Epoch 27/100\n",
      "\u001b[1m1974/1974\u001b[0m \u001b[32m━━━━━━━━━━━━━━━━━━━━\u001b[0m\u001b[37m\u001b[0m \u001b[1m5s\u001b[0m 3ms/step - accuracy: 0.8461 - loss: 0.4304 - val_accuracy: 0.8632 - val_loss: 0.3975\n",
      "Epoch 28/100\n",
      "\u001b[1m1974/1974\u001b[0m \u001b[32m━━━━━━━━━━━━━━━━━━━━\u001b[0m\u001b[37m\u001b[0m \u001b[1m5s\u001b[0m 2ms/step - accuracy: 0.8474 - loss: 0.4276 - val_accuracy: 0.8583 - val_loss: 0.4011\n",
      "Epoch 29/100\n",
      "\u001b[1m1974/1974\u001b[0m \u001b[32m━━━━━━━━━━━━━━━━━━━━\u001b[0m\u001b[37m\u001b[0m \u001b[1m4s\u001b[0m 2ms/step - accuracy: 0.8485 - loss: 0.4262 - val_accuracy: 0.8595 - val_loss: 0.3999\n",
      "Epoch 30/100\n",
      "\u001b[1m1974/1974\u001b[0m \u001b[32m━━━━━━━━━━━━━━━━━━━━\u001b[0m\u001b[37m\u001b[0m \u001b[1m5s\u001b[0m 2ms/step - accuracy: 0.8472 - loss: 0.4281 - val_accuracy: 0.8583 - val_loss: 0.4033\n",
      "Epoch 31/100\n",
      "\u001b[1m1974/1974\u001b[0m \u001b[32m━━━━━━━━━━━━━━━━━━━━\u001b[0m\u001b[37m\u001b[0m \u001b[1m5s\u001b[0m 2ms/step - accuracy: 0.8468 - loss: 0.4293 - val_accuracy: 0.8596 - val_loss: 0.4046\n",
      "Epoch 32/100\n",
      "\u001b[1m1974/1974\u001b[0m \u001b[32m━━━━━━━━━━━━━━━━━━━━\u001b[0m\u001b[37m\u001b[0m \u001b[1m4s\u001b[0m 2ms/step - accuracy: 0.8495 - loss: 0.4202 - val_accuracy: 0.8634 - val_loss: 0.3904\n",
      "Epoch 33/100\n",
      "\u001b[1m1974/1974\u001b[0m \u001b[32m━━━━━━━━━━━━━━━━━━━━\u001b[0m\u001b[37m\u001b[0m \u001b[1m5s\u001b[0m 2ms/step - accuracy: 0.8494 - loss: 0.4265 - val_accuracy: 0.8602 - val_loss: 0.3968\n",
      "Epoch 34/100\n",
      "\u001b[1m1974/1974\u001b[0m \u001b[32m━━━━━━━━━━━━━━━━━━━━\u001b[0m\u001b[37m\u001b[0m \u001b[1m5s\u001b[0m 3ms/step - accuracy: 0.8494 - loss: 0.4243 - val_accuracy: 0.8622 - val_loss: 0.3922\n",
      "Epoch 35/100\n",
      "\u001b[1m1974/1974\u001b[0m \u001b[32m━━━━━━━━━━━━━━━━━━━━\u001b[0m\u001b[37m\u001b[0m \u001b[1m4s\u001b[0m 2ms/step - accuracy: 0.8485 - loss: 0.4248 - val_accuracy: 0.8646 - val_loss: 0.3887\n",
      "Epoch 36/100\n",
      "\u001b[1m1974/1974\u001b[0m \u001b[32m━━━━━━━━━━━━━━━━━━━━\u001b[0m\u001b[37m\u001b[0m \u001b[1m4s\u001b[0m 2ms/step - accuracy: 0.8475 - loss: 0.4234 - val_accuracy: 0.8616 - val_loss: 0.3960\n",
      "Epoch 37/100\n",
      "\u001b[1m1974/1974\u001b[0m \u001b[32m━━━━━━━━━━━━━━━━━━━━\u001b[0m\u001b[37m\u001b[0m \u001b[1m5s\u001b[0m 3ms/step - accuracy: 0.8513 - loss: 0.4189 - val_accuracy: 0.8599 - val_loss: 0.4024\n",
      "Epoch 38/100\n",
      "\u001b[1m1974/1974\u001b[0m \u001b[32m━━━━━━━━━━━━━━━━━━━━\u001b[0m\u001b[37m\u001b[0m \u001b[1m5s\u001b[0m 2ms/step - accuracy: 0.8521 - loss: 0.4174 - val_accuracy: 0.8661 - val_loss: 0.3857\n",
      "Epoch 39/100\n",
      "\u001b[1m1974/1974\u001b[0m \u001b[32m━━━━━━━━━━━━━━━━━━━━\u001b[0m\u001b[37m\u001b[0m \u001b[1m5s\u001b[0m 2ms/step - accuracy: 0.8509 - loss: 0.4171 - val_accuracy: 0.8678 - val_loss: 0.3826\n",
      "Epoch 40/100\n",
      "\u001b[1m1974/1974\u001b[0m \u001b[32m━━━━━━━━━━━━━━━━━━━━\u001b[0m\u001b[37m\u001b[0m \u001b[1m5s\u001b[0m 2ms/step - accuracy: 0.8529 - loss: 0.4153 - val_accuracy: 0.8684 - val_loss: 0.3799\n",
      "Epoch 41/100\n",
      "\u001b[1m1974/1974\u001b[0m \u001b[32m━━━━━━━━━━━━━━━━━━━━\u001b[0m\u001b[37m\u001b[0m \u001b[1m5s\u001b[0m 3ms/step - accuracy: 0.8531 - loss: 0.4138 - val_accuracy: 0.8685 - val_loss: 0.3787\n",
      "Epoch 42/100\n",
      "\u001b[1m1974/1974\u001b[0m \u001b[32m━━━━━━━━━━━━━━━━━━━━\u001b[0m\u001b[37m\u001b[0m \u001b[1m5s\u001b[0m 2ms/step - accuracy: 0.8538 - loss: 0.4117 - val_accuracy: 0.8698 - val_loss: 0.3754\n",
      "Epoch 43/100\n",
      "\u001b[1m1974/1974\u001b[0m \u001b[32m━━━━━━━━━━━━━━━━━━━━\u001b[0m\u001b[37m\u001b[0m \u001b[1m5s\u001b[0m 2ms/step - accuracy: 0.8546 - loss: 0.4141 - val_accuracy: 0.8662 - val_loss: 0.3838\n",
      "Epoch 44/100\n",
      "\u001b[1m1974/1974\u001b[0m \u001b[32m━━━━━━━━━━━━━━━━━━━━\u001b[0m\u001b[37m\u001b[0m \u001b[1m5s\u001b[0m 3ms/step - accuracy: 0.8526 - loss: 0.4168 - val_accuracy: 0.8598 - val_loss: 0.4079\n",
      "Epoch 45/100\n",
      "\u001b[1m1974/1974\u001b[0m \u001b[32m━━━━━━━━━━━━━━━━━━━━\u001b[0m\u001b[37m\u001b[0m \u001b[1m4s\u001b[0m 2ms/step - accuracy: 0.8544 - loss: 0.4127 - val_accuracy: 0.8725 - val_loss: 0.3713\n",
      "Epoch 46/100\n",
      "\u001b[1m1974/1974\u001b[0m \u001b[32m━━━━━━━━━━━━━━━━━━━━\u001b[0m\u001b[37m\u001b[0m \u001b[1m5s\u001b[0m 2ms/step - accuracy: 0.8539 - loss: 0.4117 - val_accuracy: 0.8683 - val_loss: 0.3829\n",
      "Epoch 47/100\n",
      "\u001b[1m1974/1974\u001b[0m \u001b[32m━━━━━━━━━━━━━━━━━━━━\u001b[0m\u001b[37m\u001b[0m \u001b[1m5s\u001b[0m 3ms/step - accuracy: 0.8554 - loss: 0.4092 - val_accuracy: 0.8644 - val_loss: 0.3899\n",
      "Epoch 48/100\n",
      "\u001b[1m1974/1974\u001b[0m \u001b[32m━━━━━━━━━━━━━━━━━━━━\u001b[0m\u001b[37m\u001b[0m \u001b[1m5s\u001b[0m 2ms/step - accuracy: 0.8520 - loss: 0.4171 - val_accuracy: 0.8639 - val_loss: 0.3877\n",
      "Epoch 49/100\n",
      "\u001b[1m1974/1974\u001b[0m \u001b[32m━━━━━━━━━━━━━━━━━━━━\u001b[0m\u001b[37m\u001b[0m \u001b[1m5s\u001b[0m 2ms/step - accuracy: 0.8540 - loss: 0.4121 - val_accuracy: 0.8722 - val_loss: 0.3717\n",
      "Epoch 50/100\n",
      "\u001b[1m1974/1974\u001b[0m \u001b[32m━━━━━━━━━━━━━━━━━━━━\u001b[0m\u001b[37m\u001b[0m \u001b[1m5s\u001b[0m 3ms/step - accuracy: 0.8550 - loss: 0.4114 - val_accuracy: 0.8691 - val_loss: 0.3792\n",
      "Epoch 51/100\n",
      "\u001b[1m1974/1974\u001b[0m \u001b[32m━━━━━━━━━━━━━━━━━━━━\u001b[0m\u001b[37m\u001b[0m \u001b[1m5s\u001b[0m 3ms/step - accuracy: 0.8572 - loss: 0.4061 - val_accuracy: 0.8683 - val_loss: 0.3779\n",
      "Epoch 52/100\n",
      "\u001b[1m1974/1974\u001b[0m \u001b[32m━━━━━━━━━━━━━━━━━━━━\u001b[0m\u001b[37m\u001b[0m \u001b[1m5s\u001b[0m 2ms/step - accuracy: 0.8532 - loss: 0.4139 - val_accuracy: 0.8695 - val_loss: 0.3765\n",
      "Epoch 53/100\n",
      "\u001b[1m1974/1974\u001b[0m \u001b[32m━━━━━━━━━━━━━━━━━━━━\u001b[0m\u001b[37m\u001b[0m \u001b[1m5s\u001b[0m 2ms/step - accuracy: 0.8572 - loss: 0.4046 - val_accuracy: 0.8691 - val_loss: 0.3775\n",
      "Epoch 54/100\n",
      "\u001b[1m1974/1974\u001b[0m \u001b[32m━━━━━━━━━━━━━━━━━━━━\u001b[0m\u001b[37m\u001b[0m \u001b[1m6s\u001b[0m 3ms/step - accuracy: 0.8544 - loss: 0.4116 - val_accuracy: 0.8312 - val_loss: 0.4750\n",
      "Epoch 55/100\n",
      "\u001b[1m1974/1974\u001b[0m \u001b[32m━━━━━━━━━━━━━━━━━━━━\u001b[0m\u001b[37m\u001b[0m \u001b[1m5s\u001b[0m 2ms/step - accuracy: 0.8556 - loss: 0.4138 - val_accuracy: 0.8732 - val_loss: 0.3735\n",
      "Epoch 56/100\n",
      "\u001b[1m1974/1974\u001b[0m \u001b[32m━━━━━━━━━━━━━━━━━━━━\u001b[0m\u001b[37m\u001b[0m \u001b[1m5s\u001b[0m 2ms/step - accuracy: 0.8566 - loss: 0.4052 - val_accuracy: 0.8711 - val_loss: 0.3737\n",
      "Epoch 57/100\n",
      "\u001b[1m1974/1974\u001b[0m \u001b[32m━━━━━━━━━━━━━━━━━━━━\u001b[0m\u001b[37m\u001b[0m \u001b[1m6s\u001b[0m 3ms/step - accuracy: 0.8581 - loss: 0.4051 - val_accuracy: 0.8677 - val_loss: 0.3783\n",
      "Epoch 58/100\n",
      "\u001b[1m1974/1974\u001b[0m \u001b[32m━━━━━━━━━━━━━━━━━━━━\u001b[0m\u001b[37m\u001b[0m \u001b[1m5s\u001b[0m 2ms/step - accuracy: 0.8577 - loss: 0.4026 - val_accuracy: 0.8665 - val_loss: 0.3840\n",
      "Epoch 59/100\n",
      "\u001b[1m1974/1974\u001b[0m \u001b[32m━━━━━━━━━━━━━━━━━━━━\u001b[0m\u001b[37m\u001b[0m \u001b[1m5s\u001b[0m 2ms/step - accuracy: 0.8551 - loss: 0.4094 - val_accuracy: 0.8718 - val_loss: 0.3731\n",
      "Epoch 60/100\n",
      "\u001b[1m1974/1974\u001b[0m \u001b[32m━━━━━━━━━━━━━━━━━━━━\u001b[0m\u001b[37m\u001b[0m \u001b[1m8s\u001b[0m 4ms/step - accuracy: 0.8553 - loss: 0.4101 - val_accuracy: 0.8730 - val_loss: 0.3730\n",
      "Epoch 61/100\n",
      "\u001b[1m1974/1974\u001b[0m \u001b[32m━━━━━━━━━━━━━━━━━━━━\u001b[0m\u001b[37m\u001b[0m \u001b[1m6s\u001b[0m 3ms/step - accuracy: 0.8607 - loss: 0.3984 - val_accuracy: 0.8485 - val_loss: 0.4330\n",
      "Epoch 62/100\n",
      "\u001b[1m1974/1974\u001b[0m \u001b[32m━━━━━━━━━━━━━━━━━━━━\u001b[0m\u001b[37m\u001b[0m \u001b[1m6s\u001b[0m 3ms/step - accuracy: 0.8581 - loss: 0.4041 - val_accuracy: 0.8712 - val_loss: 0.3757\n",
      "Epoch 63/100\n",
      "\u001b[1m1974/1974\u001b[0m \u001b[32m━━━━━━━━━━━━━━━━━━━━\u001b[0m\u001b[37m\u001b[0m \u001b[1m7s\u001b[0m 4ms/step - accuracy: 0.8600 - loss: 0.4024 - val_accuracy: 0.8736 - val_loss: 0.3712\n",
      "Epoch 64/100\n",
      "\u001b[1m1974/1974\u001b[0m \u001b[32m━━━━━━━━━━━━━━━━━━━━\u001b[0m\u001b[37m\u001b[0m \u001b[1m5s\u001b[0m 3ms/step - accuracy: 0.8601 - loss: 0.3991 - val_accuracy: 0.8696 - val_loss: 0.3842\n",
      "Epoch 65/100\n",
      "\u001b[1m1974/1974\u001b[0m \u001b[32m━━━━━━━━━━━━━━━━━━━━\u001b[0m\u001b[37m\u001b[0m \u001b[1m6s\u001b[0m 3ms/step - accuracy: 0.8591 - loss: 0.4008 - val_accuracy: 0.8717 - val_loss: 0.3756\n",
      "Epoch 66/100\n",
      "\u001b[1m1974/1974\u001b[0m \u001b[32m━━━━━━━━━━━━━━━━━━━━\u001b[0m\u001b[37m\u001b[0m \u001b[1m5s\u001b[0m 2ms/step - accuracy: 0.8582 - loss: 0.4026 - val_accuracy: 0.8703 - val_loss: 0.3721\n",
      "Epoch 67/100\n",
      "\u001b[1m1974/1974\u001b[0m \u001b[32m━━━━━━━━━━━━━━━━━━━━\u001b[0m\u001b[37m\u001b[0m \u001b[1m5s\u001b[0m 2ms/step - accuracy: 0.8594 - loss: 0.4024 - val_accuracy: 0.8683 - val_loss: 0.3899\n",
      "Epoch 68/100\n",
      "\u001b[1m1974/1974\u001b[0m \u001b[32m━━━━━━━━━━━━━━━━━━━━\u001b[0m\u001b[37m\u001b[0m \u001b[1m6s\u001b[0m 3ms/step - accuracy: 0.8599 - loss: 0.3986 - val_accuracy: 0.8225 - val_loss: 0.4855\n",
      "Epoch 69/100\n",
      "\u001b[1m1974/1974\u001b[0m \u001b[32m━━━━━━━━━━━━━━━━━━━━\u001b[0m\u001b[37m\u001b[0m \u001b[1m5s\u001b[0m 3ms/step - accuracy: 0.8585 - loss: 0.4028 - val_accuracy: 0.8720 - val_loss: 0.3747\n",
      "Epoch 70/100\n",
      "\u001b[1m1974/1974\u001b[0m \u001b[32m━━━━━━━━━━━━━━━━━━━━\u001b[0m\u001b[37m\u001b[0m \u001b[1m5s\u001b[0m 2ms/step - accuracy: 0.8576 - loss: 0.4030 - val_accuracy: 0.8688 - val_loss: 0.3777\n",
      "Epoch 71/100\n",
      "\u001b[1m1974/1974\u001b[0m \u001b[32m━━━━━━━━━━━━━━━━━━━━\u001b[0m\u001b[37m\u001b[0m \u001b[1m6s\u001b[0m 3ms/step - accuracy: 0.8574 - loss: 0.4050 - val_accuracy: 0.8737 - val_loss: 0.3682\n",
      "Epoch 72/100\n",
      "\u001b[1m1974/1974\u001b[0m \u001b[32m━━━━━━━━━━━━━━━━━━━━\u001b[0m\u001b[37m\u001b[0m \u001b[1m5s\u001b[0m 3ms/step - accuracy: 0.8588 - loss: 0.4002 - val_accuracy: 0.8762 - val_loss: 0.3707\n",
      "Epoch 73/100\n",
      "\u001b[1m1974/1974\u001b[0m \u001b[32m━━━━━━━━━━━━━━━━━━━━\u001b[0m\u001b[37m\u001b[0m \u001b[1m5s\u001b[0m 3ms/step - accuracy: 0.8607 - loss: 0.4008 - val_accuracy: 0.8714 - val_loss: 0.3719\n",
      "Epoch 74/100\n",
      "\u001b[1m1974/1974\u001b[0m \u001b[32m━━━━━━━━━━━━━━━━━━━━\u001b[0m\u001b[37m\u001b[0m \u001b[1m5s\u001b[0m 3ms/step - accuracy: 0.8590 - loss: 0.4011 - val_accuracy: 0.8664 - val_loss: 0.3877\n",
      "Epoch 75/100\n",
      "\u001b[1m1974/1974\u001b[0m \u001b[32m━━━━━━━━━━━━━━━━━━━━\u001b[0m\u001b[37m\u001b[0m \u001b[1m5s\u001b[0m 3ms/step - accuracy: 0.8601 - loss: 0.3996 - val_accuracy: 0.8752 - val_loss: 0.3705\n",
      "Epoch 76/100\n",
      "\u001b[1m1974/1974\u001b[0m \u001b[32m━━━━━━━━━━━━━━━━━━━━\u001b[0m\u001b[37m\u001b[0m \u001b[1m5s\u001b[0m 2ms/step - accuracy: 0.8629 - loss: 0.3936 - val_accuracy: 0.8695 - val_loss: 0.3777\n",
      "Epoch 77/100\n",
      "\u001b[1m1974/1974\u001b[0m \u001b[32m━━━━━━━━━━━━━━━━━━━━\u001b[0m\u001b[37m\u001b[0m \u001b[1m5s\u001b[0m 3ms/step - accuracy: 0.8606 - loss: 0.3944 - val_accuracy: 0.8674 - val_loss: 0.3822\n",
      "Epoch 78/100\n",
      "\u001b[1m1974/1974\u001b[0m \u001b[32m━━━━━━━━━━━━━━━━━━━━\u001b[0m\u001b[37m\u001b[0m \u001b[1m5s\u001b[0m 3ms/step - accuracy: 0.8598 - loss: 0.4001 - val_accuracy: 0.8768 - val_loss: 0.3616\n",
      "Epoch 79/100\n",
      "\u001b[1m1974/1974\u001b[0m \u001b[32m━━━━━━━━━━━━━━━━━━━━\u001b[0m\u001b[37m\u001b[0m \u001b[1m5s\u001b[0m 2ms/step - accuracy: 0.8583 - loss: 0.3990 - val_accuracy: 0.8614 - val_loss: 0.3978\n",
      "Epoch 80/100\n",
      "\u001b[1m1974/1974\u001b[0m \u001b[32m━━━━━━━━━━━━━━━━━━━━\u001b[0m\u001b[37m\u001b[0m \u001b[1m5s\u001b[0m 3ms/step - accuracy: 0.8618 - loss: 0.3968 - val_accuracy: 0.8710 - val_loss: 0.3712\n",
      "Epoch 81/100\n",
      "\u001b[1m1974/1974\u001b[0m \u001b[32m━━━━━━━━━━━━━━━━━━━━\u001b[0m\u001b[37m\u001b[0m \u001b[1m6s\u001b[0m 3ms/step - accuracy: 0.8595 - loss: 0.4002 - val_accuracy: 0.8610 - val_loss: 0.4063\n",
      "Epoch 82/100\n",
      "\u001b[1m1974/1974\u001b[0m \u001b[32m━━━━━━━━━━━━━━━━━━━━\u001b[0m\u001b[37m\u001b[0m \u001b[1m5s\u001b[0m 2ms/step - accuracy: 0.8613 - loss: 0.3972 - val_accuracy: 0.8698 - val_loss: 0.3790\n",
      "Epoch 83/100\n",
      "\u001b[1m1974/1974\u001b[0m \u001b[32m━━━━━━━━━━━━━━━━━━━━\u001b[0m\u001b[37m\u001b[0m \u001b[1m5s\u001b[0m 3ms/step - accuracy: 0.8614 - loss: 0.3969 - val_accuracy: 0.8678 - val_loss: 0.3797\n",
      "Epoch 84/100\n",
      "\u001b[1m1974/1974\u001b[0m \u001b[32m━━━━━━━━━━━━━━━━━━━━\u001b[0m\u001b[37m\u001b[0m \u001b[1m6s\u001b[0m 3ms/step - accuracy: 0.8610 - loss: 0.3957 - val_accuracy: 0.8787 - val_loss: 0.3555\n",
      "Epoch 85/100\n",
      "\u001b[1m1974/1974\u001b[0m \u001b[32m━━━━━━━━━━━━━━━━━━━━\u001b[0m\u001b[37m\u001b[0m \u001b[1m5s\u001b[0m 2ms/step - accuracy: 0.8610 - loss: 0.3996 - val_accuracy: 0.8727 - val_loss: 0.3663\n",
      "Epoch 86/100\n",
      "\u001b[1m1974/1974\u001b[0m \u001b[32m━━━━━━━━━━━━━━━━━━━━\u001b[0m\u001b[37m\u001b[0m \u001b[1m5s\u001b[0m 3ms/step - accuracy: 0.8618 - loss: 0.3956 - val_accuracy: 0.8766 - val_loss: 0.3615\n",
      "Epoch 87/100\n",
      "\u001b[1m1974/1974\u001b[0m \u001b[32m━━━━━━━━━━━━━━━━━━━━\u001b[0m\u001b[37m\u001b[0m \u001b[1m6s\u001b[0m 3ms/step - accuracy: 0.8631 - loss: 0.3933 - val_accuracy: 0.8796 - val_loss: 0.3613\n",
      "Epoch 88/100\n",
      "\u001b[1m1974/1974\u001b[0m \u001b[32m━━━━━━━━━━━━━━━━━━━━\u001b[0m\u001b[37m\u001b[0m \u001b[1m5s\u001b[0m 2ms/step - accuracy: 0.8631 - loss: 0.3913 - val_accuracy: 0.8760 - val_loss: 0.3632\n",
      "Epoch 89/100\n",
      "\u001b[1m1974/1974\u001b[0m \u001b[32m━━━━━━━━━━━━━━━━━━━━\u001b[0m\u001b[37m\u001b[0m \u001b[1m5s\u001b[0m 3ms/step - accuracy: 0.8626 - loss: 0.3902 - val_accuracy: 0.8721 - val_loss: 0.3757\n",
      "Epoch 90/100\n",
      "\u001b[1m1974/1974\u001b[0m \u001b[32m━━━━━━━━━━━━━━━━━━━━\u001b[0m\u001b[37m\u001b[0m \u001b[1m6s\u001b[0m 3ms/step - accuracy: 0.8633 - loss: 0.3934 - val_accuracy: 0.8699 - val_loss: 0.3718\n",
      "Epoch 91/100\n",
      "\u001b[1m1974/1974\u001b[0m \u001b[32m━━━━━━━━━━━━━━━━━━━━\u001b[0m\u001b[37m\u001b[0m \u001b[1m5s\u001b[0m 3ms/step - accuracy: 0.8639 - loss: 0.3934 - val_accuracy: 0.8803 - val_loss: 0.3532\n",
      "Epoch 92/100\n",
      "\u001b[1m1974/1974\u001b[0m \u001b[32m━━━━━━━━━━━━━━━━━━━━\u001b[0m\u001b[37m\u001b[0m \u001b[1m6s\u001b[0m 3ms/step - accuracy: 0.8642 - loss: 0.3912 - val_accuracy: 0.8799 - val_loss: 0.3538\n",
      "Epoch 93/100\n",
      "\u001b[1m1974/1974\u001b[0m \u001b[32m━━━━━━━━━━━━━━━━━━━━\u001b[0m\u001b[37m\u001b[0m \u001b[1m6s\u001b[0m 3ms/step - accuracy: 0.8618 - loss: 0.3952 - val_accuracy: 0.8779 - val_loss: 0.3576\n",
      "Epoch 94/100\n",
      "\u001b[1m1974/1974\u001b[0m \u001b[32m━━━━━━━━━━━━━━━━━━━━\u001b[0m\u001b[37m\u001b[0m \u001b[1m5s\u001b[0m 2ms/step - accuracy: 0.8618 - loss: 0.3946 - val_accuracy: 0.8786 - val_loss: 0.3604\n",
      "Epoch 95/100\n",
      "\u001b[1m1974/1974\u001b[0m \u001b[32m━━━━━━━━━━━━━━━━━━━━\u001b[0m\u001b[37m\u001b[0m \u001b[1m5s\u001b[0m 3ms/step - accuracy: 0.8645 - loss: 0.3921 - val_accuracy: 0.8813 - val_loss: 0.3559\n",
      "Epoch 96/100\n",
      "\u001b[1m1974/1974\u001b[0m \u001b[32m━━━━━━━━━━━━━━━━━━━━\u001b[0m\u001b[37m\u001b[0m \u001b[1m6s\u001b[0m 3ms/step - accuracy: 0.8636 - loss: 0.3916 - val_accuracy: 0.8797 - val_loss: 0.3546\n",
      "Epoch 97/100\n",
      "\u001b[1m1974/1974\u001b[0m \u001b[32m━━━━━━━━━━━━━━━━━━━━\u001b[0m\u001b[37m\u001b[0m \u001b[1m5s\u001b[0m 3ms/step - accuracy: 0.8630 - loss: 0.3917 - val_accuracy: 0.8794 - val_loss: 0.3511\n",
      "Epoch 98/100\n",
      "\u001b[1m1974/1974\u001b[0m \u001b[32m━━━━━━━━━━━━━━━━━━━━\u001b[0m\u001b[37m\u001b[0m \u001b[1m5s\u001b[0m 3ms/step - accuracy: 0.8647 - loss: 0.3867 - val_accuracy: 0.8743 - val_loss: 0.3648\n",
      "Epoch 99/100\n",
      "\u001b[1m1974/1974\u001b[0m \u001b[32m━━━━━━━━━━━━━━━━━━━━\u001b[0m\u001b[37m\u001b[0m \u001b[1m6s\u001b[0m 3ms/step - accuracy: 0.8671 - loss: 0.3832 - val_accuracy: 0.8788 - val_loss: 0.3527\n",
      "Epoch 100/100\n",
      "\u001b[1m1974/1974\u001b[0m \u001b[32m━━━━━━━━━━━━━━━━━━━━\u001b[0m\u001b[37m\u001b[0m \u001b[1m5s\u001b[0m 3ms/step - accuracy: 0.8635 - loss: 0.3896 - val_accuracy: 0.8766 - val_loss: 0.3661\n"
     ]
    }
   ],
   "source": [
    "history = model.fit(x_train, y_train, batch_size=64, epochs=100, validation_data=(x_test, y_test), verbose=1, callbacks=[custom_early_stopping])"
   ]
  },
  {
   "cell_type": "code",
   "execution_count": 148,
   "metadata": {},
   "outputs": [
    {
     "data": {
      "image/png": "[encoded data removed]",
      "text/plain": [
       "<Figure size 640x480 with 1 Axes>"
      ]
     },
     "metadata": {},
     "output_type": "display_data"
    }
   ],
   "source": [
    "plt.plot(history.history['loss'], color='g', label='Training Loss')\n",
    "plt.plot(history.history['val_loss'], color='b', label='Validation Loss')\n",
    "plt.title(\"Loss vs Val Loss\")\n",
    "plt.legend()\n",
    "plt.show()"
   ]
  },
  {
   "cell_type": "code",
   "execution_count": 149,
   "metadata": {},
   "outputs": [
    {
     "data": {
      "image/png": "[encoded data removed]",
      "text/plain": [
       "<Figure size 640x480 with 1 Axes>"
      ]
     },
     "metadata": {},
     "output_type": "display_data"
    }
   ],
   "source": [
    "plt.plot(history.history['accuracy'], color='g', label='Training Accuracy')\n",
    "plt.plot(history.history['val_accuracy'], color='b', label='Validation Accuracy')\n",
    "plt.title(\"Accuracy vs Val Accuracy\")\n",
    "plt.legend()\n",
    "plt.show()"
   ]
  },
  {
   "cell_type": "code",
   "execution_count": 150,
   "metadata": {},
   "outputs": [
    {
     "name": "stdout",
     "output_type": "stream",
     "text": [
      "\u001b[1m987/987\u001b[0m \u001b[32m━━━━━━━━━━━━━━━━━━━━\u001b[0m\u001b[37m\u001b[0m \u001b[1m1s\u001b[0m 1ms/step\n",
      "              precision    recall  f1-score   support\n",
      "\n",
      "           0       0.95      0.91      0.93      3454\n",
      "           1       0.75      0.68      0.72      3432\n",
      "           2       0.82      0.92      0.87      3476\n",
      "           3       0.75      0.66      0.71      3552\n",
      "           4       0.78      0.85      0.81      3449\n",
      "           5       0.99      1.00      0.99      3564\n",
      "           6       0.99      1.00      1.00      3517\n",
      "           7       0.83      0.86      0.84      3586\n",
      "           8       1.00      1.00      1.00      3546\n",
      "\n",
      "    accuracy                           0.88     31576\n",
      "   macro avg       0.88      0.88      0.87     31576\n",
      "weighted avg       0.88      0.88      0.88     31576\n",
      "\n"
     ]
    }
   ],
   "source": [
    "from sklearn.metrics import classification_report\n",
    "\n",
    "y_pred = np.argmax(model.predict(x_test), axis=1)\n",
    "print(classification_report(y_test, y_pred))"
   ]
  },
  {
   "cell_type": "code",
   "execution_count": 152,
   "metadata": {},
   "outputs": [],
   "source": [
    "# model.save('classification.keras')"
   ]
  }
 ],
 "metadata": {
  "kernelspec": {
   "display_name": "Capstone",
   "language": "python",
   "name": "python3"
  },
  "language_info": {
   "codemirror_mode": {
    "name": "ipython",
    "version": 3
   },
   "file_extension": ".py",
   "mimetype": "text/x-python",
   "name": "python",
   "nbconvert_exporter": "python",
   "pygments_lexer": "ipython3",
   "version": "3.12.7"
  }
 },
 "nbformat": 4,
 "nbformat_minor": 2
}
