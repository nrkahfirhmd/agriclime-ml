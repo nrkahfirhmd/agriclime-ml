{
 "cells": [
  {
   "cell_type": "code",
   "execution_count": 1,
   "metadata": {},
   "outputs": [],
   "source": [
    "import pandas as pd\n",
    "import numpy as np\n",
    "import matplotlib.pyplot as plt\n",
    "import tensorflow as tf"
   ]
  },
  {
   "cell_type": "code",
   "execution_count": 2,
   "metadata": {},
   "outputs": [
    {
     "name": "stderr",
     "output_type": "stream",
     "text": [
      "c:\\Users\\nurka\\.conda\\envs\\Tensor\\lib\\site-packages\\tqdm\\auto.py:21: TqdmWarning: IProgress not found. Please update jupyter and ipywidgets. See https://ipywidgets.readthedocs.io/en/stable/user_install.html\n",
      "  from .autonotebook import tqdm as notebook_tqdm\n"
     ]
    },
    {
     "name": "stdout",
     "output_type": "stream",
     "text": [
      "Warning: Looks like you're using an outdated `kagglehub` version, please consider updating (latest version: 0.3.4)\n",
      "Downloading from https://www.kaggle.com/api/v1/datasets/download/nelgiriyewithana/global-weather-repository?dataset_version_number=418...\n"
     ]
    },
    {
     "name": "stderr",
     "output_type": "stream",
     "text": [
      "100%|██████████| 2.83M/2.83M [00:01<00:00, 2.05MB/s]"
     ]
    },
    {
     "name": "stdout",
     "output_type": "stream",
     "text": [
      "Extracting model files...\n"
     ]
    },
    {
     "name": "stderr",
     "output_type": "stream",
     "text": [
      "\n"
     ]
    },
    {
     "name": "stdout",
     "output_type": "stream",
     "text": [
      "Dataset downloaded to: C:\\Users\\nurka\\.cache\\kagglehub\\datasets\\nelgiriyewithana\\global-weather-repository\\versions\\418\n"
     ]
    }
   ],
   "source": [
    "import kagglehub\n",
    "\n",
    "# Download latest version\n",
    "path = kagglehub.dataset_download(\"nelgiriyewithana/global-weather-repository\")\n",
    "\n",
    "print(\"Dataset downloaded to:\", path)"
   ]
  },
  {
   "cell_type": "code",
   "execution_count": 3,
   "metadata": {},
   "outputs": [
    {
     "data": {
      "text/html": [
       "<div>\n",
       "<style scoped>\n",
       "    .dataframe tbody tr th:only-of-type {\n",
       "        vertical-align: middle;\n",
       "    }\n",
       "\n",
       "    .dataframe tbody tr th {\n",
       "        vertical-align: top;\n",
       "    }\n",
       "\n",
       "    .dataframe thead th {\n",
       "        text-align: right;\n",
       "    }\n",
       "</style>\n",
       "<table border=\"1\" class=\"dataframe\">\n",
       "  <thead>\n",
       "    <tr style=\"text-align: right;\">\n",
       "      <th></th>\n",
       "      <th>country</th>\n",
       "      <th>location_name</th>\n",
       "      <th>latitude</th>\n",
       "      <th>longitude</th>\n",
       "      <th>timezone</th>\n",
       "      <th>last_updated_epoch</th>\n",
       "      <th>last_updated</th>\n",
       "      <th>temperature_celsius</th>\n",
       "      <th>temperature_fahrenheit</th>\n",
       "      <th>condition_text</th>\n",
       "      <th>...</th>\n",
       "      <th>air_quality_PM2.5</th>\n",
       "      <th>air_quality_PM10</th>\n",
       "      <th>air_quality_us-epa-index</th>\n",
       "      <th>air_quality_gb-defra-index</th>\n",
       "      <th>sunrise</th>\n",
       "      <th>sunset</th>\n",
       "      <th>moonrise</th>\n",
       "      <th>moonset</th>\n",
       "      <th>moon_phase</th>\n",
       "      <th>moon_illumination</th>\n",
       "    </tr>\n",
       "  </thead>\n",
       "  <tbody>\n",
       "    <tr>\n",
       "      <th>0</th>\n",
       "      <td>Afghanistan</td>\n",
       "      <td>Kabul</td>\n",
       "      <td>34.52</td>\n",
       "      <td>69.18</td>\n",
       "      <td>Asia/Kabul</td>\n",
       "      <td>1715849100</td>\n",
       "      <td>2024-05-16 13:15</td>\n",
       "      <td>26.6</td>\n",
       "      <td>79.8</td>\n",
       "      <td>Partly Cloudy</td>\n",
       "      <td>...</td>\n",
       "      <td>8.4</td>\n",
       "      <td>26.6</td>\n",
       "      <td>1</td>\n",
       "      <td>1</td>\n",
       "      <td>04:50 AM</td>\n",
       "      <td>06:50 PM</td>\n",
       "      <td>12:12 PM</td>\n",
       "      <td>01:11 AM</td>\n",
       "      <td>Waxing Gibbous</td>\n",
       "      <td>55</td>\n",
       "    </tr>\n",
       "    <tr>\n",
       "      <th>1</th>\n",
       "      <td>Albania</td>\n",
       "      <td>Tirana</td>\n",
       "      <td>41.33</td>\n",
       "      <td>19.82</td>\n",
       "      <td>Europe/Tirane</td>\n",
       "      <td>1715849100</td>\n",
       "      <td>2024-05-16 10:45</td>\n",
       "      <td>19.0</td>\n",
       "      <td>66.2</td>\n",
       "      <td>Partly cloudy</td>\n",
       "      <td>...</td>\n",
       "      <td>1.1</td>\n",
       "      <td>2.0</td>\n",
       "      <td>1</td>\n",
       "      <td>1</td>\n",
       "      <td>05:21 AM</td>\n",
       "      <td>07:54 PM</td>\n",
       "      <td>12:58 PM</td>\n",
       "      <td>02:14 AM</td>\n",
       "      <td>Waxing Gibbous</td>\n",
       "      <td>55</td>\n",
       "    </tr>\n",
       "    <tr>\n",
       "      <th>2</th>\n",
       "      <td>Algeria</td>\n",
       "      <td>Algiers</td>\n",
       "      <td>36.76</td>\n",
       "      <td>3.05</td>\n",
       "      <td>Africa/Algiers</td>\n",
       "      <td>1715849100</td>\n",
       "      <td>2024-05-16 09:45</td>\n",
       "      <td>23.0</td>\n",
       "      <td>73.4</td>\n",
       "      <td>Sunny</td>\n",
       "      <td>...</td>\n",
       "      <td>10.4</td>\n",
       "      <td>18.4</td>\n",
       "      <td>1</td>\n",
       "      <td>1</td>\n",
       "      <td>05:40 AM</td>\n",
       "      <td>07:50 PM</td>\n",
       "      <td>01:15 PM</td>\n",
       "      <td>02:14 AM</td>\n",
       "      <td>Waxing Gibbous</td>\n",
       "      <td>55</td>\n",
       "    </tr>\n",
       "    <tr>\n",
       "      <th>3</th>\n",
       "      <td>Andorra</td>\n",
       "      <td>Andorra La Vella</td>\n",
       "      <td>42.50</td>\n",
       "      <td>1.52</td>\n",
       "      <td>Europe/Andorra</td>\n",
       "      <td>1715849100</td>\n",
       "      <td>2024-05-16 10:45</td>\n",
       "      <td>6.3</td>\n",
       "      <td>43.3</td>\n",
       "      <td>Light drizzle</td>\n",
       "      <td>...</td>\n",
       "      <td>0.7</td>\n",
       "      <td>0.9</td>\n",
       "      <td>1</td>\n",
       "      <td>1</td>\n",
       "      <td>06:31 AM</td>\n",
       "      <td>09:11 PM</td>\n",
       "      <td>02:12 PM</td>\n",
       "      <td>03:31 AM</td>\n",
       "      <td>Waxing Gibbous</td>\n",
       "      <td>55</td>\n",
       "    </tr>\n",
       "    <tr>\n",
       "      <th>4</th>\n",
       "      <td>Angola</td>\n",
       "      <td>Luanda</td>\n",
       "      <td>-8.84</td>\n",
       "      <td>13.23</td>\n",
       "      <td>Africa/Luanda</td>\n",
       "      <td>1715849100</td>\n",
       "      <td>2024-05-16 09:45</td>\n",
       "      <td>26.0</td>\n",
       "      <td>78.8</td>\n",
       "      <td>Partly cloudy</td>\n",
       "      <td>...</td>\n",
       "      <td>183.4</td>\n",
       "      <td>262.3</td>\n",
       "      <td>5</td>\n",
       "      <td>10</td>\n",
       "      <td>06:12 AM</td>\n",
       "      <td>05:55 PM</td>\n",
       "      <td>01:17 PM</td>\n",
       "      <td>12:38 AM</td>\n",
       "      <td>Waxing Gibbous</td>\n",
       "      <td>55</td>\n",
       "    </tr>\n",
       "  </tbody>\n",
       "</table>\n",
       "<p>5 rows × 41 columns</p>\n",
       "</div>"
      ],
      "text/plain": [
       "       country     location_name  latitude  longitude        timezone  \\\n",
       "0  Afghanistan             Kabul     34.52      69.18      Asia/Kabul   \n",
       "1      Albania            Tirana     41.33      19.82   Europe/Tirane   \n",
       "2      Algeria           Algiers     36.76       3.05  Africa/Algiers   \n",
       "3      Andorra  Andorra La Vella     42.50       1.52  Europe/Andorra   \n",
       "4       Angola            Luanda     -8.84      13.23   Africa/Luanda   \n",
       "\n",
       "   last_updated_epoch      last_updated  temperature_celsius  \\\n",
       "0          1715849100  2024-05-16 13:15                 26.6   \n",
       "1          1715849100  2024-05-16 10:45                 19.0   \n",
       "2          1715849100  2024-05-16 09:45                 23.0   \n",
       "3          1715849100  2024-05-16 10:45                  6.3   \n",
       "4          1715849100  2024-05-16 09:45                 26.0   \n",
       "\n",
       "   temperature_fahrenheit condition_text  ...  air_quality_PM2.5  \\\n",
       "0                    79.8  Partly Cloudy  ...                8.4   \n",
       "1                    66.2  Partly cloudy  ...                1.1   \n",
       "2                    73.4          Sunny  ...               10.4   \n",
       "3                    43.3  Light drizzle  ...                0.7   \n",
       "4                    78.8  Partly cloudy  ...              183.4   \n",
       "\n",
       "   air_quality_PM10  air_quality_us-epa-index air_quality_gb-defra-index  \\\n",
       "0              26.6                         1                          1   \n",
       "1               2.0                         1                          1   \n",
       "2              18.4                         1                          1   \n",
       "3               0.9                         1                          1   \n",
       "4             262.3                         5                         10   \n",
       "\n",
       "    sunrise    sunset  moonrise   moonset      moon_phase  moon_illumination  \n",
       "0  04:50 AM  06:50 PM  12:12 PM  01:11 AM  Waxing Gibbous                 55  \n",
       "1  05:21 AM  07:54 PM  12:58 PM  02:14 AM  Waxing Gibbous                 55  \n",
       "2  05:40 AM  07:50 PM  01:15 PM  02:14 AM  Waxing Gibbous                 55  \n",
       "3  06:31 AM  09:11 PM  02:12 PM  03:31 AM  Waxing Gibbous                 55  \n",
       "4  06:12 AM  05:55 PM  01:17 PM  12:38 AM  Waxing Gibbous                 55  \n",
       "\n",
       "[5 rows x 41 columns]"
      ]
     },
     "execution_count": 3,
     "metadata": {},
     "output_type": "execute_result"
    }
   ],
   "source": [
    "df = pd.read_csv(path + '/GlobalWeatherRepository.csv')\n",
    "\n",
    "df.head(5)"
   ]
  },
  {
   "cell_type": "code",
   "execution_count": 4,
   "metadata": {},
   "outputs": [
    {
     "name": "stdout",
     "output_type": "stream",
     "text": [
      "Index(['country', 'location_name', 'latitude', 'longitude', 'timezone',\n",
      "       'last_updated_epoch', 'last_updated', 'temperature_celsius',\n",
      "       'temperature_fahrenheit', 'condition_text', 'wind_mph', 'wind_kph',\n",
      "       'wind_degree', 'wind_direction', 'pressure_mb', 'pressure_in',\n",
      "       'precip_mm', 'precip_in', 'humidity', 'cloud', 'feels_like_celsius',\n",
      "       'feels_like_fahrenheit', 'visibility_km', 'visibility_miles',\n",
      "       'uv_index', 'gust_mph', 'gust_kph', 'air_quality_Carbon_Monoxide',\n",
      "       'air_quality_Ozone', 'air_quality_Nitrogen_dioxide',\n",
      "       'air_quality_Sulphur_dioxide', 'air_quality_PM2.5', 'air_quality_PM10',\n",
      "       'air_quality_us-epa-index', 'air_quality_gb-defra-index', 'sunrise',\n",
      "       'sunset', 'moonrise', 'moonset', 'moon_phase', 'moon_illumination'],\n",
      "      dtype='object')\n"
     ]
    }
   ],
   "source": [
    "print(df.columns)"
   ]
  },
  {
   "cell_type": "code",
   "execution_count": 5,
   "metadata": {},
   "outputs": [
    {
     "data": {
      "text/html": [
       "<div>\n",
       "<style scoped>\n",
       "    .dataframe tbody tr th:only-of-type {\n",
       "        vertical-align: middle;\n",
       "    }\n",
       "\n",
       "    .dataframe tbody tr th {\n",
       "        vertical-align: top;\n",
       "    }\n",
       "\n",
       "    .dataframe thead th {\n",
       "        text-align: right;\n",
       "    }\n",
       "</style>\n",
       "<table border=\"1\" class=\"dataframe\">\n",
       "  <thead>\n",
       "    <tr style=\"text-align: right;\">\n",
       "      <th></th>\n",
       "      <th>temperature_celsius</th>\n",
       "      <th>condition_text</th>\n",
       "      <th>wind_kph</th>\n",
       "      <th>wind_degree</th>\n",
       "      <th>pressure_in</th>\n",
       "      <th>precip_in</th>\n",
       "      <th>humidity</th>\n",
       "      <th>cloud</th>\n",
       "      <th>uv_index</th>\n",
       "    </tr>\n",
       "  </thead>\n",
       "  <tbody>\n",
       "    <tr>\n",
       "      <th>0</th>\n",
       "      <td>26.6</td>\n",
       "      <td>Partly Cloudy</td>\n",
       "      <td>13.3</td>\n",
       "      <td>338</td>\n",
       "      <td>29.89</td>\n",
       "      <td>0.00</td>\n",
       "      <td>24</td>\n",
       "      <td>30</td>\n",
       "      <td>7.0</td>\n",
       "    </tr>\n",
       "    <tr>\n",
       "      <th>1</th>\n",
       "      <td>19.0</td>\n",
       "      <td>Partly cloudy</td>\n",
       "      <td>11.2</td>\n",
       "      <td>320</td>\n",
       "      <td>29.88</td>\n",
       "      <td>0.00</td>\n",
       "      <td>94</td>\n",
       "      <td>75</td>\n",
       "      <td>5.0</td>\n",
       "    </tr>\n",
       "    <tr>\n",
       "      <th>2</th>\n",
       "      <td>23.0</td>\n",
       "      <td>Sunny</td>\n",
       "      <td>15.1</td>\n",
       "      <td>280</td>\n",
       "      <td>29.85</td>\n",
       "      <td>0.00</td>\n",
       "      <td>29</td>\n",
       "      <td>0</td>\n",
       "      <td>5.0</td>\n",
       "    </tr>\n",
       "    <tr>\n",
       "      <th>3</th>\n",
       "      <td>6.3</td>\n",
       "      <td>Light drizzle</td>\n",
       "      <td>11.9</td>\n",
       "      <td>215</td>\n",
       "      <td>29.75</td>\n",
       "      <td>0.01</td>\n",
       "      <td>61</td>\n",
       "      <td>100</td>\n",
       "      <td>2.0</td>\n",
       "    </tr>\n",
       "    <tr>\n",
       "      <th>4</th>\n",
       "      <td>26.0</td>\n",
       "      <td>Partly cloudy</td>\n",
       "      <td>13.0</td>\n",
       "      <td>150</td>\n",
       "      <td>29.85</td>\n",
       "      <td>0.00</td>\n",
       "      <td>89</td>\n",
       "      <td>50</td>\n",
       "      <td>8.0</td>\n",
       "    </tr>\n",
       "  </tbody>\n",
       "</table>\n",
       "</div>"
      ],
      "text/plain": [
       "   temperature_celsius condition_text  wind_kph  wind_degree  pressure_in  \\\n",
       "0                 26.6  Partly Cloudy      13.3          338        29.89   \n",
       "1                 19.0  Partly cloudy      11.2          320        29.88   \n",
       "2                 23.0          Sunny      15.1          280        29.85   \n",
       "3                  6.3  Light drizzle      11.9          215        29.75   \n",
       "4                 26.0  Partly cloudy      13.0          150        29.85   \n",
       "\n",
       "   precip_in  humidity  cloud  uv_index  \n",
       "0       0.00        24     30       7.0  \n",
       "1       0.00        94     75       5.0  \n",
       "2       0.00        29      0       5.0  \n",
       "3       0.01        61    100       2.0  \n",
       "4       0.00        89     50       8.0  "
      ]
     },
     "execution_count": 5,
     "metadata": {},
     "output_type": "execute_result"
    }
   ],
   "source": [
    "selected = ['temperature_celsius', 'condition_text', 'wind_kph', 'wind_degree', 'pressure_in', 'precip_in', 'humidity', 'cloud', 'uv_index']\n",
    "\n",
    "training = df[selected]\n",
    "\n",
    "training.head(5)"
   ]
  },
  {
   "cell_type": "code",
   "execution_count": 6,
   "metadata": {},
   "outputs": [],
   "source": [
    "x_feat = [col for col in training.columns if col != 'condition_text']\n",
    "\n",
    "X = training[x_feat]\n",
    "y = training['condition_text']"
   ]
  },
  {
   "cell_type": "code",
   "execution_count": 7,
   "metadata": {},
   "outputs": [
    {
     "data": {
      "text/plain": [
       "array(['partly cloudy', 'sunny', 'light drizzle', 'clear', 'overcast',\n",
       "       'moderate or heavy rain with thunder',\n",
       "       'patchy light rain in area with thunder', 'fog',\n",
       "       'patchy light rain with thunder', 'patchy rain nearby',\n",
       "       'light rain', 'mist', 'cloudy', 'thundery outbreaks in nearby',\n",
       "       'moderate rain', 'light rain shower', 'moderate rain at times',\n",
       "       'moderate or heavy rain shower', 'heavy rain at times',\n",
       "       'patchy light rain', 'patchy light drizzle',\n",
       "       'thundery outbreaks possible', 'patchy rain possible',\n",
       "       'moderate or heavy rain in area with thunder', 'heavy rain',\n",
       "       'torrential rain shower', 'freezing fog',\n",
       "       'moderate or heavy snow showers', 'light sleet', 'blizzard',\n",
       "       'moderate snow', 'light snow', 'light sleet showers',\n",
       "       'light freezing rain', 'heavy snow', 'blowing snow',\n",
       "       'patchy heavy snow', 'light snow showers',\n",
       "       'moderate or heavy sleet', 'patchy light snow'], dtype=object)"
      ]
     },
     "execution_count": 7,
     "metadata": {},
     "output_type": "execute_result"
    }
   ],
   "source": [
    "y = y.str.lower()\n",
    "\n",
    "y.unique()"
   ]
  },
  {
   "cell_type": "code",
   "execution_count": 8,
   "metadata": {},
   "outputs": [],
   "source": [
    "import requests\n",
    "\n",
    "response = requests.get(\"https://www.weatherapi.com/docs/weather_conditions.json\")\n",
    "\n",
    "label = pd.DataFrame(response.json())"
   ]
  },
  {
   "cell_type": "code",
   "execution_count": 9,
   "metadata": {},
   "outputs": [],
   "source": [
    "label_select_dict = {}\n",
    "\n",
    "for index, row in label.iterrows():\n",
    "    label_select_dict[row['night'].lower()] = row['code']\n",
    "    label_select_dict[row['day'].lower()] = row['code']\n",
    "\n",
    "y_encode = y.map(label_select_dict)"
   ]
  },
  {
   "cell_type": "code",
   "execution_count": 10,
   "metadata": {},
   "outputs": [],
   "source": [
    "weather_mapping = {\n",
    "    'Clear': [1000],\n",
    "    'Cloudy': [1003, 1006, 1009],\n",
    "    'Drizzle': [1150, 1153, 1168, 1171, 1180],\n",
    "    'Rain': [1063, 1183, 1186, 1189, 1192, 1195, 1240, 1243, 1246],\n",
    "    'Storm/Thunder': [1087, 1273, 1276, 1279, 1282],\n",
    "    'Snow': [1066, 1210, 1213, 1216, 1219, 1222, 1225, 1255, 1258],\n",
    "    'Sleet': [1069, 1072, 1204, 1207, 1249, 1252],\n",
    "    'Fog': [1030, 1135, 1147],\n",
    "    'Extreme Weather': [1114, 1117, 1237]\n",
    "}\n",
    "\n",
    "flat_mapping = {code: category for category, codes in weather_mapping.items() for code in codes}\n",
    "\n",
    "y_encode_transform = y_encode.map(flat_mapping)"
   ]
  },
  {
   "cell_type": "code",
   "execution_count": 11,
   "metadata": {},
   "outputs": [],
   "source": [
    "from sklearn.preprocessing import LabelEncoder\n",
    "\n",
    "encoder = LabelEncoder()\n",
    "y_encoded = encoder.fit_transform(y_encode_transform)"
   ]
  },
  {
   "cell_type": "code",
   "execution_count": 12,
   "metadata": {},
   "outputs": [
    {
     "data": {
      "text/plain": [
       "((33528, 8), (3726, 8), (33528,), (3726,))"
      ]
     },
     "execution_count": 12,
     "metadata": {},
     "output_type": "execute_result"
    }
   ],
   "source": [
    "from sklearn.model_selection import train_test_split\n",
    "\n",
    "x_train, x_test, y_train, y_test = train_test_split(X, y_encoded, test_size=.1, random_state=42)\n",
    "\n",
    "x_train.shape, x_test.shape, y_train.shape, y_test.shape"
   ]
  },
  {
   "cell_type": "code",
   "execution_count": 13,
   "metadata": {},
   "outputs": [],
   "source": [
    "# from sklearn.preprocessing import MinMaxScaler\n",
    "\n",
    "# scaler = MinMaxScaler()\n",
    "# x_train_scaled = scaler.fit_transform(x_train)\n",
    "# x_test_scaled = scaler.transform(x_test)"
   ]
  },
  {
   "cell_type": "code",
   "execution_count": 14,
   "metadata": {},
   "outputs": [],
   "source": [
    "from sklearn.preprocessing import StandardScaler\n",
    "\n",
    "scaler = StandardScaler()\n",
    "x_train_scaled = scaler.fit_transform(x_train)\n",
    "x_test_scaled = scaler.transform(x_test)"
   ]
  },
  {
   "cell_type": "code",
   "execution_count": 176,
   "metadata": {},
   "outputs": [],
   "source": [
    "model = tf.keras.Sequential([\n",
    "    tf.keras.layers.Input(shape=(x_train.shape[1],)),\n",
    "    tf.keras.layers.Dense(256, activation='relu', kernel_regularizer=tf.keras.regularizers.L2(0.01)),\n",
    "    tf.keras.layers.BatchNormalization(),\n",
    "    # tf.keras.layers.Dropout(0.2),\n",
    "    tf.keras.layers.Dense(128, activation='relu', kernel_regularizer=tf.keras.regularizers.L2(0.01)),\n",
    "    tf.keras.layers.BatchNormalization(),\n",
    "    # tf.keras.layers.Dropout(0.2),\n",
    "    tf.keras.layers.Dense(64, activation='relu'),\n",
    "    tf.keras.layers.BatchNormalization(),\n",
    "    tf.keras.layers.Dense(48, activation='relu'),\n",
    "    tf.keras.layers.BatchNormalization(),\n",
    "    tf.keras.layers.Dense(32, activation='relu'),\n",
    "    tf.keras.layers.BatchNormalization(),\n",
    "    tf.keras.layers.Dense(16, activation='relu'),\n",
    "    tf.keras.layers.BatchNormalization(),\n",
    "    tf.keras.layers.Dense(len(np.unique(y_encoded)), activation='softmax'),    \n",
    "])\n",
    "\n",
    "model.compile(optimizer=tf.keras.optimizers.Adam(learning_rate=0.001), loss='sparse_categorical_crossentropy', metrics=['accuracy'])"
   ]
  },
  {
   "cell_type": "code",
   "execution_count": 177,
   "metadata": {},
   "outputs": [
    {
     "name": "stdout",
     "output_type": "stream",
     "text": [
      "Model: \"sequential_23\"\n",
      "_________________________________________________________________\n",
      " Layer (type)                Output Shape              Param #   \n",
      "=================================================================\n",
      " dense_121 (Dense)           (None, 256)               2304      \n",
      "                                                                 \n",
      " batch_normalization_50 (Bat  (None, 256)              1024      \n",
      " chNormalization)                                                \n",
      "                                                                 \n",
      " dense_122 (Dense)           (None, 128)               32896     \n",
      "                                                                 \n",
      " batch_normalization_51 (Bat  (None, 128)              512       \n",
      " chNormalization)                                                \n",
      "                                                                 \n",
      " dense_123 (Dense)           (None, 64)                8256      \n",
      "                                                                 \n",
      " batch_normalization_52 (Bat  (None, 64)               256       \n",
      " chNormalization)                                                \n",
      "                                                                 \n",
      " dense_124 (Dense)           (None, 48)                3120      \n",
      "                                                                 \n",
      " batch_normalization_53 (Bat  (None, 48)               192       \n",
      " chNormalization)                                                \n",
      "                                                                 \n",
      " dense_125 (Dense)           (None, 32)                1568      \n",
      "                                                                 \n",
      " batch_normalization_54 (Bat  (None, 32)               128       \n",
      " chNormalization)                                                \n",
      "                                                                 \n",
      " dense_126 (Dense)           (None, 16)                528       \n",
      "                                                                 \n",
      " batch_normalization_55 (Bat  (None, 16)               64        \n",
      " chNormalization)                                                \n",
      "                                                                 \n",
      " dense_127 (Dense)           (None, 10)                170       \n",
      "                                                                 \n",
      "=================================================================\n",
      "Total params: 51,018\n",
      "Trainable params: 49,930\n",
      "Non-trainable params: 1,088\n",
      "_________________________________________________________________\n"
     ]
    }
   ],
   "source": [
    "model.summary()"
   ]
  },
  {
   "cell_type": "code",
   "execution_count": 178,
   "metadata": {},
   "outputs": [
    {
     "name": "stdout",
     "output_type": "stream",
     "text": [
      "Epoch 1/50\n",
      "1048/1048 [==============================] - 7s 3ms/step - loss: 1.5458 - accuracy: 0.7388 - val_loss: 0.7845 - val_accuracy: 0.7845\n",
      "Epoch 2/50\n",
      "1048/1048 [==============================] - 3s 3ms/step - loss: 0.7229 - accuracy: 0.7865 - val_loss: 0.6428 - val_accuracy: 0.8014\n",
      "Epoch 3/50\n",
      "1048/1048 [==============================] - 3s 3ms/step - loss: 0.6526 - accuracy: 0.7954 - val_loss: 0.6212 - val_accuracy: 0.7995\n",
      "Epoch 4/50\n",
      "1048/1048 [==============================] - 3s 3ms/step - loss: 0.6168 - accuracy: 0.8041 - val_loss: 0.6119 - val_accuracy: 0.8043\n",
      "Epoch 5/50\n",
      "1048/1048 [==============================] - 3s 3ms/step - loss: 0.6013 - accuracy: 0.8060 - val_loss: 0.6076 - val_accuracy: 0.8017\n",
      "Epoch 6/50\n",
      "1048/1048 [==============================] - 3s 3ms/step - loss: 0.5858 - accuracy: 0.8113 - val_loss: 0.5653 - val_accuracy: 0.8167\n",
      "Epoch 7/50\n",
      "1048/1048 [==============================] - 3s 3ms/step - loss: 0.5778 - accuracy: 0.8119 - val_loss: 0.5514 - val_accuracy: 0.8167\n",
      "Epoch 8/50\n",
      "1048/1048 [==============================] - 3s 3ms/step - loss: 0.5726 - accuracy: 0.8105 - val_loss: 0.5375 - val_accuracy: 0.8272\n",
      "Epoch 9/50\n",
      "1048/1048 [==============================] - 4s 4ms/step - loss: 0.5661 - accuracy: 0.8151 - val_loss: 0.5443 - val_accuracy: 0.8269\n",
      "Epoch 10/50\n",
      "1048/1048 [==============================] - 3s 3ms/step - loss: 0.5615 - accuracy: 0.8156 - val_loss: 0.5516 - val_accuracy: 0.8129\n",
      "Epoch 11/50\n",
      "1048/1048 [==============================] - 3s 3ms/step - loss: 0.5546 - accuracy: 0.8190 - val_loss: 0.5497 - val_accuracy: 0.8213\n",
      "Epoch 12/50\n",
      "1048/1048 [==============================] - 3s 3ms/step - loss: 0.5505 - accuracy: 0.8227 - val_loss: 0.5760 - val_accuracy: 0.8043\n",
      "Epoch 13/50\n",
      "1048/1048 [==============================] - 3s 3ms/step - loss: 0.5368 - accuracy: 0.8289 - val_loss: 0.5208 - val_accuracy: 0.8306\n",
      "Epoch 14/50\n",
      "1048/1048 [==============================] - 3s 3ms/step - loss: 0.5245 - accuracy: 0.8350 - val_loss: 0.5283 - val_accuracy: 0.8290\n",
      "Epoch 15/50\n",
      "1048/1048 [==============================] - 3s 3ms/step - loss: 0.5233 - accuracy: 0.8360 - val_loss: 0.5158 - val_accuracy: 0.8449\n",
      "Epoch 16/50\n",
      "1048/1048 [==============================] - 3s 3ms/step - loss: 0.5175 - accuracy: 0.8400 - val_loss: 0.5045 - val_accuracy: 0.8425\n",
      "Epoch 17/50\n",
      "1048/1048 [==============================] - 3s 3ms/step - loss: 0.5153 - accuracy: 0.8384 - val_loss: 0.5048 - val_accuracy: 0.8451\n",
      "Epoch 18/50\n",
      "1048/1048 [==============================] - 3s 3ms/step - loss: 0.5112 - accuracy: 0.8427 - val_loss: 0.5135 - val_accuracy: 0.8400\n",
      "Epoch 19/50\n",
      "1048/1048 [==============================] - 3s 3ms/step - loss: 0.5058 - accuracy: 0.8417 - val_loss: 0.5059 - val_accuracy: 0.8462\n",
      "Epoch 20/50\n",
      "1048/1048 [==============================] - 3s 3ms/step - loss: 0.5030 - accuracy: 0.8460 - val_loss: 0.5125 - val_accuracy: 0.8425\n",
      "Epoch 21/50\n",
      "1048/1048 [==============================] - 3s 3ms/step - loss: 0.5021 - accuracy: 0.8471 - val_loss: 0.5200 - val_accuracy: 0.8419\n",
      "Epoch 22/50\n",
      "1048/1048 [==============================] - 3s 3ms/step - loss: 0.4979 - accuracy: 0.8491 - val_loss: 0.5053 - val_accuracy: 0.8411\n",
      "Epoch 23/50\n",
      "1048/1048 [==============================] - 3s 3ms/step - loss: 0.4940 - accuracy: 0.8505 - val_loss: 0.5039 - val_accuracy: 0.8376\n",
      "Epoch 24/50\n",
      "1048/1048 [==============================] - 3s 3ms/step - loss: 0.4942 - accuracy: 0.8499 - val_loss: 0.5098 - val_accuracy: 0.8400\n",
      "Epoch 25/50\n",
      "1048/1048 [==============================] - 3s 3ms/step - loss: 0.4934 - accuracy: 0.8499 - val_loss: 0.5061 - val_accuracy: 0.8395\n",
      "Epoch 26/50\n",
      "1048/1048 [==============================] - 3s 3ms/step - loss: 0.4921 - accuracy: 0.8516 - val_loss: 0.4808 - val_accuracy: 0.8599\n",
      "Epoch 27/50\n",
      "1048/1048 [==============================] - 3s 3ms/step - loss: 0.4912 - accuracy: 0.8504 - val_loss: 0.5135 - val_accuracy: 0.8438\n",
      "Epoch 28/50\n",
      "1048/1048 [==============================] - 3s 3ms/step - loss: 0.4871 - accuracy: 0.8506 - val_loss: 0.4847 - val_accuracy: 0.8535\n",
      "Epoch 29/50\n",
      "1048/1048 [==============================] - 3s 3ms/step - loss: 0.4876 - accuracy: 0.8528 - val_loss: 0.5033 - val_accuracy: 0.8411\n",
      "Epoch 30/50\n",
      "1048/1048 [==============================] - 3s 3ms/step - loss: 0.4869 - accuracy: 0.8527 - val_loss: 0.4947 - val_accuracy: 0.8376\n",
      "Epoch 31/50\n",
      "1048/1048 [==============================] - 3s 3ms/step - loss: 0.4860 - accuracy: 0.8522 - val_loss: 0.4817 - val_accuracy: 0.8540\n",
      "Epoch 32/50\n",
      "1048/1048 [==============================] - 3s 3ms/step - loss: 0.4985 - accuracy: 0.8429 - val_loss: 0.4944 - val_accuracy: 0.8481\n",
      "Epoch 33/50\n",
      "1048/1048 [==============================] - 3s 3ms/step - loss: 0.4862 - accuracy: 0.8510 - val_loss: 0.5161 - val_accuracy: 0.8363\n",
      "Epoch 34/50\n",
      "1048/1048 [==============================] - 3s 3ms/step - loss: 0.4835 - accuracy: 0.8515 - val_loss: 0.4931 - val_accuracy: 0.8470\n",
      "Epoch 35/50\n",
      "1048/1048 [==============================] - 3s 3ms/step - loss: 0.4785 - accuracy: 0.8535 - val_loss: 0.4823 - val_accuracy: 0.8492\n",
      "Epoch 36/50\n",
      "1048/1048 [==============================] - 3s 3ms/step - loss: 0.4817 - accuracy: 0.8532 - val_loss: 0.4928 - val_accuracy: 0.8451\n",
      "Epoch 37/50\n",
      "1048/1048 [==============================] - 3s 3ms/step - loss: 0.4810 - accuracy: 0.8530 - val_loss: 0.4734 - val_accuracy: 0.8519\n",
      "Epoch 38/50\n",
      "1048/1048 [==============================] - 3s 3ms/step - loss: 0.4787 - accuracy: 0.8518 - val_loss: 0.5902 - val_accuracy: 0.8213\n",
      "Epoch 39/50\n",
      "1048/1048 [==============================] - 3s 3ms/step - loss: 0.4809 - accuracy: 0.8519 - val_loss: 0.4691 - val_accuracy: 0.8570\n",
      "Epoch 40/50\n",
      "1048/1048 [==============================] - 3s 3ms/step - loss: 0.4746 - accuracy: 0.8551 - val_loss: 0.4682 - val_accuracy: 0.8564\n",
      "Epoch 41/50\n",
      "1048/1048 [==============================] - 4s 3ms/step - loss: 0.4756 - accuracy: 0.8548 - val_loss: 0.4834 - val_accuracy: 0.8505\n",
      "Epoch 42/50\n",
      "1048/1048 [==============================] - 3s 3ms/step - loss: 0.4758 - accuracy: 0.8536 - val_loss: 0.4626 - val_accuracy: 0.8586\n",
      "Epoch 43/50\n",
      "1048/1048 [==============================] - 3s 3ms/step - loss: 0.4725 - accuracy: 0.8559 - val_loss: 0.4627 - val_accuracy: 0.8591\n",
      "Epoch 44/50\n",
      "1048/1048 [==============================] - 3s 3ms/step - loss: 0.4697 - accuracy: 0.8558 - val_loss: 0.4911 - val_accuracy: 0.8494\n",
      "Epoch 45/50\n",
      "1048/1048 [==============================] - 3s 3ms/step - loss: 0.4729 - accuracy: 0.8576 - val_loss: 0.4788 - val_accuracy: 0.8564\n",
      "Epoch 46/50\n",
      "1048/1048 [==============================] - 3s 3ms/step - loss: 0.4726 - accuracy: 0.8550 - val_loss: 0.4663 - val_accuracy: 0.8564\n",
      "Epoch 47/50\n",
      "1048/1048 [==============================] - 3s 3ms/step - loss: 0.4694 - accuracy: 0.8571 - val_loss: 0.4822 - val_accuracy: 0.8502\n",
      "Epoch 48/50\n",
      "1048/1048 [==============================] - 3s 3ms/step - loss: 0.4670 - accuracy: 0.8585 - val_loss: 0.4768 - val_accuracy: 0.8508\n",
      "Epoch 49/50\n",
      "1048/1048 [==============================] - 3s 3ms/step - loss: 0.4714 - accuracy: 0.8572 - val_loss: 0.4739 - val_accuracy: 0.8548\n",
      "Epoch 50/50\n",
      "1048/1048 [==============================] - 3s 3ms/step - loss: 0.4649 - accuracy: 0.8596 - val_loss: 0.4613 - val_accuracy: 0.8602\n"
     ]
    }
   ],
   "source": [
    "history = model.fit(x_train_scaled, y_train, batch_size=32, epochs=50, validation_data=(x_test_scaled, y_test), verbose=1)"
   ]
  },
  {
   "cell_type": "code",
   "execution_count": 179,
   "metadata": {},
   "outputs": [
    {
     "data": {
      "image/png": "[encoded data removed]",
      "text/plain": [
       "<Figure size 640x480 with 1 Axes>"
      ]
     },
     "metadata": {},
     "output_type": "display_data"
    }
   ],
   "source": [
    "plt.plot(history.history['loss'], color='g', label='Training Loss')\n",
    "plt.plot(history.history['val_loss'], color='b', label='Validation Loss')\n",
    "plt.title(\"Loss vs Val Loss\")\n",
    "plt.legend()\n",
    "plt.show()"
   ]
  },
  {
   "cell_type": "code",
   "execution_count": 180,
   "metadata": {},
   "outputs": [
    {
     "data": {
      "image/png": "[encoded data removed]",
      "text/plain": [
       "<Figure size 640x480 with 1 Axes>"
      ]
     },
     "metadata": {},
     "output_type": "display_data"
    }
   ],
   "source": [
    "plt.plot(history.history['accuracy'], color='g', label='Training Accuracy')\n",
    "plt.plot(history.history['val_accuracy'], color='b', label='Validation Accuracy')\n",
    "plt.title(\"Accuracy vs Val Accuracy\")\n",
    "plt.legend()\n",
    "plt.show()"
   ]
  },
  {
   "cell_type": "code",
   "execution_count": 181,
   "metadata": {},
   "outputs": [
    {
     "name": "stdout",
     "output_type": "stream",
     "text": [
      "117/117 [==============================] - 0s 1ms/step\n",
      "              precision    recall  f1-score   support\n",
      "\n",
      "           0       0.98      0.99      0.99      1342\n",
      "           1       0.82      0.94      0.88      1565\n",
      "           2       0.00      0.00      0.00        40\n",
      "           3       0.00      0.00      0.00         1\n",
      "           4       0.76      0.38      0.51       115\n",
      "           5       0.60      0.47      0.53       285\n",
      "           7       0.67      0.40      0.50         5\n",
      "           8       0.00      0.00      0.00        59\n",
      "           9       0.76      0.70      0.73       314\n",
      "\n",
      "    accuracy                           0.86      3726\n",
      "   macro avg       0.51      0.43      0.46      3726\n",
      "weighted avg       0.83      0.86      0.84      3726\n",
      "\n"
     ]
    },
    {
     "name": "stderr",
     "output_type": "stream",
     "text": [
      "c:\\Users\\nurka\\.conda\\envs\\Tensor\\lib\\site-packages\\sklearn\\metrics\\_classification.py:1318: UndefinedMetricWarning: Precision and F-score are ill-defined and being set to 0.0 in labels with no predicted samples. Use `zero_division` parameter to control this behavior.\n",
      "  _warn_prf(average, modifier, msg_start, len(result))\n",
      "c:\\Users\\nurka\\.conda\\envs\\Tensor\\lib\\site-packages\\sklearn\\metrics\\_classification.py:1318: UndefinedMetricWarning: Precision and F-score are ill-defined and being set to 0.0 in labels with no predicted samples. Use `zero_division` parameter to control this behavior.\n",
      "  _warn_prf(average, modifier, msg_start, len(result))\n",
      "c:\\Users\\nurka\\.conda\\envs\\Tensor\\lib\\site-packages\\sklearn\\metrics\\_classification.py:1318: UndefinedMetricWarning: Precision and F-score are ill-defined and being set to 0.0 in labels with no predicted samples. Use `zero_division` parameter to control this behavior.\n",
      "  _warn_prf(average, modifier, msg_start, len(result))\n"
     ]
    }
   ],
   "source": [
    "from sklearn.metrics import classification_report\n",
    "\n",
    "y_pred = np.argmax(model.predict(x_test_scaled), axis=1)\n",
    "print(classification_report(y_test, y_pred))"
   ]
  },
  {
   "cell_type": "code",
   "execution_count": 182,
   "metadata": {},
   "outputs": [],
   "source": [
    "# model.save('classification.h5')"
   ]
  }
 ],
 "metadata": {
  "kernelspec": {
   "display_name": "Tensor",
   "language": "python",
   "name": "python3"
  },
  "language_info": {
   "codemirror_mode": {
    "name": "ipython",
    "version": 3
   },
   "file_extension": ".py",
   "mimetype": "text/x-python",
   "name": "python",
   "nbconvert_exporter": "python",
   "pygments_lexer": "ipython3",
   "version": "3.7.16"
  }
 },
 "nbformat": 4,
 "nbformat_minor": 2
}
