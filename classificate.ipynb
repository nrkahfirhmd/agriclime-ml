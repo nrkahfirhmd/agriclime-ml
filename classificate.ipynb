{
 "cells": [
  {
   "cell_type": "code",
   "execution_count": 109,
   "metadata": {},
   "outputs": [],
   "source": [
    "import pandas as pd\n",
    "import numpy as np\n",
    "import matplotlib.pyplot as plt\n",
    "import tensorflow as tf"
   ]
  },
  {
   "cell_type": "code",
   "execution_count": 110,
   "metadata": {},
   "outputs": [
    {
     "name": "stdout",
     "output_type": "stream",
     "text": [
      "Warning: Looks like you're using an outdated `kagglehub` version, please consider updating (latest version: 0.3.4)\n",
      "Dataset downloaded to: C:\\Users\\nurka\\.cache\\kagglehub\\datasets\\nelgiriyewithana\\global-weather-repository\\versions\\416\n"
     ]
    }
   ],
   "source": [
    "import kagglehub\n",
    "\n",
    "# Download latest version\n",
    "path = kagglehub.dataset_download(\"nelgiriyewithana/global-weather-repository\")\n",
    "\n",
    "print(\"Dataset downloaded to:\", path)"
   ]
  },
  {
   "cell_type": "code",
   "execution_count": 111,
   "metadata": {},
   "outputs": [
    {
     "data": {
      "text/html": [
       "<div>\n",
       "<style scoped>\n",
       "    .dataframe tbody tr th:only-of-type {\n",
       "        vertical-align: middle;\n",
       "    }\n",
       "\n",
       "    .dataframe tbody tr th {\n",
       "        vertical-align: top;\n",
       "    }\n",
       "\n",
       "    .dataframe thead th {\n",
       "        text-align: right;\n",
       "    }\n",
       "</style>\n",
       "<table border=\"1\" class=\"dataframe\">\n",
       "  <thead>\n",
       "    <tr style=\"text-align: right;\">\n",
       "      <th></th>\n",
       "      <th>country</th>\n",
       "      <th>location_name</th>\n",
       "      <th>latitude</th>\n",
       "      <th>longitude</th>\n",
       "      <th>timezone</th>\n",
       "      <th>last_updated_epoch</th>\n",
       "      <th>last_updated</th>\n",
       "      <th>temperature_celsius</th>\n",
       "      <th>temperature_fahrenheit</th>\n",
       "      <th>condition_text</th>\n",
       "      <th>...</th>\n",
       "      <th>air_quality_PM2.5</th>\n",
       "      <th>air_quality_PM10</th>\n",
       "      <th>air_quality_us-epa-index</th>\n",
       "      <th>air_quality_gb-defra-index</th>\n",
       "      <th>sunrise</th>\n",
       "      <th>sunset</th>\n",
       "      <th>moonrise</th>\n",
       "      <th>moonset</th>\n",
       "      <th>moon_phase</th>\n",
       "      <th>moon_illumination</th>\n",
       "    </tr>\n",
       "  </thead>\n",
       "  <tbody>\n",
       "    <tr>\n",
       "      <th>0</th>\n",
       "      <td>Afghanistan</td>\n",
       "      <td>Kabul</td>\n",
       "      <td>34.52</td>\n",
       "      <td>69.18</td>\n",
       "      <td>Asia/Kabul</td>\n",
       "      <td>1715849100</td>\n",
       "      <td>2024-05-16 13:15</td>\n",
       "      <td>26.6</td>\n",
       "      <td>79.8</td>\n",
       "      <td>Partly Cloudy</td>\n",
       "      <td>...</td>\n",
       "      <td>8.4</td>\n",
       "      <td>26.6</td>\n",
       "      <td>1</td>\n",
       "      <td>1</td>\n",
       "      <td>04:50 AM</td>\n",
       "      <td>06:50 PM</td>\n",
       "      <td>12:12 PM</td>\n",
       "      <td>01:11 AM</td>\n",
       "      <td>Waxing Gibbous</td>\n",
       "      <td>55</td>\n",
       "    </tr>\n",
       "    <tr>\n",
       "      <th>1</th>\n",
       "      <td>Albania</td>\n",
       "      <td>Tirana</td>\n",
       "      <td>41.33</td>\n",
       "      <td>19.82</td>\n",
       "      <td>Europe/Tirane</td>\n",
       "      <td>1715849100</td>\n",
       "      <td>2024-05-16 10:45</td>\n",
       "      <td>19.0</td>\n",
       "      <td>66.2</td>\n",
       "      <td>Partly cloudy</td>\n",
       "      <td>...</td>\n",
       "      <td>1.1</td>\n",
       "      <td>2.0</td>\n",
       "      <td>1</td>\n",
       "      <td>1</td>\n",
       "      <td>05:21 AM</td>\n",
       "      <td>07:54 PM</td>\n",
       "      <td>12:58 PM</td>\n",
       "      <td>02:14 AM</td>\n",
       "      <td>Waxing Gibbous</td>\n",
       "      <td>55</td>\n",
       "    </tr>\n",
       "    <tr>\n",
       "      <th>2</th>\n",
       "      <td>Algeria</td>\n",
       "      <td>Algiers</td>\n",
       "      <td>36.76</td>\n",
       "      <td>3.05</td>\n",
       "      <td>Africa/Algiers</td>\n",
       "      <td>1715849100</td>\n",
       "      <td>2024-05-16 09:45</td>\n",
       "      <td>23.0</td>\n",
       "      <td>73.4</td>\n",
       "      <td>Sunny</td>\n",
       "      <td>...</td>\n",
       "      <td>10.4</td>\n",
       "      <td>18.4</td>\n",
       "      <td>1</td>\n",
       "      <td>1</td>\n",
       "      <td>05:40 AM</td>\n",
       "      <td>07:50 PM</td>\n",
       "      <td>01:15 PM</td>\n",
       "      <td>02:14 AM</td>\n",
       "      <td>Waxing Gibbous</td>\n",
       "      <td>55</td>\n",
       "    </tr>\n",
       "    <tr>\n",
       "      <th>3</th>\n",
       "      <td>Andorra</td>\n",
       "      <td>Andorra La Vella</td>\n",
       "      <td>42.50</td>\n",
       "      <td>1.52</td>\n",
       "      <td>Europe/Andorra</td>\n",
       "      <td>1715849100</td>\n",
       "      <td>2024-05-16 10:45</td>\n",
       "      <td>6.3</td>\n",
       "      <td>43.3</td>\n",
       "      <td>Light drizzle</td>\n",
       "      <td>...</td>\n",
       "      <td>0.7</td>\n",
       "      <td>0.9</td>\n",
       "      <td>1</td>\n",
       "      <td>1</td>\n",
       "      <td>06:31 AM</td>\n",
       "      <td>09:11 PM</td>\n",
       "      <td>02:12 PM</td>\n",
       "      <td>03:31 AM</td>\n",
       "      <td>Waxing Gibbous</td>\n",
       "      <td>55</td>\n",
       "    </tr>\n",
       "    <tr>\n",
       "      <th>4</th>\n",
       "      <td>Angola</td>\n",
       "      <td>Luanda</td>\n",
       "      <td>-8.84</td>\n",
       "      <td>13.23</td>\n",
       "      <td>Africa/Luanda</td>\n",
       "      <td>1715849100</td>\n",
       "      <td>2024-05-16 09:45</td>\n",
       "      <td>26.0</td>\n",
       "      <td>78.8</td>\n",
       "      <td>Partly cloudy</td>\n",
       "      <td>...</td>\n",
       "      <td>183.4</td>\n",
       "      <td>262.3</td>\n",
       "      <td>5</td>\n",
       "      <td>10</td>\n",
       "      <td>06:12 AM</td>\n",
       "      <td>05:55 PM</td>\n",
       "      <td>01:17 PM</td>\n",
       "      <td>12:38 AM</td>\n",
       "      <td>Waxing Gibbous</td>\n",
       "      <td>55</td>\n",
       "    </tr>\n",
       "  </tbody>\n",
       "</table>\n",
       "<p>5 rows × 41 columns</p>\n",
       "</div>"
      ],
      "text/plain": [
       "       country     location_name  latitude  longitude        timezone  \\\n",
       "0  Afghanistan             Kabul     34.52      69.18      Asia/Kabul   \n",
       "1      Albania            Tirana     41.33      19.82   Europe/Tirane   \n",
       "2      Algeria           Algiers     36.76       3.05  Africa/Algiers   \n",
       "3      Andorra  Andorra La Vella     42.50       1.52  Europe/Andorra   \n",
       "4       Angola            Luanda     -8.84      13.23   Africa/Luanda   \n",
       "\n",
       "   last_updated_epoch      last_updated  temperature_celsius  \\\n",
       "0          1715849100  2024-05-16 13:15                 26.6   \n",
       "1          1715849100  2024-05-16 10:45                 19.0   \n",
       "2          1715849100  2024-05-16 09:45                 23.0   \n",
       "3          1715849100  2024-05-16 10:45                  6.3   \n",
       "4          1715849100  2024-05-16 09:45                 26.0   \n",
       "\n",
       "   temperature_fahrenheit condition_text  ...  air_quality_PM2.5  \\\n",
       "0                    79.8  Partly Cloudy  ...                8.4   \n",
       "1                    66.2  Partly cloudy  ...                1.1   \n",
       "2                    73.4          Sunny  ...               10.4   \n",
       "3                    43.3  Light drizzle  ...                0.7   \n",
       "4                    78.8  Partly cloudy  ...              183.4   \n",
       "\n",
       "   air_quality_PM10  air_quality_us-epa-index air_quality_gb-defra-index  \\\n",
       "0              26.6                         1                          1   \n",
       "1               2.0                         1                          1   \n",
       "2              18.4                         1                          1   \n",
       "3               0.9                         1                          1   \n",
       "4             262.3                         5                         10   \n",
       "\n",
       "    sunrise    sunset  moonrise   moonset      moon_phase  moon_illumination  \n",
       "0  04:50 AM  06:50 PM  12:12 PM  01:11 AM  Waxing Gibbous                 55  \n",
       "1  05:21 AM  07:54 PM  12:58 PM  02:14 AM  Waxing Gibbous                 55  \n",
       "2  05:40 AM  07:50 PM  01:15 PM  02:14 AM  Waxing Gibbous                 55  \n",
       "3  06:31 AM  09:11 PM  02:12 PM  03:31 AM  Waxing Gibbous                 55  \n",
       "4  06:12 AM  05:55 PM  01:17 PM  12:38 AM  Waxing Gibbous                 55  \n",
       "\n",
       "[5 rows x 41 columns]"
      ]
     },
     "execution_count": 111,
     "metadata": {},
     "output_type": "execute_result"
    }
   ],
   "source": [
    "df = pd.read_csv(path + '/GlobalWeatherRepository.csv')\n",
    "\n",
    "df.head(5)"
   ]
  },
  {
   "cell_type": "code",
   "execution_count": 112,
   "metadata": {},
   "outputs": [
    {
     "name": "stdout",
     "output_type": "stream",
     "text": [
      "Index(['country', 'location_name', 'latitude', 'longitude', 'timezone',\n",
      "       'last_updated_epoch', 'last_updated', 'temperature_celsius',\n",
      "       'temperature_fahrenheit', 'condition_text', 'wind_mph', 'wind_kph',\n",
      "       'wind_degree', 'wind_direction', 'pressure_mb', 'pressure_in',\n",
      "       'precip_mm', 'precip_in', 'humidity', 'cloud', 'feels_like_celsius',\n",
      "       'feels_like_fahrenheit', 'visibility_km', 'visibility_miles',\n",
      "       'uv_index', 'gust_mph', 'gust_kph', 'air_quality_Carbon_Monoxide',\n",
      "       'air_quality_Ozone', 'air_quality_Nitrogen_dioxide',\n",
      "       'air_quality_Sulphur_dioxide', 'air_quality_PM2.5', 'air_quality_PM10',\n",
      "       'air_quality_us-epa-index', 'air_quality_gb-defra-index', 'sunrise',\n",
      "       'sunset', 'moonrise', 'moonset', 'moon_phase', 'moon_illumination'],\n",
      "      dtype='object')\n"
     ]
    }
   ],
   "source": [
    "print(df.columns)"
   ]
  },
  {
   "cell_type": "code",
   "execution_count": 113,
   "metadata": {},
   "outputs": [
    {
     "data": {
      "text/html": [
       "<div>\n",
       "<style scoped>\n",
       "    .dataframe tbody tr th:only-of-type {\n",
       "        vertical-align: middle;\n",
       "    }\n",
       "\n",
       "    .dataframe tbody tr th {\n",
       "        vertical-align: top;\n",
       "    }\n",
       "\n",
       "    .dataframe thead th {\n",
       "        text-align: right;\n",
       "    }\n",
       "</style>\n",
       "<table border=\"1\" class=\"dataframe\">\n",
       "  <thead>\n",
       "    <tr style=\"text-align: right;\">\n",
       "      <th></th>\n",
       "      <th>temperature_celsius</th>\n",
       "      <th>condition_text</th>\n",
       "      <th>wind_kph</th>\n",
       "      <th>wind_degree</th>\n",
       "      <th>pressure_in</th>\n",
       "      <th>precip_in</th>\n",
       "      <th>humidity</th>\n",
       "      <th>cloud</th>\n",
       "      <th>uv_index</th>\n",
       "    </tr>\n",
       "  </thead>\n",
       "  <tbody>\n",
       "    <tr>\n",
       "      <th>0</th>\n",
       "      <td>26.6</td>\n",
       "      <td>Partly Cloudy</td>\n",
       "      <td>13.3</td>\n",
       "      <td>338</td>\n",
       "      <td>29.89</td>\n",
       "      <td>0.00</td>\n",
       "      <td>24</td>\n",
       "      <td>30</td>\n",
       "      <td>7.0</td>\n",
       "    </tr>\n",
       "    <tr>\n",
       "      <th>1</th>\n",
       "      <td>19.0</td>\n",
       "      <td>Partly cloudy</td>\n",
       "      <td>11.2</td>\n",
       "      <td>320</td>\n",
       "      <td>29.88</td>\n",
       "      <td>0.00</td>\n",
       "      <td>94</td>\n",
       "      <td>75</td>\n",
       "      <td>5.0</td>\n",
       "    </tr>\n",
       "    <tr>\n",
       "      <th>2</th>\n",
       "      <td>23.0</td>\n",
       "      <td>Sunny</td>\n",
       "      <td>15.1</td>\n",
       "      <td>280</td>\n",
       "      <td>29.85</td>\n",
       "      <td>0.00</td>\n",
       "      <td>29</td>\n",
       "      <td>0</td>\n",
       "      <td>5.0</td>\n",
       "    </tr>\n",
       "    <tr>\n",
       "      <th>3</th>\n",
       "      <td>6.3</td>\n",
       "      <td>Light drizzle</td>\n",
       "      <td>11.9</td>\n",
       "      <td>215</td>\n",
       "      <td>29.75</td>\n",
       "      <td>0.01</td>\n",
       "      <td>61</td>\n",
       "      <td>100</td>\n",
       "      <td>2.0</td>\n",
       "    </tr>\n",
       "    <tr>\n",
       "      <th>4</th>\n",
       "      <td>26.0</td>\n",
       "      <td>Partly cloudy</td>\n",
       "      <td>13.0</td>\n",
       "      <td>150</td>\n",
       "      <td>29.85</td>\n",
       "      <td>0.00</td>\n",
       "      <td>89</td>\n",
       "      <td>50</td>\n",
       "      <td>8.0</td>\n",
       "    </tr>\n",
       "  </tbody>\n",
       "</table>\n",
       "</div>"
      ],
      "text/plain": [
       "   temperature_celsius condition_text  wind_kph  wind_degree  pressure_in  \\\n",
       "0                 26.6  Partly Cloudy      13.3          338        29.89   \n",
       "1                 19.0  Partly cloudy      11.2          320        29.88   \n",
       "2                 23.0          Sunny      15.1          280        29.85   \n",
       "3                  6.3  Light drizzle      11.9          215        29.75   \n",
       "4                 26.0  Partly cloudy      13.0          150        29.85   \n",
       "\n",
       "   precip_in  humidity  cloud  uv_index  \n",
       "0       0.00        24     30       7.0  \n",
       "1       0.00        94     75       5.0  \n",
       "2       0.00        29      0       5.0  \n",
       "3       0.01        61    100       2.0  \n",
       "4       0.00        89     50       8.0  "
      ]
     },
     "execution_count": 113,
     "metadata": {},
     "output_type": "execute_result"
    }
   ],
   "source": [
    "selected = ['temperature_celsius', 'condition_text', 'wind_kph', 'wind_degree', 'pressure_in', 'precip_in', 'humidity', 'cloud', 'uv_index']\n",
    "\n",
    "training = df[selected]\n",
    "\n",
    "training.head(5)"
   ]
  },
  {
   "cell_type": "code",
   "execution_count": 114,
   "metadata": {},
   "outputs": [],
   "source": [
    "x_feat = [col for col in training.columns if col != 'condition_text']\n",
    "\n",
    "X = training[x_feat]\n",
    "y = training['condition_text']"
   ]
  },
  {
   "cell_type": "code",
   "execution_count": 115,
   "metadata": {},
   "outputs": [
    {
     "data": {
      "text/plain": [
       "array(['partly cloudy', 'sunny', 'light drizzle', 'clear', 'overcast',\n",
       "       'moderate or heavy rain with thunder',\n",
       "       'patchy light rain in area with thunder', 'fog',\n",
       "       'patchy light rain with thunder', 'patchy rain nearby',\n",
       "       'light rain', 'mist', 'cloudy', 'thundery outbreaks in nearby',\n",
       "       'moderate rain', 'light rain shower', 'moderate rain at times',\n",
       "       'moderate or heavy rain shower', 'heavy rain at times',\n",
       "       'patchy light rain', 'patchy light drizzle',\n",
       "       'thundery outbreaks possible', 'patchy rain possible',\n",
       "       'moderate or heavy rain in area with thunder', 'heavy rain',\n",
       "       'torrential rain shower', 'freezing fog',\n",
       "       'moderate or heavy snow showers', 'light sleet', 'blizzard',\n",
       "       'moderate snow', 'light snow', 'light sleet showers',\n",
       "       'light freezing rain', 'heavy snow', 'blowing snow',\n",
       "       'patchy heavy snow', 'light snow showers',\n",
       "       'moderate or heavy sleet', 'patchy light snow'], dtype=object)"
      ]
     },
     "execution_count": 115,
     "metadata": {},
     "output_type": "execute_result"
    }
   ],
   "source": [
    "y = y.str.lower()\n",
    "\n",
    "y.unique()"
   ]
  },
  {
   "cell_type": "code",
   "execution_count": 116,
   "metadata": {},
   "outputs": [],
   "source": [
    "import requests\n",
    "\n",
    "response = requests.get(\"https://www.weatherapi.com/docs/weather_conditions.json\")\n",
    "\n",
    "label = pd.DataFrame(response.json())"
   ]
  },
  {
   "cell_type": "code",
   "execution_count": 117,
   "metadata": {},
   "outputs": [],
   "source": [
    "label_select_dict = {}\n",
    "\n",
    "for index, row in label.iterrows():\n",
    "    label_select_dict[row['night'].lower()] = row['code']\n",
    "    label_select_dict[row['day'].lower()] = row['code']\n",
    "\n",
    "y_encode = y.map(label_select_dict)"
   ]
  },
  {
   "cell_type": "code",
   "execution_count": 118,
   "metadata": {},
   "outputs": [],
   "source": [
    "weather_mapping = {\n",
    "    'Clear': [1000],\n",
    "    'Cloudy': [1003, 1006, 1009],\n",
    "    'Drizzle': [1150, 1153, 1168, 1171, 1180],\n",
    "    'Rain': [1063, 1183, 1186, 1189, 1192, 1195, 1240, 1243, 1246],\n",
    "    'Storm/Thunder': [1087, 1273, 1276, 1279, 1282],\n",
    "    'Snow': [1066, 1210, 1213, 1216, 1219, 1222, 1225, 1255, 1258],\n",
    "    'Sleet': [1069, 1072, 1204, 1207, 1249, 1252],\n",
    "    'Fog': [1030, 1135, 1147],\n",
    "    'Extreme Weather': [1114, 1117, 1237]\n",
    "}\n",
    "\n",
    "flat_mapping = {code: category for category, codes in weather_mapping.items() for code in codes}\n",
    "\n",
    "y_encode_transform = y_encode.map(flat_mapping)"
   ]
  },
  {
   "cell_type": "code",
   "execution_count": 119,
   "metadata": {},
   "outputs": [],
   "source": [
    "from sklearn.preprocessing import LabelEncoder\n",
    "\n",
    "encoder = LabelEncoder()\n",
    "y_encoded = encoder.fit_transform(y_encode_transform)"
   ]
  },
  {
   "cell_type": "code",
   "execution_count": 120,
   "metadata": {},
   "outputs": [
    {
     "data": {
      "text/plain": [
       "((33177, 8), (3687, 8), (33177,), (3687,))"
      ]
     },
     "execution_count": 120,
     "metadata": {},
     "output_type": "execute_result"
    }
   ],
   "source": [
    "from sklearn.model_selection import train_test_split\n",
    "\n",
    "x_train, x_test, y_train, y_test = train_test_split(X, y_encoded, test_size=.1, random_state=42)\n",
    "\n",
    "x_train.shape, x_test.shape, y_train.shape, y_test.shape"
   ]
  },
  {
   "cell_type": "code",
   "execution_count": 121,
   "metadata": {},
   "outputs": [],
   "source": [
    "# from sklearn.preprocessing import MinMaxScaler\n",
    "\n",
    "# scaler = MinMaxScaler()\n",
    "# x_train_scaled = scaler.fit_transform(x_train)\n",
    "# x_test_scaled = scaler.transform(x_test)"
   ]
  },
  {
   "cell_type": "code",
   "execution_count": 122,
   "metadata": {},
   "outputs": [],
   "source": [
    "from sklearn.preprocessing import StandardScaler\n",
    "\n",
    "scaler = StandardScaler()\n",
    "x_train_scaled = scaler.fit_transform(x_train)\n",
    "x_test_scaled = scaler.transform(x_test)"
   ]
  },
  {
   "cell_type": "code",
   "execution_count": 123,
   "metadata": {},
   "outputs": [],
   "source": [
    "model = tf.keras.Sequential([\n",
    "    tf.keras.layers.Dense(256, activation='relu', input_shape=(x_train.shape[1],)),\n",
    "    tf.keras.layers.Dropout(0.2),\n",
    "    tf.keras.layers.Dense(128, activation='relu'),\n",
    "    tf.keras.layers.Dropout(0.2),\n",
    "    tf.keras.layers.Dense(64, activation='relu'),\n",
    "    tf.keras.layers.Dense(32, activation='relu'),\n",
    "    tf.keras.layers.Dense(len(np.unique(y_encoded)), activation='softmax'),    \n",
    "])\n",
    "\n",
    "model.compile(optimizer='adam', loss='sparse_categorical_crossentropy', metrics=['accuracy'])"
   ]
  },
  {
   "cell_type": "code",
   "execution_count": 124,
   "metadata": {},
   "outputs": [
    {
     "name": "stdout",
     "output_type": "stream",
     "text": [
      "Model: \"sequential_9\"\n",
      "_________________________________________________________________\n",
      " Layer (type)                Output Shape              Param #   \n",
      "=================================================================\n",
      " dense_45 (Dense)            (None, 256)               2304      \n",
      "                                                                 \n",
      " dropout_14 (Dropout)        (None, 256)               0         \n",
      "                                                                 \n",
      " dense_46 (Dense)            (None, 128)               32896     \n",
      "                                                                 \n",
      " dropout_15 (Dropout)        (None, 128)               0         \n",
      "                                                                 \n",
      " dense_47 (Dense)            (None, 64)                8256      \n",
      "                                                                 \n",
      " dense_48 (Dense)            (None, 32)                2080      \n",
      "                                                                 \n",
      " dense_49 (Dense)            (None, 10)                330       \n",
      "                                                                 \n",
      "=================================================================\n",
      "Total params: 45,866\n",
      "Trainable params: 45,866\n",
      "Non-trainable params: 0\n",
      "_________________________________________________________________\n"
     ]
    }
   ],
   "source": [
    "model.summary()"
   ]
  },
  {
   "cell_type": "code",
   "execution_count": 125,
   "metadata": {},
   "outputs": [
    {
     "name": "stdout",
     "output_type": "stream",
     "text": [
      "Epoch 1/50\n"
     ]
    },
    {
     "name": "stdout",
     "output_type": "stream",
     "text": [
      "1037/1037 [==============================] - 6s 4ms/step - loss: 0.7064 - accuracy: 0.7632 - val_loss: 0.5583 - val_accuracy: 0.7969\n",
      "Epoch 2/50\n",
      "1037/1037 [==============================] - 4s 3ms/step - loss: 0.5853 - accuracy: 0.7968 - val_loss: 0.5335 - val_accuracy: 0.8050\n",
      "Epoch 3/50\n",
      "1037/1037 [==============================] - 4s 4ms/step - loss: 0.5583 - accuracy: 0.8053 - val_loss: 0.5187 - val_accuracy: 0.8093\n",
      "Epoch 4/50\n",
      "1037/1037 [==============================] - 2s 2ms/step - loss: 0.5371 - accuracy: 0.8106 - val_loss: 0.5090 - val_accuracy: 0.8177\n",
      "Epoch 5/50\n",
      "1037/1037 [==============================] - 2s 2ms/step - loss: 0.5193 - accuracy: 0.8174 - val_loss: 0.4849 - val_accuracy: 0.8294\n",
      "Epoch 6/50\n",
      "1037/1037 [==============================] - 2s 2ms/step - loss: 0.5117 - accuracy: 0.8194 - val_loss: 0.4802 - val_accuracy: 0.8215\n",
      "Epoch 7/50\n",
      "1037/1037 [==============================] - 2s 2ms/step - loss: 0.5038 - accuracy: 0.8227 - val_loss: 0.4793 - val_accuracy: 0.8291\n",
      "Epoch 8/50\n",
      "1037/1037 [==============================] - 2s 2ms/step - loss: 0.4951 - accuracy: 0.8271 - val_loss: 0.4641 - val_accuracy: 0.8394\n",
      "Epoch 9/50\n",
      "1037/1037 [==============================] - 2s 2ms/step - loss: 0.4891 - accuracy: 0.8292 - val_loss: 0.4642 - val_accuracy: 0.8354\n",
      "Epoch 10/50\n",
      "1037/1037 [==============================] - 2s 2ms/step - loss: 0.4849 - accuracy: 0.8307 - val_loss: 0.4730 - val_accuracy: 0.8337\n",
      "Epoch 11/50\n",
      "1037/1037 [==============================] - 2s 2ms/step - loss: 0.4774 - accuracy: 0.8342 - val_loss: 0.4584 - val_accuracy: 0.8394\n",
      "Epoch 12/50\n",
      "1037/1037 [==============================] - 2s 2ms/step - loss: 0.4742 - accuracy: 0.8357 - val_loss: 0.4580 - val_accuracy: 0.8394\n",
      "Epoch 13/50\n",
      "1037/1037 [==============================] - 2s 2ms/step - loss: 0.4678 - accuracy: 0.8360 - val_loss: 0.4573 - val_accuracy: 0.8367\n",
      "Epoch 14/50\n",
      "1037/1037 [==============================] - 2s 2ms/step - loss: 0.4685 - accuracy: 0.8371 - val_loss: 0.4508 - val_accuracy: 0.8446\n",
      "Epoch 15/50\n",
      "1037/1037 [==============================] - 3s 2ms/step - loss: 0.4625 - accuracy: 0.8385 - val_loss: 0.4573 - val_accuracy: 0.8381\n",
      "Epoch 16/50\n",
      "1037/1037 [==============================] - 2s 2ms/step - loss: 0.4566 - accuracy: 0.8412 - val_loss: 0.4498 - val_accuracy: 0.8430\n",
      "Epoch 17/50\n",
      "1037/1037 [==============================] - 2s 2ms/step - loss: 0.4567 - accuracy: 0.8416 - val_loss: 0.4565 - val_accuracy: 0.8473\n",
      "Epoch 18/50\n",
      "1037/1037 [==============================] - 2s 2ms/step - loss: 0.4509 - accuracy: 0.8437 - val_loss: 0.4485 - val_accuracy: 0.8462\n",
      "Epoch 19/50\n",
      "1037/1037 [==============================] - 2s 2ms/step - loss: 0.4494 - accuracy: 0.8442 - val_loss: 0.4470 - val_accuracy: 0.8473\n",
      "Epoch 20/50\n",
      "1037/1037 [==============================] - 2s 2ms/step - loss: 0.4465 - accuracy: 0.8462 - val_loss: 0.4422 - val_accuracy: 0.8503\n",
      "Epoch 21/50\n",
      "1037/1037 [==============================] - 2s 2ms/step - loss: 0.4477 - accuracy: 0.8453 - val_loss: 0.4475 - val_accuracy: 0.8489\n",
      "Epoch 22/50\n",
      "1037/1037 [==============================] - 2s 2ms/step - loss: 0.4434 - accuracy: 0.8454 - val_loss: 0.4407 - val_accuracy: 0.8481\n",
      "Epoch 23/50\n",
      "1037/1037 [==============================] - 2s 2ms/step - loss: 0.4414 - accuracy: 0.8501 - val_loss: 0.4381 - val_accuracy: 0.8459\n",
      "Epoch 24/50\n",
      "1037/1037 [==============================] - 2s 2ms/step - loss: 0.4349 - accuracy: 0.8505 - val_loss: 0.4443 - val_accuracy: 0.8544\n",
      "Epoch 25/50\n",
      "1037/1037 [==============================] - 3s 2ms/step - loss: 0.4329 - accuracy: 0.8516 - val_loss: 0.4382 - val_accuracy: 0.8535\n",
      "Epoch 26/50\n",
      "1037/1037 [==============================] - 3s 3ms/step - loss: 0.4306 - accuracy: 0.8538 - val_loss: 0.4296 - val_accuracy: 0.8600\n",
      "Epoch 27/50\n",
      "1037/1037 [==============================] - 3s 3ms/step - loss: 0.4253 - accuracy: 0.8544 - val_loss: 0.4324 - val_accuracy: 0.8617\n",
      "Epoch 28/50\n",
      "1037/1037 [==============================] - 3s 3ms/step - loss: 0.4235 - accuracy: 0.8560 - val_loss: 0.4233 - val_accuracy: 0.8579\n",
      "Epoch 29/50\n",
      "1037/1037 [==============================] - 3s 3ms/step - loss: 0.4205 - accuracy: 0.8571 - val_loss: 0.4206 - val_accuracy: 0.8611\n",
      "Epoch 30/50\n",
      "1037/1037 [==============================] - 3s 2ms/step - loss: 0.4151 - accuracy: 0.8576 - val_loss: 0.4280 - val_accuracy: 0.8582\n",
      "Epoch 31/50\n",
      "1037/1037 [==============================] - 2s 2ms/step - loss: 0.4159 - accuracy: 0.8587 - val_loss: 0.4176 - val_accuracy: 0.8619\n",
      "Epoch 32/50\n",
      "1037/1037 [==============================] - 2s 2ms/step - loss: 0.4132 - accuracy: 0.8593 - val_loss: 0.4155 - val_accuracy: 0.8630\n",
      "Epoch 33/50\n",
      "1037/1037 [==============================] - 2s 2ms/step - loss: 0.4099 - accuracy: 0.8601 - val_loss: 0.4290 - val_accuracy: 0.8571\n",
      "Epoch 34/50\n",
      "1037/1037 [==============================] - 2s 2ms/step - loss: 0.4074 - accuracy: 0.8614 - val_loss: 0.4248 - val_accuracy: 0.8638\n",
      "Epoch 35/50\n",
      "1037/1037 [==============================] - 2s 2ms/step - loss: 0.4020 - accuracy: 0.8632 - val_loss: 0.4226 - val_accuracy: 0.8657\n",
      "Epoch 36/50\n",
      "1037/1037 [==============================] - 2s 2ms/step - loss: 0.4051 - accuracy: 0.8635 - val_loss: 0.4186 - val_accuracy: 0.8655\n",
      "Epoch 37/50\n",
      "1037/1037 [==============================] - 2s 2ms/step - loss: 0.4023 - accuracy: 0.8635 - val_loss: 0.4228 - val_accuracy: 0.8587\n",
      "Epoch 38/50\n",
      "1037/1037 [==============================] - 2s 2ms/step - loss: 0.4006 - accuracy: 0.8633 - val_loss: 0.4241 - val_accuracy: 0.8638\n",
      "Epoch 39/50\n",
      "1037/1037 [==============================] - 3s 2ms/step - loss: 0.4011 - accuracy: 0.8636 - val_loss: 0.4185 - val_accuracy: 0.8638\n",
      "Epoch 40/50\n",
      "1037/1037 [==============================] - 2s 2ms/step - loss: 0.3950 - accuracy: 0.8651 - val_loss: 0.4235 - val_accuracy: 0.8628\n",
      "Epoch 41/50\n",
      "1037/1037 [==============================] - 2s 2ms/step - loss: 0.3951 - accuracy: 0.8659 - val_loss: 0.4141 - val_accuracy: 0.8649\n",
      "Epoch 42/50\n",
      "1037/1037 [==============================] - 2s 2ms/step - loss: 0.3972 - accuracy: 0.8664 - val_loss: 0.4126 - val_accuracy: 0.8660\n",
      "Epoch 43/50\n",
      "1037/1037 [==============================] - 3s 2ms/step - loss: 0.3926 - accuracy: 0.8673 - val_loss: 0.4126 - val_accuracy: 0.8641\n",
      "Epoch 44/50\n",
      "1037/1037 [==============================] - 2s 2ms/step - loss: 0.3896 - accuracy: 0.8676 - val_loss: 0.4205 - val_accuracy: 0.8614\n",
      "Epoch 45/50\n",
      "1037/1037 [==============================] - 2s 2ms/step - loss: 0.3871 - accuracy: 0.8700 - val_loss: 0.4067 - val_accuracy: 0.8671\n",
      "Epoch 46/50\n",
      "1037/1037 [==============================] - 2s 2ms/step - loss: 0.3849 - accuracy: 0.8700 - val_loss: 0.4130 - val_accuracy: 0.8668\n",
      "Epoch 47/50\n",
      "1037/1037 [==============================] - 2s 2ms/step - loss: 0.3883 - accuracy: 0.8676 - val_loss: 0.4107 - val_accuracy: 0.8685\n",
      "Epoch 48/50\n",
      "1037/1037 [==============================] - 2s 2ms/step - loss: 0.3820 - accuracy: 0.8683 - val_loss: 0.4083 - val_accuracy: 0.8687\n",
      "Epoch 49/50\n",
      "1037/1037 [==============================] - 2s 2ms/step - loss: 0.3823 - accuracy: 0.8698 - val_loss: 0.4081 - val_accuracy: 0.8679\n",
      "Epoch 50/50\n",
      "1037/1037 [==============================] - 2s 2ms/step - loss: 0.3811 - accuracy: 0.8704 - val_loss: 0.4106 - val_accuracy: 0.8709\n"
     ]
    }
   ],
   "source": [
    "history = model.fit(x_train_scaled, y_train, batch_size=32, epochs=50, validation_data=(x_test_scaled, y_test), verbose=1)"
   ]
  },
  {
   "cell_type": "code",
   "execution_count": 126,
   "metadata": {},
   "outputs": [
    {
     "data": {
      "image/png": "[encoded data removed]",
      "text/plain": [
       "<Figure size 640x480 with 1 Axes>"
      ]
     },
     "metadata": {},
     "output_type": "display_data"
    }
   ],
   "source": [
    "plt.plot(history.history['loss'], color='g', label='Training Loss')\n",
    "plt.plot(history.history['val_loss'], color='b', label='Validation Loss')\n",
    "plt.title(\"Loss vs Val Loss\")\n",
    "plt.legend()\n",
    "plt.show()"
   ]
  },
  {
   "cell_type": "code",
   "execution_count": 127,
   "metadata": {},
   "outputs": [
    {
     "data": {
      "image/png": "[encoded data removed]",
      "text/plain": [
       "<Figure size 640x480 with 1 Axes>"
      ]
     },
     "metadata": {},
     "output_type": "display_data"
    }
   ],
   "source": [
    "plt.plot(history.history['accuracy'], color='g', label='Training Loss')\n",
    "plt.plot(history.history['val_accuracy'], color='b', label='Validation Loss')\n",
    "plt.title(\"Accuracy vs Val Accuracy\")\n",
    "plt.legend()\n",
    "plt.show()"
   ]
  },
  {
   "cell_type": "code",
   "execution_count": 128,
   "metadata": {},
   "outputs": [
    {
     "name": "stdout",
     "output_type": "stream",
     "text": [
      "116/116 [==============================] - 0s 1ms/step\n",
      "              precision    recall  f1-score   support\n",
      "\n",
      "           0       0.99      0.99      0.99      1287\n",
      "           1       0.86      0.93      0.89      1593\n",
      "           2       0.00      0.00      0.00        49\n",
      "           4       0.71      0.48      0.57       105\n",
      "           5       0.60      0.52      0.56       243\n",
      "           6       0.00      0.00      0.00         2\n",
      "           7       0.67      0.67      0.67         3\n",
      "           8       1.00      0.03      0.07        59\n",
      "           9       0.73      0.77      0.75       346\n",
      "\n",
      "    accuracy                           0.87      3687\n",
      "   macro avg       0.62      0.49      0.50      3687\n",
      "weighted avg       0.86      0.87      0.86      3687\n",
      "\n"
     ]
    },
    {
     "name": "stderr",
     "output_type": "stream",
     "text": [
      "c:\\Users\\nurka\\.conda\\envs\\Tensor\\lib\\site-packages\\sklearn\\metrics\\_classification.py:1318: UndefinedMetricWarning: Precision and F-score are ill-defined and being set to 0.0 in labels with no predicted samples. Use `zero_division` parameter to control this behavior.\n",
      "  _warn_prf(average, modifier, msg_start, len(result))\n",
      "c:\\Users\\nurka\\.conda\\envs\\Tensor\\lib\\site-packages\\sklearn\\metrics\\_classification.py:1318: UndefinedMetricWarning: Precision and F-score are ill-defined and being set to 0.0 in labels with no predicted samples. Use `zero_division` parameter to control this behavior.\n",
      "  _warn_prf(average, modifier, msg_start, len(result))\n",
      "c:\\Users\\nurka\\.conda\\envs\\Tensor\\lib\\site-packages\\sklearn\\metrics\\_classification.py:1318: UndefinedMetricWarning: Precision and F-score are ill-defined and being set to 0.0 in labels with no predicted samples. Use `zero_division` parameter to control this behavior.\n",
      "  _warn_prf(average, modifier, msg_start, len(result))\n"
     ]
    }
   ],
   "source": [
    "from sklearn.metrics import classification_report\n",
    "\n",
    "y_pred = np.argmax(model.predict(x_test_scaled), axis=1)\n",
    "print(classification_report(y_test, y_pred))"
   ]
  },
  {
   "cell_type": "code",
   "execution_count": 130,
   "metadata": {},
   "outputs": [],
   "source": [
    "# model.save('classification.h5')"
   ]
  }
 ],
 "metadata": {
  "kernelspec": {
   "display_name": "Tensor",
   "language": "python",
   "name": "python3"
  },
  "language_info": {
   "codemirror_mode": {
    "name": "ipython",
    "version": 3
   },
   "file_extension": ".py",
   "mimetype": "text/x-python",
   "name": "python",
   "nbconvert_exporter": "python",
   "pygments_lexer": "ipython3",
   "version": "3.7.16"
  }
 },
 "nbformat": 4,
 "nbformat_minor": 2
}
